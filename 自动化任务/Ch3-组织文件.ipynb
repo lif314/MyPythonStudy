{
 "cells": [
  {
   "cell_type": "markdown",
   "metadata": {},
   "source": [
    "# <center> Ch3 - 组织文件"
   ]
  },
  {
   "cell_type": "markdown",
   "metadata": {},
   "source": [
    "- 复制\n",
    "- 改名\n",
    "- 移动\n",
    "- 压缩"
   ]
  },
  {
   "cell_type": "markdown",
   "metadata": {},
   "source": [
    "## 1. shutil模块(shell工具)"
   ]
  },
  {
   "cell_type": "markdown",
   "metadata": {},
   "source": [
    "### 复制文件和文件夹\n",
    "- shutil.copy(source,destination):将路径source处文件赋值到路径destination处的文件夹中，如果destination是文件名，则作为被复制文件的新名字。返回字符串，新复制文件的路径\n",
    "- shutil.copytree(source,destination):复制整个文件夹。destination若不存在，则创建新的"
   ]
  },
  {
   "cell_type": "code",
   "execution_count": 7,
   "metadata": {},
   "outputs": [
    {
     "data": {
      "text/plain": [
       "'./newTestFile/hello.txt'"
      ]
     },
     "execution_count": 7,
     "metadata": {},
     "output_type": "execute_result"
    }
   ],
   "source": [
    "import shutil,os\n",
    "shutil.copy('./testFile/hello.txt', './newTestFile/hello.txt')   # 必须保证文件目录是存在的"
   ]
  },
  {
   "cell_type": "code",
   "execution_count": 8,
   "metadata": {},
   "outputs": [
    {
     "data": {
      "text/plain": [
       "'./newTestFile/testFile'"
      ]
     },
     "execution_count": 8,
     "metadata": {},
     "output_type": "execute_result"
    }
   ],
   "source": [
    "import shutil\n",
    "shutil.copytree('./testFile', './newTestFile/testFile')"
   ]
  },
  {
   "cell_type": "markdown",
   "metadata": {},
   "source": [
    "### 文件和文件夹的移动和改名\n",
    "- shutil.move(source, destination):返沪新位置绝对路径的字符串。如果已存在，则覆盖；构成目的地的文件夹必须存在，文件名可以修改"
   ]
  },
  {
   "cell_type": "code",
   "execution_count": 13,
   "metadata": {},
   "outputs": [
    {
     "data": {
      "text/plain": [
       "'./testFile\\\\testFile'"
      ]
     },
     "execution_count": 13,
     "metadata": {},
     "output_type": "execute_result"
    }
   ],
   "source": [
    "import shutil\n",
    "shutil.move('./newTestFile/testFile', './testFile')"
   ]
  },
  {
   "cell_type": "markdown",
   "metadata": {},
   "source": [
    "### 永久删除文件和文件夹\n",
    "- os.unlink(path):删除path处文件\n",
    "- os.rmdir(path):删除path处的空文件夹\n",
    "- shutil.rmtree(path):删除path处的文件夹，包含所有文件的文件夹 --- 不可恢复！！！\n",
    "- 慎重使用！！！"
   ]
  },
  {
   "cell_type": "code",
   "execution_count": 16,
   "metadata": {},
   "outputs": [
    {
     "name": "stdout",
     "output_type": "stream",
     "text": [
      "bacon.txt\n",
      "hello.txt\n"
     ]
    }
   ],
   "source": [
    "import os\n",
    "for filename in os.listdir('./testFile'):\n",
    "    if filename.endswith('.txt'):\n",
    "        # os.unlink(filename)     # 先注释，确定后再执行\n",
    "        print(filename)"
   ]
  },
  {
   "cell_type": "markdown",
   "metadata": {},
   "source": [
    "### 用send2trash模块安全地删除\n",
    "- send2trash.send2trash(path):移动到垃圾箱或或回收站，不会释放磁盘空间"
   ]
  },
  {
   "cell_type": "code",
   "execution_count": 18,
   "metadata": {},
   "outputs": [],
   "source": [
    "# !pip install send2trash\n",
    "import send2trash\n",
    "baconFile = open('bacon.txt','a')\n",
    "baconFile.write('Bacon is not good.')\n",
    "\n",
    "baconFile.close()\n",
    "send2trash.send2trash('bacon.txt')"
   ]
  },
  {
   "cell_type": "markdown",
   "metadata": {},
   "source": [
    "## 2. 遍历目录树\n",
    "- os.walk(path):传入文件路径，返回字符串列表，三个值\n",
    "    - foldname:当前文件夹名称的字符串\n",
    "    - subfoolders:当前文件夹中子文件夹的字符串列表\n",
    "    - filenames:当前文件夹中文件的字符串列表"
   ]
  },
  {
   "cell_type": "code",
   "execution_count": 20,
   "metadata": {},
   "outputs": [
    {
     "name": "stdout",
     "output_type": "stream",
     "text": [
      "The current folder is ./testFile\n",
      "subfolder of ./testFile: testFile\n",
      "filename of ./testFile: bacon.txt\n",
      "filename of ./testFile: hello.txt\n",
      "filename of ./testFile: mydata.bak\n",
      "filename of ./testFile: mydata.dat\n",
      "filename of ./testFile: mydata.dir\n",
      "The current folder is ./testFile\\testFile\n",
      "filename of ./testFile\\testFile: bacon.txt\n",
      "filename of ./testFile\\testFile: hello.txt\n",
      "filename of ./testFile\\testFile: mydata.bak\n",
      "filename of ./testFile\\testFile: mydata.dat\n",
      "filename of ./testFile\\testFile: mydata.dir\n"
     ]
    }
   ],
   "source": [
    "import os\n",
    "\n",
    "for folderName, subfolders, filenames in os.walk('./testFile'):   # 递归列表\n",
    "    print('The current folder is ' + folderName)\n",
    "    \n",
    "    for subfolder in subfolders:\n",
    "        print('subfolder of ' + folderName + ': ' + subfolder)\n",
    "    for filename in filenames:\n",
    "        print('filename of ' + folderName + ': ' + filename)"
   ]
  },
  {
   "cell_type": "markdown",
   "metadata": {},
   "source": [
    "## 3. 用zipfile模块压缩文件"
   ]
  },
  {
   "cell_type": "markdown",
   "metadata": {},
   "source": [
    "### 读取zip文件"
   ]
  },
  {
   "cell_type": "code",
   "execution_count": null,
   "metadata": {},
   "outputs": [],
   "source": []
  },
  {
   "cell_type": "code",
   "execution_count": null,
   "metadata": {},
   "outputs": [],
   "source": []
  },
  {
   "cell_type": "code",
   "execution_count": null,
   "metadata": {},
   "outputs": [],
   "source": []
  },
  {
   "cell_type": "markdown",
   "metadata": {},
   "source": [
    "### 从zip文件中解压缩"
   ]
  },
  {
   "cell_type": "code",
   "execution_count": null,
   "metadata": {},
   "outputs": [],
   "source": []
  },
  {
   "cell_type": "code",
   "execution_count": null,
   "metadata": {},
   "outputs": [],
   "source": []
  },
  {
   "cell_type": "code",
   "execution_count": null,
   "metadata": {},
   "outputs": [],
   "source": []
  },
  {
   "cell_type": "markdown",
   "metadata": {},
   "source": [
    "### 创建和添加到zip文件"
   ]
  },
  {
   "cell_type": "code",
   "execution_count": null,
   "metadata": {},
   "outputs": [],
   "source": []
  },
  {
   "cell_type": "code",
   "execution_count": null,
   "metadata": {},
   "outputs": [],
   "source": []
  },
  {
   "cell_type": "code",
   "execution_count": null,
   "metadata": {},
   "outputs": [],
   "source": []
  },
  {
   "cell_type": "markdown",
   "metadata": {},
   "source": [
    "## 4. 项目：将带有美国风格日期的文件名改名为欧洲风格日期"
   ]
  },
  {
   "cell_type": "code",
   "execution_count": null,
   "metadata": {},
   "outputs": [],
   "source": [
    "# 第1步：为美国风格的日期创建一个正则表达式"
   ]
  },
  {
   "cell_type": "code",
   "execution_count": null,
   "metadata": {},
   "outputs": [],
   "source": [
    "# 第2步：识别文件名的日期部分"
   ]
  },
  {
   "cell_type": "code",
   "execution_count": null,
   "metadata": {},
   "outputs": [],
   "source": [
    "# 第3步：构成新文件名，并对文件改名"
   ]
  },
  {
   "cell_type": "markdown",
   "metadata": {},
   "source": [
    "**第4步：类似程序的想法**\n",
    "- 为文件名添加前缀，诸如spam_,将eggs.txt改名为spam_eggs.txt\n",
    "- 将欧洲风格日期的文件名改为美国风格日期\n",
    "- 删除文件名中的0，诸如spam0042.txt"
   ]
  },
  {
   "cell_type": "markdown",
   "metadata": {},
   "source": [
    "## 5. 项目：将一个文件夹备份到一个ZIP文件"
   ]
  },
  {
   "cell_type": "code",
   "execution_count": null,
   "metadata": {},
   "outputs": [],
   "source": [
    "# 第1步：弄清除ZIP文件的名称"
   ]
  },
  {
   "cell_type": "code",
   "execution_count": null,
   "metadata": {},
   "outputs": [],
   "source": [
    "# 第2步：创建新的ZIP文件"
   ]
  },
  {
   "cell_type": "code",
   "execution_count": null,
   "metadata": {},
   "outputs": [],
   "source": [
    "# 第3步：遍历目录树并添加到ZIP文件"
   ]
  },
  {
   "cell_type": "markdown",
   "metadata": {},
   "source": [
    "**第4步：类似程序的想法**\n",
    "- 遍历一个目录树，将特定扩展名的文件归档，诸如.txt或.py,并排除其他文件\n",
    "- 遍历一个目录树，将除.txt和.py以外的其他文件归档\n",
    "- 在一个目录树中查找文件夹，它包含的文件数最多，或者使用磁盘空间最大"
   ]
  },
  {
   "cell_type": "markdown",
   "metadata": {},
   "source": [
    "## 6. 实践项目"
   ]
  },
  {
   "cell_type": "markdown",
   "metadata": {},
   "source": [
    "### 选择性拷贝"
   ]
  },
  {
   "cell_type": "code",
   "execution_count": null,
   "metadata": {},
   "outputs": [],
   "source": []
  },
  {
   "cell_type": "code",
   "execution_count": null,
   "metadata": {},
   "outputs": [],
   "source": []
  },
  {
   "cell_type": "code",
   "execution_count": null,
   "metadata": {},
   "outputs": [],
   "source": []
  },
  {
   "cell_type": "code",
   "execution_count": null,
   "metadata": {},
   "outputs": [],
   "source": []
  },
  {
   "cell_type": "markdown",
   "metadata": {},
   "source": [
    "### 删除不需要的文件"
   ]
  },
  {
   "cell_type": "code",
   "execution_count": null,
   "metadata": {},
   "outputs": [],
   "source": []
  },
  {
   "cell_type": "code",
   "execution_count": null,
   "metadata": {},
   "outputs": [],
   "source": []
  },
  {
   "cell_type": "code",
   "execution_count": null,
   "metadata": {},
   "outputs": [],
   "source": []
  },
  {
   "cell_type": "markdown",
   "metadata": {},
   "source": [
    "### 消除缺失的编号"
   ]
  },
  {
   "cell_type": "code",
   "execution_count": null,
   "metadata": {},
   "outputs": [],
   "source": []
  },
  {
   "cell_type": "code",
   "execution_count": null,
   "metadata": {},
   "outputs": [],
   "source": []
  },
  {
   "cell_type": "code",
   "execution_count": null,
   "metadata": {},
   "outputs": [],
   "source": []
  },
  {
   "cell_type": "code",
   "execution_count": null,
   "metadata": {},
   "outputs": [],
   "source": []
  }
 ],
 "metadata": {
  "kernelspec": {
   "display_name": "Python 3",
   "language": "python",
   "name": "python3"
  },
  "language_info": {
   "codemirror_mode": {
    "name": "ipython",
    "version": 3
   },
   "file_extension": ".py",
   "mimetype": "text/x-python",
   "name": "python",
   "nbconvert_exporter": "python",
   "pygments_lexer": "ipython3",
   "version": "3.8.5"
  }
 },
 "nbformat": 4,
 "nbformat_minor": 4
}
