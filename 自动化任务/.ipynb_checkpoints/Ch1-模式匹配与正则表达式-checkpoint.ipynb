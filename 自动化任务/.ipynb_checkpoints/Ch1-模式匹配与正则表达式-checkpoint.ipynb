{
 "cells": [
  {
   "cell_type": "markdown",
   "metadata": {},
   "source": [
    "# <center> Ch1-模式匹配与正则表达式"
   ]
  },
  {
   "cell_type": "markdown",
   "metadata": {},
   "source": [
    "## 1. 不用正则表达式来查找文本模式\n",
    "- isPhoneNumber:414-222-1313"
   ]
  },
  {
   "cell_type": "code",
   "execution_count": 1,
   "metadata": {},
   "outputs": [
    {
     "name": "stdout",
     "output_type": "stream",
     "text": [
      "True\n",
      "False\n"
     ]
    }
   ],
   "source": [
    "def isPhoneNumber(text):\n",
    "    if len(text) != 12:\n",
    "        return False\n",
    "    for i in range(0,3):\n",
    "        if not text[i].isdecimal():\n",
    "            return False\n",
    "    if text[3] != '-':\n",
    "        return False\n",
    "    for i in range(4,7):\n",
    "        if not text[i].isdecimal():\n",
    "            return False\n",
    "    if text[7] != '-':\n",
    "        return False\n",
    "    for i in range(8,12):\n",
    "        if not text[i].isdecimal():\n",
    "            return False\n",
    "    return True\n",
    "\n",
    "print(isPhoneNumber('123-343-4232'))\n",
    "print(isPhoneNumber('2332-121-121'))"
   ]
  },
  {
   "cell_type": "code",
   "execution_count": 3,
   "metadata": {},
   "outputs": [
    {
     "name": "stdout",
     "output_type": "stream",
     "text": [
      "Phone number found: 422-343-2323\n",
      "Phone number found: 424-343-2322\n",
      "Done\n"
     ]
    }
   ],
   "source": [
    "# 在文本中查找\n",
    "message = 'Call me at 422-343-2323 tomorrow. 424-343-2322 is my office.'\n",
    "\n",
    "for i in range(len(message)):\n",
    "    chunk = message[i:i+12]      # 切片\n",
    "    if isPhoneNumber(chunk):\n",
    "        print('Phone number found: ' + chunk)\n",
    "        \n",
    "print('Done')"
   ]
  },
  {
   "cell_type": "markdown",
   "metadata": {},
   "source": [
    "## 2. 用正则表达式查找文本模式\n",
    "- 正则表达式，regex，是文本模式的描述方法"
   ]
  },
  {
   "cell_type": "markdown",
   "metadata": {},
   "source": [
    "### 创建正则表达式对象\n",
    "- 所有正则表达式的函数都需要re模块\n",
    "- re.compile()传入一个字符串值，表示正则表达式，它将返回一个Regex模式对象(regex对象)"
   ]
  },
  {
   "cell_type": "code",
   "execution_count": 5,
   "metadata": {},
   "outputs": [],
   "source": [
    "import re\n",
    "phoneNumRegex = re.compile(r'\\d\\d\\d-\\d\\d\\d-\\d\\d\\d\\d')  # \\d --- 一个数字   传入原始字符串"
   ]
  },
  {
   "cell_type": "markdown",
   "metadata": {},
   "source": [
    "### 匹配Regex对象\n",
    "- Regex对象的search()方法查找传入的字符串，寻找该正则表达式的所有匹配。\n",
    "- 如果不存在匹配，返回None；如果存在，返回Match对象\n",
    "- Match对象有group()方法，返回被查找字符串中实际匹配的文本\n",
    "\n",
    "- 正则表达式匹配步骤：\n",
    "    - 用import re导入正则表达式模块\n",
    "    - 用re.compile()函数创建一个Regex对象(记得使用原始字符串)\n",
    "    - 向Regex对象的search()方法传入想查找的字符，它返回一个Match对象\n",
    "    - 调用Match对象的group()方法，返回实际匹配文本的字符串"
   ]
  },
  {
   "cell_type": "code",
   "execution_count": 6,
   "metadata": {},
   "outputs": [
    {
     "name": "stdout",
     "output_type": "stream",
     "text": [
      "Phone Number Found: 223-343-2323\n"
     ]
    }
   ],
   "source": [
    "mo = phoneNumRegex.search('My number is 223-343-2323.')   # mo --- Match对象的通用名称\n",
    "print('Phone Number Found: ' + mo.group())"
   ]
  },
  {
   "cell_type": "markdown",
   "metadata": {},
   "source": [
    "## 3. 用正则表达式匹配更多模式"
   ]
  },
  {
   "cell_type": "markdown",
   "metadata": {},
   "source": [
    "### 利用括号分组\n",
    "- 添加括号将在Regex中创建分组，可以使用group()匹配对象方法，从一个分组中获取匹配的文本\n",
    "- 向group()方法传入参数0或者不传入参数，将返回整个匹配的文本\n",
    "- groups():依次获得所有的分组,返回多个值的元组\n",
    "- 可用\\对特殊字符进行转义"
   ]
  },
  {
   "cell_type": "code",
   "execution_count": 11,
   "metadata": {},
   "outputs": [
    {
     "name": "stdout",
     "output_type": "stream",
     "text": [
      "233-232-2321\n",
      "233-232-2321\n",
      "233\n",
      "232-2321\n",
      "('233', '232-2321')\n",
      "233\n",
      "232-2321\n"
     ]
    }
   ],
   "source": [
    "import re\n",
    "phoneNumRegex = re.compile(r'(\\d\\d\\d)-(\\d\\d\\d-\\d\\d\\d\\d)')\n",
    "mo = phoneNumRegex.search('My number is 233-232-2321')\n",
    "print(mo.group())\n",
    "print(mo.group(0))\n",
    "print(mo.group(1))    # 开始下标为1\n",
    "print(mo.group(2))\n",
    "\n",
    "# 依次获得所有的分组,返回多个值的元组\n",
    "print(mo.groups())\n",
    "\n",
    "# 多重赋值\n",
    "areaCode, mainNumber = mo.groups()\n",
    "print(areaCode)\n",
    "print(mainNumber)"
   ]
  },
  {
   "cell_type": "markdown",
   "metadata": {},
   "source": [
    "### 用管道匹配多个分组\n",
    "- | -- 管道：匹配多个表达式中一个。同时出现时，匹配第一次出现作为Match对象返回\n",
    "- findall() -- 找出所有匹配\n",
    "- 匹配多个模式中的一个"
   ]
  },
  {
   "cell_type": "code",
   "execution_count": 12,
   "metadata": {},
   "outputs": [
    {
     "name": "stdout",
     "output_type": "stream",
     "text": [
      "Batman \n"
     ]
    }
   ],
   "source": [
    "heroRegex = re.compile(r'Batman | Tina Fey')\n",
    "mo1 = heroRegex.search('Batman and Tina Fey')\n",
    "print(mo1.group())"
   ]
  },
  {
   "cell_type": "code",
   "execution_count": 14,
   "metadata": {},
   "outputs": [
    {
     "name": "stdout",
     "output_type": "stream",
     "text": [
      "Batman\n",
      "man\n"
     ]
    }
   ],
   "source": [
    "# 只指定依次前缀\n",
    "batRegex = re.compile(r'Bat(man|mobile|copter|bat)')\n",
    "mo = batRegex.search('Batman and Batmobile lost a wheel.')\n",
    "print(mo.group())\n",
    "print(mo.group(1))  # 只返回括号分组内的值"
   ]
  },
  {
   "cell_type": "markdown",
   "metadata": {},
   "source": [
    "### 用问号实现可选匹配\n",
    "- (content)？--- 出现零次或一次\n",
    "- \\\\? 转义"
   ]
  },
  {
   "cell_type": "code",
   "execution_count": 16,
   "metadata": {},
   "outputs": [
    {
     "name": "stdout",
     "output_type": "stream",
     "text": [
      "Batman\n",
      "Batwoman\n"
     ]
    }
   ],
   "source": [
    "batRegex = re.compile(r'Bat(wo)?man')\n",
    "mo1 = batRegex.search('The Adventures of Batman.')\n",
    "print(mo1.group())\n",
    "\n",
    "mo2 = batRegex.search('The Adventures of Batwoman.')\n",
    "print(mo2.group())"
   ]
  },
  {
   "cell_type": "code",
   "execution_count": 18,
   "metadata": {},
   "outputs": [
    {
     "name": "stdout",
     "output_type": "stream",
     "text": [
      "232-234-2323\n",
      "234-2323\n"
     ]
    }
   ],
   "source": [
    "# 电话号码匹配 --- 区号是可选的\n",
    "\n",
    "phoneRegex = re.compile(r'(\\d\\d\\d-)?\\d\\d\\d-\\d\\d\\d\\d')\n",
    "mo1 = phoneRegex.search('My number is 232-234-2323')\n",
    "print(mo1.group())\n",
    "\n",
    "mo2 = phoneRegex.search('My number is 234-2323')\n",
    "print(mo2.group())"
   ]
  },
  {
   "cell_type": "markdown",
   "metadata": {},
   "source": [
    "### 用*匹配零次或多次"
   ]
  },
  {
   "cell_type": "code",
   "execution_count": 20,
   "metadata": {},
   "outputs": [
    {
     "name": "stdout",
     "output_type": "stream",
     "text": [
      "Batman\n",
      "Batwowowoman\n",
      "Batwoman\n"
     ]
    }
   ],
   "source": [
    "batRegex = re.compile(r'Bat(wo)*man')\n",
    "mo1 = batRegex.search('The Adventures of Batman.')\n",
    "print(mo1.group())\n",
    "\n",
    "mo2 = batRegex.search('The Adventures of Batwowowoman.')\n",
    "print(mo2.group())\n",
    "\n",
    "mo3 = batRegex.search('The Adventures of Batwoman.')\n",
    "print(mo3.group())"
   ]
  },
  {
   "cell_type": "markdown",
   "metadata": {},
   "source": [
    "### 用+匹配一次或多次"
   ]
  },
  {
   "cell_type": "code",
   "execution_count": 25,
   "metadata": {},
   "outputs": [
    {
     "name": "stdout",
     "output_type": "stream",
     "text": [
      "Batwowowoman\n",
      "Batwoman\n"
     ]
    }
   ],
   "source": [
    "batRegex = re.compile(r'Bat(wo)+man')\n",
    "mo1 = batRegex.search('The Adventures of Batman.')\n",
    "if mo1 != None:                    # 需要判断是否存在\n",
    "    print(mo1.group())\n",
    "\n",
    "mo2 = batRegex.search('The Adventures of Batwowowoman.')\n",
    "print(mo2.group())\n",
    "\n",
    "mo3 = batRegex.search('The Adventures of Batwoman.')\n",
    "print(mo3.group())"
   ]
  },
  {
   "cell_type": "markdown",
   "metadata": {},
   "source": [
    "### 用{}匹配特定次数\n",
    "- (ha){3}:特定次数\n",
    "- (ha){1,3}:匹配次数范围\n",
    "- (ha){2,}:至少两次\n",
    "- (ha){,3}:至多3次\n",
    "- 贪心和非贪心匹配\n",
    "    - 贪心：尽可能匹配最长的字符串，默认贪心\n",
    "    - 非贪心：尽可能匹配最短的字符串，(ha){3,5}? 非贪心\n",
    "    - ？二义性：声明非贪心匹配或表示可选分组"
   ]
  },
  {
   "cell_type": "code",
   "execution_count": 44,
   "metadata": {},
   "outputs": [
    {
     "name": "stdout",
     "output_type": "stream",
     "text": [
      "Batman\n",
      "Batwowowoman\n",
      "Batwoman\n"
     ]
    }
   ],
   "source": [
    "batRegex = re.compile(r'Bat(wo){,3}man')   # 匹配0，1，2，3次    ！！！！ 注意符号中英文\n",
    "mo1 = batRegex.search('The Adventures of Batman.')\n",
    "if mo1 != None:                    # 需要判断是否存在\n",
    "    print(mo1.group())\n",
    "\n",
    "mo2 = batRegex.search('The Adventures of Batwowowoman.')\n",
    "print(mo2.group())\n",
    "\n",
    "mo3 = batRegex.search('The Adventures of Batwoman.')\n",
    "print(mo3.group())"
   ]
  },
  {
   "cell_type": "markdown",
   "metadata": {},
   "source": [
    "## 4.findall()方法\n",
    "- Regex对象方法：\n",
    "    -  search():返回第一次匹配的Match对象\n",
    "    - findall():返回一组字符串列表，包含所有匹配\n",
    "- findall()返回值：\n",
    "    - 如果调用没有分组的Regex,返回字符串的列表\n",
    "    - 如果调用分组的Regex,返回字符串的元组的列表"
   ]
  },
  {
   "cell_type": "code",
   "execution_count": 50,
   "metadata": {},
   "outputs": [
    {
     "name": "stdout",
     "output_type": "stream",
     "text": [
      "132-232-2323\n",
      "['132-232-2323', '123-332-2344']\n",
      "[('132', '232', '2323'), ('123', '332', '2344')]\n"
     ]
    }
   ],
   "source": [
    "phoneNumRegex = re.compile(r'\\d\\d\\d-\\d\\d\\d-\\d\\d\\d\\d')\n",
    "mo = phoneNumRegex.search('Cell:132-232-2323 Work:123-332-2344')  # Match对象\n",
    "print(mo.group())\n",
    "\n",
    "print(phoneNumRegex.findall('Cell:132-232-2323 Work:123-332-2344'))   # 字符串列表\n",
    "\n",
    "NewPhoneNumRegex = re.compile(r'(\\d\\d\\d)-(\\d\\d\\d)-(\\d\\d\\d\\d)')\n",
    "print(NewPhoneNumRegex.findall('Cell:132-232-2323 Work:123-332-2344'))  # 字符串的元组列表"
   ]
  },
  {
   "cell_type": "markdown",
   "metadata": {},
   "source": [
    "## 5. 字符分类\n",
    "- \\\\d --- 0-9任意数字\n",
    "- \\\\D --- 除0-9外任何字符\n",
    "- \\\\w --- 任何字母、数字、下划线\n",
    "- \\\\W --- 除字母、数字、下划线外任何字符\n",
    "- \\\\s --- 空格、制表符、换行符\n",
    "- \\\\S --- 除空格、制表符、换行符外任何字符\n",
    "- [0-5] --- 只匹配0-5数字"
   ]
  },
  {
   "cell_type": "code",
   "execution_count": 52,
   "metadata": {},
   "outputs": [
    {
     "name": "stdout",
     "output_type": "stream",
     "text": [
      "['12 drummers', '11 pipers', '10 lords']\n"
     ]
    }
   ],
   "source": [
    "xmasRegex = re.compile(r'\\d+\\s\\w+')   # 一个或多个数字 一个空白字符 一个或多个单词字符\n",
    "print(xmasRegex.findall('12 drummers, 11 pipers, 10 lords'))"
   ]
  },
  {
   "cell_type": "markdown",
   "metadata": {},
   "source": [
    "## 6.建立自己的字符分类\n",
    "- []-- 定义字符分类\n",
    "- [-] -- 短横表示字母或数字范围 \n",
    "- 在[]中，普通的正则表达式符号不会被解释，不需要转义\n",
    "- [^] -- 取逆操作:只在[]中是该含义"
   ]
  },
  {
   "cell_type": "code",
   "execution_count": 54,
   "metadata": {},
   "outputs": [
    {
     "data": {
      "text/plain": [
       "['o', 'o', 'a', 'i', 'a']"
      ]
     },
     "execution_count": 54,
     "metadata": {},
     "output_type": "execute_result"
    }
   ],
   "source": [
    "# 匹配所有元音字母\n",
    "vowelRegex = re.compile(r'[aeiouAEIOU]')\n",
    "vowelRegex.findall('Roll Bob Cnady China')"
   ]
  },
  {
   "cell_type": "code",
   "execution_count": 55,
   "metadata": {},
   "outputs": [
    {
     "data": {
      "text/plain": [
       "['h', 'e', 'l', 'l', 'a', '0', 'q', '8', '3', 'a', 's', 'a', 's', '3', '4']"
      ]
     },
     "execution_count": 55,
     "metadata": {},
     "output_type": "execute_result"
    }
   ],
   "source": [
    "# 匹配所有字母、数字\n",
    "digitPhaReget = re.compile(r'[a-zA-Z0-9]')\n",
    "digitPhaReget.findall('hella @ # 0q83  $ % asas34%')"
   ]
  },
  {
   "cell_type": "code",
   "execution_count": 59,
   "metadata": {},
   "outputs": [
    {
     "name": "stdout",
     "output_type": "stream",
     "text": [
      "[' ', '@', ' ', '#', ' ', ' ', ' ', '$', ' ', '%', ' ', '%']\n",
      "['R', 'l', 'l', ' ', 'B', 'b', ' ', 'C', 'n', 'd', 'y', ' ', 'C', 'h', 'n']\n"
     ]
    }
   ],
   "source": [
    "# 不匹配所有字母、数字\n",
    "digitPhaReget = re.compile(r'[^a-zA-Z0-9]')\n",
    "print(digitPhaReget.findall('hella @ # 0q83  $ % asas34%'))\n",
    "\n",
    "# 不匹配所有元音字母\n",
    "vowelRegex = re.compile(r'[^aeiouAEIOU]')\n",
    "print(vowelRegex.findall('Roll Bob Cnady China'))"
   ]
  },
  {
   "cell_type": "markdown",
   "metadata": {},
   "source": [
    "## 7. 开始结束字符\n",
    "- Regex开始处使用插入符号(^) --- 匹配字符必须在被查找文本的开始处\n",
    "- Regex结尾处使用美元符号(\\$) --- 该字符串必须以该正则表达式模式结束\n",
    "- 同时使用^和$ --- 整个字符串必须匹配该模式"
   ]
  },
  {
   "cell_type": "code",
   "execution_count": 5,
   "metadata": {},
   "outputs": [
    {
     "name": "stdout",
     "output_type": "stream",
     "text": [
      "Hello\n"
     ]
    }
   ],
   "source": [
    "import re\n",
    "beginsWithHello = re.compile(r'^Hello')\n",
    "mo = beginsWithHello.search('Hello World')\n",
    "print(mo.group())"
   ]
  },
  {
   "cell_type": "code",
   "execution_count": 8,
   "metadata": {},
   "outputs": [
    {
     "name": "stdout",
     "output_type": "stream",
     "text": [
      "3\n"
     ]
    }
   ],
   "source": [
    "endsWithNumber = re.compile(r'\\d$')\n",
    "mo = endsWithNumber.search('Hello World9503')\n",
    "print(mo.group())"
   ]
  },
  {
   "cell_type": "code",
   "execution_count": 10,
   "metadata": {},
   "outputs": [
    {
     "name": "stdout",
     "output_type": "stream",
     "text": [
      "9503\n"
     ]
    }
   ],
   "source": [
    "beginEndsWithNumber = re.compile(r'^\\d+$')\n",
    "mo = beginEndsWithNumber.search('9503')\n",
    "print(mo.group())"
   ]
  },
  {
   "cell_type": "markdown",
   "metadata": {},
   "source": [
    "## 8. 通配字符\n",
    "- .(句点) --- 匹配除行外所有字符\n",
    "- 一个句点匹配一个字符"
   ]
  },
  {
   "cell_type": "code",
   "execution_count": 11,
   "metadata": {},
   "outputs": [
    {
     "data": {
      "text/plain": [
       "['cat', 'cat', 'sat', 'lat']"
      ]
     },
     "execution_count": 11,
     "metadata": {},
     "output_type": "execute_result"
    }
   ],
   "source": [
    "atRegex = re.compile(r'.at')\n",
    "atRegex.findall('cat hcat sat on the flat')"
   ]
  },
  {
   "cell_type": "markdown",
   "metadata": {},
   "source": [
    "### 用.*匹配所有字符\n",
    "- 除换行外所有字符\n",
    "- 贪心模式：匹配尽可能多的文本\n",
    "- 非贪心模式：尽可能少的文本   ?"
   ]
  },
  {
   "cell_type": "code",
   "execution_count": 14,
   "metadata": {},
   "outputs": [
    {
     "name": "stdout",
     "output_type": "stream",
     "text": [
      "First Name: AI Last Name: Sweight\n",
      "AI\n",
      "Sweight\n"
     ]
    }
   ],
   "source": [
    "nameRegex = re.compile(r'First Name: (.*) Last Name: (.*)')\n",
    "mo = nameRegex.search('First Name: AI Last Name: Sweight')\n",
    "print(mo.group())\n",
    "print(mo.group(1))\n",
    "print(mo.group(2))"
   ]
  },
  {
   "cell_type": "code",
   "execution_count": 16,
   "metadata": {},
   "outputs": [
    {
     "name": "stdout",
     "output_type": "stream",
     "text": [
      "<To serve man> for dinner.>\n",
      "<To serve man>\n"
     ]
    }
   ],
   "source": [
    "# 贪心模式\n",
    "greedyRegex = re.compile(r'<.*>')\n",
    "mo = greedyRegex.search('<To serve man> for dinner.>')\n",
    "print(mo.group())\n",
    "\n",
    "# 非贪心模式\n",
    "nongreedyRegex = re.compile(r'<.*?>')\n",
    "mo = nongreedyRegex.search('<To serve man> for dinner.>')\n",
    "print(mo.group())"
   ]
  },
  {
   "cell_type": "markdown",
   "metadata": {},
   "source": [
    "### 用句点字符匹配换行\n",
    "- 通过传入re.DOTALL作为re.compile()的第二个参数，可以让句点字符匹配所有字符，包括换行符"
   ]
  },
  {
   "cell_type": "code",
   "execution_count": 19,
   "metadata": {},
   "outputs": [
    {
     "name": "stdout",
     "output_type": "stream",
     "text": [
      "Serve the public trust. \n",
      "Serve the public trust. \n",
      "Protect the innocent.\n",
      "\n"
     ]
    }
   ],
   "source": [
    "noNewlineRegex = re.compile(r'.*')   # 不匹配换行符\n",
    "mo = noNewlineRegex.search('Serve the public trust. \\nProtect the innocent.\\n')\n",
    "print(mo.group())\n",
    "\n",
    "newlineRegex = re.compile(r'.*', re.DOTALL)\n",
    "mo1 = newlineRegex.search('Serve the public trust. \\nProtect the innocent.\\n')\n",
    "print(mo1.group())"
   ]
  },
  {
   "cell_type": "markdown",
   "metadata": {},
   "source": [
    "## 9. 正则表达式符号复习\n",
    "- () --- 分组\n",
    "- ？ --- 匹配零次或一次前面的分组\n",
    "- * ---- 匹配零次或多次前面的分组\n",
    "- + ---- 匹配一次或多次前面的分组\n",
    "- {n} -- 匹配n次前面的分组\n",
    "- {n,} - 匹配n次或更多次前面的分组\n",
    "- {,m} - 匹配零次到m次前面的分组\n",
    "- {n,m}- 匹配至少n次、至多m次前面的分组\n",
    "- {n,m}?或*?或+？ --- 对前面分组进行非贪心匹配\n",
    "- ^spam --- 字符串必须以spam开头\n",
    "- spam$ --- 字符串必须以spam结尾\n",
    "- . --- 匹配除换行符外所有字符\n",
    "- \\d \\w \\s --- 匹配数字、单词、空格\n",
    "- \\D \\W \\S --- 匹配除数字、字母、空格外所有字符\n",
    "- [abc] --- 匹配[]中任意字符\n",
    "- [^abc] --- 匹配不在[]中任意字符"
   ]
  },
  {
   "cell_type": "markdown",
   "metadata": {},
   "source": [
    "## 10. 不区分大小写的匹配\n",
    "- 向re.compile()传入re.IGNORECASE或re.I作为第二个参数"
   ]
  },
  {
   "cell_type": "code",
   "execution_count": 20,
   "metadata": {},
   "outputs": [
    {
     "data": {
      "text/plain": [
       "'RoboCop'"
      ]
     },
     "execution_count": 20,
     "metadata": {},
     "output_type": "execute_result"
    }
   ],
   "source": [
    "robocop = re.compile(r'robocop', re.I)\n",
    "robocop.search('RoboCop is part man').group()"
   ]
  },
  {
   "cell_type": "markdown",
   "metadata": {},
   "source": [
    "## 11. 用sub()替换字符串\n",
    "- 将Regex找出的文本模式进行替换\n",
    "- Regex对象的sub()方法两个参数 --- 第一个是字符串，用于取代发现的匹配；第二个是字符串，是用Regex表达式匹配的内容\n",
    "- sub()返回替换完后的字符串\n",
    "- 在sub()第一个参数输入\\1,\\2,\\3表示在替换中输入分组1,2,3的文本"
   ]
  },
  {
   "cell_type": "code",
   "execution_count": 22,
   "metadata": {},
   "outputs": [
    {
     "data": {
      "text/plain": [
       "'CENSORED gave the secret document to CENSORED.'"
      ]
     },
     "execution_count": 22,
     "metadata": {},
     "output_type": "execute_result"
    }
   ],
   "source": [
    "# 替换字符\n",
    "namesRegex = re.compile(r'Agent \\w+')\n",
    "namesRegex.sub('CENSORED', 'Agent Alice gave the secret document to Agent Bob.')"
   ]
  },
  {
   "cell_type": "code",
   "execution_count": 24,
   "metadata": {},
   "outputs": [
    {
     "data": {
      "text/plain": [
       "'A**** gave the secret document to B****.'"
      ]
     },
     "execution_count": 24,
     "metadata": {},
     "output_type": "execute_result"
    }
   ],
   "source": [
    "# 隐藏文本中姓名，只显示第一个字符\n",
    "agentNamesRegex = re.compile(r'Agent (\\w)\\w*')\n",
    "agentNamesRegex.sub(r'\\1****', 'Agent Alice gave the secret document to Agent Bob.')  # \\1将由分组1匹配的文本替换"
   ]
  },
  {
   "cell_type": "markdown",
   "metadata": {},
   "source": [
    "## 12. 复杂与多参数\n",
    "- Regex放多行，并添加注释\n",
    "- re.compile()只接受一个作为第二参数，可以使用管道符(|)连接多个变量 --- 按位或\n",
    "- re.compile()参数：\n",
    "    - re,IGNORECASE:忽略大小写\n",
    "    - re.DOTALL:让句点字符匹配所有字符，包括换行符\n",
    "    - re.VERBOSE:在Regex中编写注释"
   ]
  },
  {
   "cell_type": "code",
   "execution_count": null,
   "metadata": {},
   "outputs": [],
   "source": [
    "# 不区分大小写，并且句点字符匹配所有字符和换行符\n",
    "someRegexValue = re.compile(r'foo', re.IGNORECASE | re.DOTALL)"
   ]
  },
  {
   "cell_type": "code",
   "execution_count": null,
   "metadata": {},
   "outputs": [],
   "source": [
    "# 使用所有参数\n",
    "someRegexValue = re.compile(r'foo', re.IGNORECASE | re.DOTALL | re.VERBOSE)"
   ]
  },
  {
   "cell_type": "markdown",
   "metadata": {},
   "source": [
    "## 13. 项目：电话号码和E-mail地址提取程序\n",
    "- 将网页文本赋值到剪贴板，提取其中所有的电话号码和E-mail\n",
    "- 先关注大框架：\n",
    "    - 从剪贴板取得文本\n",
    "    - 找出文本中所有phone和E-mail\n",
    "    - 将它们粘贴到剪贴板\n",
    "- 思考代码细节实现：\n",
    "    - 使用pyperclip模块复制和粘贴字符串\n",
    "    - 创建两个正则表达式，一个匹配电话号码，一个匹配E-mail地址\n",
    "    - 对两个正则表达式，找到所有的匹配，而不只是第一次匹配\n",
    "    - 将匹配的字符串整理好格式，放在一个字符串中，用于粘贴\n",
    "    - 如果文本中没有找到匹配，显示某种消息"
   ]
  },
  {
   "cell_type": "code",
   "execution_count": 5,
   "metadata": {},
   "outputs": [],
   "source": [
    "# 第1步：为电话号码创建一个正则表达式\n",
    "\n",
    "# phoneAndEmail.py -- Finds phone numbers and emial addresses on the clipboard\n",
    "\n",
    "import pyperclip, re\n",
    "\n",
    "phoneRegex = re.compile(r'''(\n",
    "    (\\d{3}|\\(\\d{3}\\))?      # area code  415 (415)  -- 可选\n",
    "    (\\s|-|\\.)?              # separator -- \\s  -  .\n",
    "    (\\d{4})                 # first 4 digits\n",
    "    (\\s|-|\\.)               # separator\n",
    "    (\\d{4})                 # last 4 digits\n",
    "    (\\s*(ext|x|ext\\.)\\s*(\\d{2,5}))? # extension   可选分机号\n",
    "    )''', re.VERBOSE)\n",
    "# TODO:Create email regex\n",
    "\n",
    "# TODO:Find matches in the clipboard text\n",
    "\n",
    "# TODO:Copy results to the clipboard"
   ]
  },
  {
   "cell_type": "code",
   "execution_count": 6,
   "metadata": {},
   "outputs": [],
   "source": [
    "# 第2步：为E-mail地址创建一个正则表达式\n",
    "\n",
    "# Create email regex\n",
    "emailRegex = re.compile(r'''(\n",
    "    [a-zA-Z0-9._%+-]+       # username\n",
    "    @                       # @ symbol\n",
    "    [a-zA-Z0-9.-]+          # domain name \n",
    "    (\\.[a-zA-Z]{2,4})       # dot-something\n",
    "    )''', re.VERBOSE)\n",
    "\n",
    "\n",
    "# TODO:Find matches in the clipboard text\n",
    "\n",
    "# TODO:Copy results to the clipboard"
   ]
  },
  {
   "cell_type": "code",
   "execution_count": 7,
   "metadata": {},
   "outputs": [],
   "source": [
    "# 第3步：在剪贴板文本中找到所有匹配\n",
    "\n",
    "# Find matches in the clipboard text\n",
    "text = str(pyperclip.paste())\n",
    "matches = []\n",
    "for groups in phoneRegex.findall(text):\n",
    "    phoneNum = '-'.join([groups[1], groups[3], groups[5]])  # 122-121-2323\n",
    "    if groups[8] != '':\n",
    "        phoneNum += ' x' + groups[8]            # 分机号\n",
    "    matches.append(phoneNum)\n",
    "    \n",
    "for groups in emailRegex.findall(text):\n",
    "    matches.append(groups[0])\n",
    "    \n",
    "# TODO:Copy results to the clipboard"
   ]
  },
  {
   "cell_type": "code",
   "execution_count": 8,
   "metadata": {},
   "outputs": [
    {
     "name": "stdout",
     "output_type": "stream",
     "text": [
      "Copied to clipboard\n",
      "852-2277-1088\n",
      "852-2277-1188\n",
      "852-2811-6122\n",
      "612-9271-2629\n",
      "852-2277-2150\n",
      "852-8206-8301\n",
      "852-8206-8302\n",
      "852-2568-3359\n",
      "852-2277-1088\n",
      "852-2277-1095\n",
      "852-2811-2414\n",
      "852-2277-1096\n",
      "852-2811-2414\n",
      "casthongkong@aexp.com\n",
      "BTAHongKong@aexp.com\n"
     ]
    }
   ],
   "source": [
    "# 第4步：所有匹配连接成一个字符串，复制到剪贴板\n",
    "\n",
    "# Copy results to the clipboard\n",
    "if len(matches) > 0:\n",
    "    pyperclip.copy('\\n'.join(matches))\n",
    "    print('Copied to clipboard')\n",
    "    print('\\n'.join(matches))\n",
    "else:\n",
    "    print('No phone number or email address found.')"
   ]
  },
  {
   "cell_type": "markdown",
   "metadata": {},
   "source": [
    "**第5步: test text**\n",
    "24-hour Customer Service Hotline\n",
    "\n",
    "Corporate Cardmember: +852 2277 1088\n",
    "\n",
    "Business Cardmember: +852 2277 1188\n",
    "\n",
    "24-hour Emergency Card Replacement\n",
    "\n",
    "Phone: +852 2811 6122\n",
    "\n",
    "\n",
    "Travellers Cheques Refund (Please request call collect)\n",
    "\n",
    "Phone: 800 962 403 (from Hong Kong)\n",
    "\n",
    "Phone: +612 9271 2629 (International)\n",
    "\n",
    " \n",
    "Membership Rewards® Hotline\n",
    "\n",
    "Phone: +852 2277 2150\n",
    "\n",
    "Operating Hours: 9:00am - 5:30pm Hong Kong time\n",
    "\n",
    "Monday to Friday (except Public Holidays)\n",
    "\n",
    "Global Assist (Please request call collect)\n",
    "\n",
    "Phone: +852 8206 8301 (English)\n",
    "\n",
    "Phone: +852 8206 8302 (Cantonese)\n",
    "\n",
    "Travel Protector Plan (Provided by Chubb Insurance Hong Kong Limited)\n",
    "\n",
    "Phone: +852 2568 3359\n",
    "\n",
    "Website: Travel Insurance Claim Center\n",
    "\n",
    "Asia Miles\n",
    "\n",
    "Website: www.asiamiles.com\n",
    "\n",
    "American Express® Cathay Pacific Corporate Card Program\n",
    "\n",
    "Cardmember Servicing (including Asia Miles accrual) \n",
    "\n",
    "Phone: +852 2277 1088\n",
    "\n",
    "Programme Administrator Corporate Support Team\n",
    "Phone: +852 2277 1095\n",
    "\n",
    "Fax: +852 2811 2414\n",
    "\n",
    "Email: casthongkong@aexp.com\n",
    "\n",
    "Operating Hours: 8:30am - 7:00pm Hong Kong time\n",
    "Monday to Friday (except Public Holidays)\n",
    "\n",
    " \n",
    "\n",
    "Business Travel Account Servicing Team\n",
    "\n",
    "Phone: +852 2277 1096\n",
    "\n",
    "Fax: +852 2811 2414\n",
    "\n",
    "Email: BTAHongKong@aexp.com\n",
    "\n",
    "Operating Hours: 8:30am - 5:30pm Hong Kong time\n",
    "Monday to Friday (except Public Holidays)"
   ]
  },
  {
   "cell_type": "markdown",
   "metadata": {},
   "source": [
    "**result**\n",
    "852-2277-1088\n",
    "852-2277-1188\n",
    "852-2811-6122\n",
    "612-9271-2629\n",
    "852-2277-2150\n",
    "852-8206-8301\n",
    "852-8206-8302\n",
    "852-2568-3359\n",
    "852-2277-1088\n",
    "852-2277-1095\n",
    "852-2811-2414\n",
    "852-2277-1096\n",
    "852-2811-2414\n",
    "casthongkong@aexp.com\n",
    "BTAHongKong@aexp.com"
   ]
  },
  {
   "cell_type": "markdown",
   "metadata": {},
   "source": [
    "**第6步：类似程序的构想**\n",
    "- 寻找网站的URL，它们以http://或https://开头\n",
    "- 整理不同格式的日期(3/14/2014,03-14-2019,2019-5-12),用唯一的标准格式替换\n",
    "- 删除敏感信息，如社会保险号、身份证号等\n",
    "- 寻找常见打字错误，如单词间多个空格、不小心重复的单词、句子末尾多个感叹号等"
   ]
  },
  {
   "cell_type": "markdown",
   "metadata": {},
   "source": [
    "## 14. 实践项目"
   ]
  },
  {
   "cell_type": "markdown",
   "metadata": {},
   "source": [
    "### 强口令检测\n",
    "- 强口令：长度不少于8个字符，同时包含大写和小写字符，至少有一位数字\n",
    "- 可以用多个正则表达式测试其强度"
   ]
  },
  {
   "cell_type": "code",
   "execution_count": null,
   "metadata": {},
   "outputs": [
    {
     "name": "stdout",
     "output_type": "stream",
     "text": [
      "aD2323113\n",
      "True\n",
      "dhsdllsdaa\n",
      "False\n",
      "1355645\n",
      "False\n",
      "dsjaa\n",
      "False\n",
      "dsjs;\n",
      "False\n",
      "Adsds324#\n",
      "True\n"
     ]
    }
   ],
   "source": [
    "import re \n",
    "\n",
    "def strongPasswd(passwd):\n",
    "    # 长度不少于8个字符\n",
    "    if len(passwd) < 8:\n",
    "        return False\n",
    "    \n",
    "    # 大写\n",
    "    upperRegex = re.compile(r'[A-Z]{1,}')\n",
    "    mo = upperRegex.search(passwd)\n",
    "    if mo == None:\n",
    "        return False\n",
    "    \n",
    "    # 小写\n",
    "    lowerRegex = re.compile(r'[a-z]{1,}')\n",
    "    mo = lowerRegex.search(passwd)\n",
    "    if mo == None:\n",
    "        return False\n",
    "    \n",
    "    # 数字\n",
    "    decimalRegex = re.compile(r'[0-9]{1,}')\n",
    "    mo = decimalRegex.search(passwd)\n",
    "    if mo == None:\n",
    "        return False\n",
    "     \n",
    "    return True\n",
    "    \n",
    "# test\n",
    "while True:        \n",
    "    passwd = input()\n",
    "    if passwd == '':\n",
    "        break\n",
    "    print(strongPasswd(passwd))"
   ]
  },
  {
   "cell_type": "markdown",
   "metadata": {},
   "source": [
    "### strip()的正则表达式版本\n",
    "- 接受字符串参数，如果无第二个参数，去除首尾空白字符；传入第二个参数，指定从字符串中去除的字符"
   ]
  },
  {
   "cell_type": "code",
   "execution_count": null,
   "metadata": {},
   "outputs": [],
   "source": [
    "def Strip():"
   ]
  },
  {
   "cell_type": "code",
   "execution_count": null,
   "metadata": {},
   "outputs": [],
   "source": []
  }
 ],
 "metadata": {
  "kernelspec": {
   "display_name": "Python 3",
   "language": "python",
   "name": "python3"
  },
  "language_info": {
   "codemirror_mode": {
    "name": "ipython",
    "version": 3
   },
   "file_extension": ".py",
   "mimetype": "text/x-python",
   "name": "python",
   "nbconvert_exporter": "python",
   "pygments_lexer": "ipython3",
   "version": "3.8.5"
  }
 },
 "nbformat": 4,
 "nbformat_minor": 4
}
