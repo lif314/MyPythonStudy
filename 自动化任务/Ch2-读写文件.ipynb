{
 "cells": [
  {
   "cell_type": "markdown",
   "metadata": {},
   "source": [
    "# <center> Ch2 - 读写文件"
   ]
  },
  {
   "cell_type": "markdown",
   "metadata": {},
   "source": [
    "- 在硬盘上创建、读取和保存文件"
   ]
  },
  {
   "cell_type": "markdown",
   "metadata": {},
   "source": [
    "## 1. 文件和文件路径\n",
    "- 文件名 -- 文件路径  -- 扩展名\n",
    "- 根文件夹：\n",
    "    - windows:C:\\\n",
    "    - OSX or LINUX: /\n",
    "- 附加卷：诸如DVD驱动器或USB闪存驱动器\n",
    "    - windows:表示新的、带字符的根驱动器，如D:\\,E:\\\n",
    "    - LINUX:新的文件夹，在/mnt文件夹下\n",
    "- 文件名和文件夹名称在Windows和OS X上不区分大小写，在LINUX下区分大小写"
   ]
  },
  {
   "cell_type": "markdown",
   "metadata": {},
   "source": [
    "### Windows上的倒斜杠以及OS X和LINUX上的正斜杠\n",
    "- 路径分隔符：\n",
    "    - Windows:倒斜杠\n",
    "    - OS X,LINUX：正斜杠\n",
    "- 移植性：os.path.join() --- 参数：单个文件和路径上的文件夹名称  返回文件路径，包含正确的路径分隔符\n",
    "- 作用：创建文件名称的字符串"
   ]
  },
  {
   "cell_type": "code",
   "execution_count": 3,
   "metadata": {},
   "outputs": [
    {
     "data": {
      "text/plain": [
       "'usr\\\\bin\\\\spam'"
      ]
     },
     "execution_count": 3,
     "metadata": {},
     "output_type": "execute_result"
    }
   ],
   "source": [
    "import os \n",
    "os.path.join('usr','bin','spam')    # 结果是字符串，包含转义"
   ]
  },
  {
   "cell_type": "code",
   "execution_count": 6,
   "metadata": {},
   "outputs": [
    {
     "name": "stdout",
     "output_type": "stream",
     "text": [
      "C:\\Users\\lilinfei\\PythonStudy\\自动化任务\\accounts.txt\n",
      "C:\\Users\\lilinfei\\PythonStudy\\自动化任务\\details.csv\n",
      "C:\\Users\\lilinfei\\PythonStudy\\自动化任务\\invite.docx\n"
     ]
    }
   ],
   "source": [
    "# 将一个文件名列表中的名称，添加到文件夹名称的末尾\n",
    "\n",
    "myFiles = ['accounts.txt', 'details.csv', 'invite.docx']\n",
    "for filename in myFiles:\n",
    "    print(os.path.join('C:\\\\Users\\\\lilinfei\\\\PythonStudy\\\\自动化任务', filename))"
   ]
  },
  {
   "cell_type": "markdown",
   "metadata": {},
   "source": [
    "### 当前工作目录"
   ]
  },
  {
   "cell_type": "code",
   "execution_count": 7,
   "metadata": {},
   "outputs": [
    {
     "ename": "FileNotFoundError",
     "evalue": "[WinError 2] 系统找不到指定的文件。: 'path'",
     "output_type": "error",
     "traceback": [
      "\u001b[1;31m---------------------------------------------------------------------------\u001b[0m",
      "\u001b[1;31mFileNotFoundError\u001b[0m                         Traceback (most recent call last)",
      "\u001b[1;32m<ipython-input-7-df2105f3ea67>\u001b[0m in \u001b[0;36m<module>\u001b[1;34m\u001b[0m\n\u001b[0;32m      4\u001b[0m \u001b[1;33m\u001b[0m\u001b[0m\n\u001b[0;32m      5\u001b[0m \u001b[1;31m# 切换当前目录\u001b[0m\u001b[1;33m\u001b[0m\u001b[1;33m\u001b[0m\u001b[1;33m\u001b[0m\u001b[0m\n\u001b[1;32m----> 6\u001b[1;33m \u001b[0mos\u001b[0m\u001b[1;33m.\u001b[0m\u001b[0mchdir\u001b[0m\u001b[1;33m(\u001b[0m\u001b[1;34m'path'\u001b[0m\u001b[1;33m)\u001b[0m   \u001b[1;31m# 路径不存在时报错\u001b[0m\u001b[1;33m\u001b[0m\u001b[1;33m\u001b[0m\u001b[0m\n\u001b[0m",
      "\u001b[1;31mFileNotFoundError\u001b[0m: [WinError 2] 系统找不到指定的文件。: 'path'"
     ]
    }
   ],
   "source": [
    "# 获取当前目录\n",
    "import os\n",
    "os.getcwd()\n",
    "\n",
    "# 切换当前目录\n",
    "os.chdir('path')   # 路径不存在时报错"
   ]
  },
  {
   "cell_type": "markdown",
   "metadata": {},
   "source": [
    "### 绝对路径和相对路径\n",
    "- 绝对路径：从根文件夹开始\n",
    "- 相对路径：相对于程序的当前工作目录\n",
    "- .文件夹：\"这个目录的缩写\"\n",
    "- ..文件夹：\"父文件夹\"\n",
    "- 相对路径开始处'.\\'是可选的"
   ]
  },
  {
   "cell_type": "markdown",
   "metadata": {},
   "source": [
    "### 用os.makedirs()创建新文件夹\n",
    "- 递归创建所有文件夹"
   ]
  },
  {
   "cell_type": "code",
   "execution_count": 9,
   "metadata": {},
   "outputs": [],
   "source": [
    "import os\n",
    "os.makedirs('C:\\\\Users\\\\lilinfei\\\\PythonStudy\\\\自动化任务\\\\testFile')"
   ]
  },
  {
   "cell_type": "markdown",
   "metadata": {},
   "source": [
    "### os.path模块\n",
    "- os.path.join():构建所有操作系统上都有效的路径\n",
    "- ........待补充"
   ]
  },
  {
   "cell_type": "markdown",
   "metadata": {},
   "source": [
    "### 处理绝对路径和相对路径\n",
    "- os.path.abspath(path):返回绝对路径的字符串。相对路径转为绝对路径\n",
    "- os.path.isabs(path):判断是否为绝对路径\n",
    "- os.path.relpath(path.start):返回从start路径到path的相对路径字符串。start默认为当前目录\n",
    "- os.path.dirname(path):返回字符串，包含path参数中最后一个斜杠之前的所有内容\n",
    "- os.path.basename(path):返回字符串，包含path参数中最后一个斜杠之后的所有内容\n",
    "- os.path.split(path):同时需要路径名称和基本名称，返回元组\n",
    "- os.path.sep : 路径分割符\n",
    "- path.split(os.path.sep):将文件路径分为每个文件夹的字符串列表"
   ]
  },
  {
   "cell_type": "code",
   "execution_count": 10,
   "metadata": {},
   "outputs": [
    {
     "data": {
      "text/plain": [
       "'C:\\\\Users\\\\lilinfei\\\\PythonStudy\\\\自动化任务'"
      ]
     },
     "execution_count": 10,
     "metadata": {},
     "output_type": "execute_result"
    }
   ],
   "source": [
    "os.path.abspath('.')"
   ]
  },
  {
   "cell_type": "code",
   "execution_count": 11,
   "metadata": {},
   "outputs": [
    {
     "data": {
      "text/plain": [
       "'C:\\\\Users\\\\lilinfei\\\\PythonStudy'"
      ]
     },
     "execution_count": 11,
     "metadata": {},
     "output_type": "execute_result"
    }
   ],
   "source": [
    "os.path.abspath('..')"
   ]
  },
  {
   "cell_type": "code",
   "execution_count": 15,
   "metadata": {},
   "outputs": [
    {
     "data": {
      "text/plain": [
       "False"
      ]
     },
     "execution_count": 15,
     "metadata": {},
     "output_type": "execute_result"
    }
   ],
   "source": [
    "os.path.isabs('.')"
   ]
  },
  {
   "cell_type": "code",
   "execution_count": 14,
   "metadata": {},
   "outputs": [
    {
     "data": {
      "text/plain": [
       "True"
      ]
     },
     "execution_count": 14,
     "metadata": {},
     "output_type": "execute_result"
    }
   ],
   "source": [
    "os.path.isabs(os.path.abspath('.'))"
   ]
  },
  {
   "cell_type": "code",
   "execution_count": 16,
   "metadata": {},
   "outputs": [
    {
     "data": {
      "text/plain": [
       "'..'"
      ]
     },
     "execution_count": 16,
     "metadata": {},
     "output_type": "execute_result"
    }
   ],
   "source": [
    "os.path.relpath('..','.')"
   ]
  },
  {
   "cell_type": "code",
   "execution_count": 21,
   "metadata": {},
   "outputs": [
    {
     "name": "stdout",
     "output_type": "stream",
     "text": [
      "C:\\Users\\lilinfei\\PythonStudy\n",
      "自动化任务\n",
      "('C:\\\\Users\\\\lilinfei\\\\PythonStudy', '自动化任务')\n",
      "('C:\\\\Users\\\\lilinfei\\\\PythonStudy', '自动化任务')\n"
     ]
    },
    {
     "data": {
      "text/plain": [
       "['C:', 'Users', 'lilinfei', 'PythonStudy', '自动化任务']"
      ]
     },
     "execution_count": 21,
     "metadata": {},
     "output_type": "execute_result"
    }
   ],
   "source": [
    "path = 'C:\\\\Users\\\\lilinfei\\\\PythonStudy\\\\自动化任务'\n",
    "\n",
    "print(os.path.dirname(path))\n",
    "print(os.path.basename(path))\n",
    "print(os.path.split(path))\n",
    "# === \n",
    "print((os.path.dirname(path),os.path.basename(path)))\n",
    "\n",
    "# 文件夹列表\n",
    "path.split(os.path.sep)  # 在所有操作系统上使用"
   ]
  },
  {
   "cell_type": "markdown",
   "metadata": {},
   "source": [
    "### 查看文件大小和文件内容\n",
    "- os.path.getsize(path):返回path参数中文件的字节数\n",
    "- os.listdir(path)：返回文件名字符串的列表，包含path参数中每个文件"
   ]
  },
  {
   "cell_type": "code",
   "execution_count": 23,
   "metadata": {},
   "outputs": [
    {
     "data": {
      "text/plain": [
       "4096"
      ]
     },
     "execution_count": 23,
     "metadata": {},
     "output_type": "execute_result"
    }
   ],
   "source": [
    "os.path.getsize('C:\\\\Users\\\\lilinfei\\\\PythonStudy')"
   ]
  },
  {
   "cell_type": "code",
   "execution_count": 24,
   "metadata": {},
   "outputs": [
    {
     "data": {
      "text/plain": [
       "['.ipynb_checkpoints', 'Python编程基础', '自动化任务']"
      ]
     },
     "execution_count": 24,
     "metadata": {},
     "output_type": "execute_result"
    }
   ],
   "source": [
    "os.listdir('C:\\\\Users\\\\lilinfei\\\\PythonStudy')"
   ]
  },
  {
   "cell_type": "code",
   "execution_count": 28,
   "metadata": {},
   "outputs": [
    {
     "name": "stdout",
     "output_type": "stream",
     "text": [
      "8192\n"
     ]
    }
   ],
   "source": [
    "# 计算某目录下所有文件的总字节数\n",
    "totalSize = 0\n",
    "for filename in os.listdir('C:\\\\Users\\\\lilinfei\\\\PythonStudy'):\n",
    "    totalSize += os.path.getsize(os.path.join('C:\\\\Users\\\\lilinfei\\\\PythonStudy',filename))\n",
    "    \n",
    "print(totalSize)"
   ]
  },
  {
   "cell_type": "markdown",
   "metadata": {},
   "source": [
    "### 检查路径的有效性\n",
    "- os.path.exists(path):文件或文件夹\n",
    "- os.path.isfile(path):文件\n",
    "- os.path.isdir(path):文件夹"
   ]
  },
  {
   "cell_type": "code",
   "execution_count": 29,
   "metadata": {},
   "outputs": [
    {
     "name": "stdout",
     "output_type": "stream",
     "text": [
      "True\n",
      "False\n",
      "True\n"
     ]
    }
   ],
   "source": [
    "print(os.path.exists('C:\\\\Users\\\\lilinfei\\\\PythonStudy'))\n",
    "print(os.path.isfile('C:\\\\Users\\\\lilinfei\\\\PythonStudy'))\n",
    "print(os.path.isdir('C:\\\\Users\\\\lilinfei\\\\PythonStudy'))"
   ]
  },
  {
   "cell_type": "code",
   "execution_count": 30,
   "metadata": {},
   "outputs": [
    {
     "data": {
      "text/plain": [
       "True"
      ]
     },
     "execution_count": 30,
     "metadata": {},
     "output_type": "execute_result"
    }
   ],
   "source": [
    "# 利用os.path.exists()检测DVD或闪存盘是否连接在计算机上\n",
    "os.path.exists('D:\\\\')"
   ]
  },
  {
   "cell_type": "markdown",
   "metadata": {},
   "source": [
    "## 2. 文件读写过程\n",
    "- 纯文本文件：只包含基本文本字符，不包含字体、大小、颜色等信息\n",
    "- 二进制文件：所有其他文件类型，如字处理文档、PDF、图像、电子表格、执行程序\n",
    "- shelve模块：\n",
    "    - open() ---- 返回File对象\n",
    "    - 调用File对象的read()和write()方法\n",
    "    - 调用File对象的close()方法，关闭文件"
   ]
  },
  {
   "cell_type": "markdown",
   "metadata": {},
   "source": [
    "### open()打开文件\n",
    "- 参数：路径 --- 绝对 or 相对\n",
    "- 返回：File对象\n",
    "- 第二参数：指明打开模式，默认为读模式，'r'...."
   ]
  },
  {
   "cell_type": "code",
   "execution_count": 43,
   "metadata": {},
   "outputs": [],
   "source": [
    "helloFile = open('C:\\\\Users\\\\lilinfei\\\\PythonStudy\\\\自动化任务\\\\testFile\\\\hello.txt')\n",
    "# File对象保存在helloFile变量中，默认是读模式"
   ]
  },
  {
   "cell_type": "markdown",
   "metadata": {},
   "source": [
    "### 读取文件内容\n",
    "- File对象read()方法：整个文本为大字符串\n",
    "- readlines()：字符串列表。列表中每个字符串就是一行"
   ]
  },
  {
   "cell_type": "code",
   "execution_count": 41,
   "metadata": {},
   "outputs": [
    {
     "name": "stdout",
     "output_type": "stream",
     "text": [
      "Hello World!\n",
      "Hello Lif!\n"
     ]
    }
   ],
   "source": [
    "helloContent = helloFile.read()\n",
    "print(helloContent)"
   ]
  },
  {
   "cell_type": "code",
   "execution_count": 44,
   "metadata": {},
   "outputs": [
    {
     "name": "stdout",
     "output_type": "stream",
     "text": [
      "['Hello World!\\n', 'Hello Lif!']\n"
     ]
    }
   ],
   "source": [
    "helloContentLine = helloFile.readlines()   # 已经打开的文件只能读一次\n",
    "print(helloContentLine)"
   ]
  },
  {
   "cell_type": "markdown",
   "metadata": {},
   "source": [
    "### 写入文件\n",
    "- 写模式、读模式、添加模式\n",
    "- 写模式将覆盖所有的文件  'w'\n",
    "- 添加模式在已有文本的末尾添加 'a'\n",
    "- 如果传递给open()的文件名不存在，写模式和添加模式将创建新的文件\n",
    "- 在读取和写入文件后，调用close()方法，然后才能再次打开文件\n",
    "- write(text)：返回写入字节数，包括换行符 ---- 需要手动添加换行符\\n"
   ]
  },
  {
   "cell_type": "code",
   "execution_count": 49,
   "metadata": {},
   "outputs": [
    {
     "name": "stdout",
     "output_type": "stream",
     "text": [
      "Hello Bacon!\n",
      "Bacon!!!\n",
      "\n"
     ]
    }
   ],
   "source": [
    "testPath = 'C:\\\\Users\\\\lilinfei\\\\PythonStudy\\\\自动化任务\\\\testFile'\n",
    "baconFile = open(testPath + '\\\\bacon.txt','w')\n",
    "baconFile.write('Hello Bacon!\\n')    \n",
    "baconFile.close()\n",
    "\n",
    "baconFile = open(testPath + '\\\\bacon.txt','a')\n",
    "baconFile.write('Bacon!!!\\n')\n",
    "baconFile.close()\n",
    "\n",
    "baconFile = open(testPath + '\\\\bacon.txt')\n",
    "content = baconFile.read()\n",
    "print(content)"
   ]
  },
  {
   "cell_type": "markdown",
   "metadata": {},
   "source": [
    "## 3. 用shelve模块保存变量\n",
    "- shelve模块：将Python程序中的变量保存在二进制的shelf文件中 ---- 程序可以从硬盘中恢复变量的数据"
   ]
  },
  {
   "cell_type": "code",
   "execution_count": 50,
   "metadata": {},
   "outputs": [],
   "source": [
    "import shelve\n",
    "shelfFile = shelve.open(testPath + '\\\\mydata')\n",
    "cats = ['hello', 'baby', 'honey']\n",
    "shelfFile['cats'] = cats    # 保存变量的值\n",
    "shelfFile.close()"
   ]
  },
  {
   "cell_type": "markdown",
   "metadata": {},
   "source": [
    "- Windows创建了三个文件：\n",
    "    - mydata.bak\n",
    "    - mydata.dat\n",
    "    - mydata.dir\n",
    "- OS X创建一个文件：mydata.db\n",
    "- shelf文件打开后，既能读，也能写\n",
    "- shelf值类似字典，有keys()、values()方法 --- 返回值类似列表但不是，list()转换"
   ]
  },
  {
   "cell_type": "code",
   "execution_count": 55,
   "metadata": {},
   "outputs": [
    {
     "name": "stdout",
     "output_type": "stream",
     "text": [
      "<class 'shelve.DbfilenameShelf'>\n",
      "['hello', 'baby', 'honey']\n",
      "KeysView(<shelve.DbfilenameShelf object at 0x0000020683E69820>)\n",
      "ValuesView(<shelve.DbfilenameShelf object at 0x0000020683E69820>)\n",
      "['cats']\n",
      "[['hello', 'baby', 'honey']]\n"
     ]
    }
   ],
   "source": [
    "shelfFile = shelve.open(testPath + '\\\\mydata')\n",
    "print(type(shelfFile)) # 类型\n",
    "print(shelfFile['cats']) # 查看数据\n",
    "print(shelfFile.keys())   # keys()\n",
    "print(shelfFile.values()) # values()\n",
    "print(list(shelfFile.keys())) # list()\n",
    "print(list(shelfFile.values())) # list()\n",
    "shelfFile.close()"
   ]
  },
  {
   "cell_type": "markdown",
   "metadata": {},
   "source": [
    "## 4. 用pprint.pformat()函数保存变量\n",
    "- pprint.pformat():提供一个字符串，可以将其写入.py文件中，该文件是自己的模块，使用时可以直接导入，使用其中的变量\n",
    "- import语句导入的模块本身就是python脚本\n",
    "- 优点：.py文件是文本文件，方便修改"
   ]
  },
  {
   "cell_type": "code",
   "execution_count": 56,
   "metadata": {},
   "outputs": [
    {
     "data": {
      "text/plain": [
       "\"[{'desc': 'chubby', 'name': 'Zohg'}, {'desc': 'fluffy', 'name': 'Pooka'}]\""
      ]
     },
     "execution_count": 56,
     "metadata": {},
     "output_type": "execute_result"
    }
   ],
   "source": [
    "import pprint\n",
    "cats = [{'name':'Zohg','desc':'chubby'}, {'name': 'Pooka', 'desc':'fluffy'}]\n",
    "pprint.pformat(cats)   # 字符串"
   ]
  },
  {
   "cell_type": "code",
   "execution_count": 57,
   "metadata": {},
   "outputs": [
    {
     "data": {
      "text/plain": [
       "81"
      ]
     },
     "execution_count": 57,
     "metadata": {},
     "output_type": "execute_result"
    }
   ],
   "source": [
    "fileobj = open('.\\\\myCats.py','w')\n",
    "fileobj.write('cats = ' + pprint.pformat(cats) + '\\n')"
   ]
  },
  {
   "cell_type": "code",
   "execution_count": 58,
   "metadata": {},
   "outputs": [],
   "source": [
    "fileobj.close()"
   ]
  },
  {
   "cell_type": "code",
   "execution_count": 60,
   "metadata": {},
   "outputs": [
    {
     "name": "stdout",
     "output_type": "stream",
     "text": [
      "[{'desc': 'chubby', 'name': 'Zohg'}, {'desc': 'fluffy', 'name': 'Pooka'}]\n",
      "{'desc': 'chubby', 'name': 'Zohg'}\n",
      "Zohg\n"
     ]
    }
   ],
   "source": [
    "import myCats\n",
    "cats = myCats.cats\n",
    "print(cats)\n",
    "print(cats[0])\n",
    "print(cats[0]['name'])"
   ]
  },
  {
   "cell_type": "markdown",
   "metadata": {},
   "source": [
    "## 5. 项目：生成随机的测验试卷文件\n",
    "- 随机生成试卷，保证每份试卷是独一无二的\n",
    "- 程序任务：\n",
    "    - 创建35份不同的测验试卷\n",
    "    - 为每份试卷创建50个多重选择题，次序随机\n",
    "    - 为每个问题提供一个正确答案和3个随机的错误答案，次序随机\n",
    "    - 将测验试卷写到35个文本文件中\n",
    "    - 将答案写到35个文本文件中\n",
    "- 程序方法：\n",
    "    - 将州和它们的首府保存在一个字典中\n",
    "    - 针对测验文本文件和答案文本文件，调用open()、write()和close()\n",
    "    - 利用random.shuffle()随机调整问题和多重选项的次序"
   ]
  },
  {
   "cell_type": "code",
   "execution_count": 6,
   "metadata": {},
   "outputs": [],
   "source": [
    "# 第1步：将测验数据保存在字典中\n",
    "\n",
    "# randomQuizGenerator.py - Creates quizzes with questions and answers in\n",
    "# random order, along with the answer key.\n",
    "\n",
    "import random \n",
    "\n",
    "# The quiz data. Keys are states and values are their capitals.\n",
    "capitals = {'Alabama': 'Montgomery', 'Alaska': 'Juneau', 'Arizona': 'Phoenix', 'Arkansas': 'Little Rock', 'California': 'Sacramento', \n",
    "            'Colorado': 'Denver', 'Connecticut': 'Hartford', 'Delaware': 'Dover', 'Florida': 'Tallahassee', 'Georgia': 'Atlanta',\n",
    "            'Hawaii': 'Honolulu', 'Idaho': 'Boise', 'Illinois': 'Springfield', 'Indiana': 'Indianapolis', 'Iowa': 'Des Moines',\n",
    "            'Kansas': 'Topeka', 'Kentucky': 'Frankfort', 'Louisiana': 'Baton Rouge', 'Maine': 'Augusta', 'Maryland': 'Annapolis', \n",
    "            'Massachusetts': 'Boston', 'Michigan': 'Lansing', 'Minnesota': 'Saint Paul', 'Mississippi': 'Jackson',\n",
    "            'Missouri': 'Jefferson City','Montana': 'Helena', 'Nebraska': 'Lincoln', 'Nevada': 'Carson City', 'New Hampshire': 'Concord',\n",
    "            'New Jersey': 'Trenton', 'New Mexico': 'Santa Fe', 'New York': 'Albany', 'North Carolina': 'Raleigh', 'North Dakota': 'Bismarck',\n",
    "            'Ohio': 'Columbus', 'Oklahoma': 'Oklahoma City', 'Oregon': 'Salem', 'Pennsylvania': 'Harrisburg', 'Rhode Island': 'Providence',\n",
    "            'South Carolina': 'Columbia', 'South Dakota': 'Pierre', 'Tennessee': 'Nashville', 'Texas': 'Austin', 'Utah': 'Salt Lake City',\n",
    "            'Vermont': 'Montpelier', 'Virginia': 'Richmond', 'Washington': 'Olympia', 'West Virginia': 'Charleston', 'Wisconsin': 'Madison',\n",
    "            'Wyoming': 'Cheyenne'}\n",
    "\n",
    "# generate 35 quiz files\n",
    "# for quizNum in range(35):\n",
    "    # TODO: Create the quiz and answer key files\n",
    "    \n",
    "    # TODO: Write out the header for quiz.\n",
    "    \n",
    "    # TODO: Shuffle the order of the states\n",
    "    \n",
    "    # TODO: Loop through all 50 states, making a question for each"
   ]
  },
  {
   "cell_type": "code",
   "execution_count": 7,
   "metadata": {},
   "outputs": [],
   "source": [
    "# 第2步：创建测验文件，并打乱问题的次序\n",
    "\n",
    "# generate 35 quiz files\n",
    "for quizNum in range(35):\n",
    "    # Create the quiz and answer key files\n",
    "    quizFile = open('./Ch2/randomQuizGenerator/capitalsquiz%s.txt' %(quizNum + 1),'w')    # 测验试卷文件名 % 占位符\n",
    "    answerKeyFile = open('./Ch2/randomQuizGenerator/capitalsquiz_answers%s.txt' %(quizNum + 1), 'w')\n",
    "    \n",
    "    # Write out the header for quiz.\n",
    "    quizFile.write('Name:\\n\\nDate:\\n\\nPeriod:\\n\\n')     # 测验标题\n",
    "    quizFile.write((' ' * 20) + 'State Capitals Quiz (Form %s)' % (quizNum + 1))\n",
    "    quizFile.write('\\n\\n')\n",
    "    \n",
    "    # Shuffle the order of the states\n",
    "    states = list(capitals.keys())\n",
    "    random.shuffle(states)     # 随机列表\n",
    "    \n",
    "    # TODO: Loop through all 50 states, making a question for each\n"
   ]
  },
  {
   "cell_type": "code",
   "execution_count": null,
   "metadata": {},
   "outputs": [],
   "source": [
    "# 第3步：创建答案选项\n",
    "\n",
    "# generate 35 quiz files\n",
    "for quizNum in range(35):\n",
    "    # Create the quiz and answer key files\n",
    "    quizFile = open('./Ch2/randomQuizGenerator/capitalsquiz%s.txt' %(quizNum + 1),'w')    # 测验试卷文件名 % 占位符\n",
    "    answerKeyFile = open('./Ch2/randomQuizGenerator/capitalsquiz_answers%s.txt' %(quizNum + 1), 'w')\n",
    "    \n",
    "    # Write out the header for quiz.\n",
    "    quizFile.write('Name:\\n\\nDate:\\n\\nPeriod:\\n\\n')     # 测验标题\n",
    "    quizFile.write((' ' * 20) + 'State Capitals Quiz (Form %s)' % (quizNum + 1))\n",
    "    quizFile.write('\\n\\n')\n",
    "    \n",
    "    # Shuffle the order of the states\n",
    "    states = list(capitals.keys())\n",
    "    random.shuffle(states)     # 随机列表\n",
    "    \n",
    "    # Loop through all 50 states, making a question for each\n",
    "    for questionNum in range(50):\n",
    "        # Get right and wrong answers.\n",
    "        correctAnswer = capitals[states[questionNum]]   # 正确答案\n",
    "        wrongAnswers = list(capitals.values())          # 错误答案\n",
    "        del wrongAnswers[wrongAnswers.index(correctAnswer)]\n",
    "        wrongAnswers = random.sample(wrongAnswers, 3)   # 随机选择3个\n",
    "        answerOptions = wrongAnswers + [correctAnswer]\n",
    "        random.shuffle(answerOptions)                   # 答案随机排列\n",
    "        \n",
    "        # TODO: Write the question and answer options to the quiz file\n",
    "        \n",
    "        # TODO: Write the answer key to a file"
   ]
  },
  {
   "cell_type": "code",
   "execution_count": 11,
   "metadata": {},
   "outputs": [],
   "source": [
    "# 第4步：将内容写入测验试卷和答案文件\n",
    "\n",
    "# generate 35 quiz files\n",
    "for quizNum in range(35):\n",
    "    # Create the quiz and answer key files\n",
    "    quizFile = open('./Ch2/randomQuizGenerator/capitalsquiz%s.txt' %(quizNum + 1),'w')    # 测验试卷文件名 % 占位符  目录已存在！\n",
    "    answerKeyFile = open('./Ch2/randomQuizGenerator/capitalsquiz_answers%s.txt' %(quizNum + 1), 'w')\n",
    "    \n",
    "    # Write out the header for quiz.\n",
    "    quizFile.write('Name:\\n\\nDate:\\n\\nPeriod:\\n\\n')     # 测验标题\n",
    "    quizFile.write((' ' * 20) + 'State Capitals Quiz (Form %s)' % (quizNum + 1))\n",
    "    quizFile.write('\\n\\n')\n",
    "    \n",
    "    # Shuffle the order of the states\n",
    "    states = list(capitals.keys())\n",
    "    random.shuffle(states)     # 随机列表\n",
    "    \n",
    "    # Loop through all 50 states, making a question for each\n",
    "    for questionNum in range(50):\n",
    "        # Get right and wrong answers.\n",
    "        correctAnswer = capitals[states[questionNum]]   # 正确答案\n",
    "        wrongAnswers = list(capitals.values())          # 错误答案\n",
    "        del wrongAnswers[wrongAnswers.index(correctAnswer)]\n",
    "        wrongAnswers = random.sample(wrongAnswers, 3)   # 随机选择3个\n",
    "        answerOptions = wrongAnswers + [correctAnswer]\n",
    "        random.shuffle(answerOptions)                   # 答案随机排列\n",
    "        \n",
    "        # Write the question and answer options to the quiz file\n",
    "        quizFile.write('%s. What is the capital of %s?\\n' % (questionNum + 1, states[questionNum]))\n",
    "        for i in range(4):\n",
    "            quizFile.write(' %s. %s\\n' % ('ABCD'[i], answerOptions[i]))\n",
    "        quizFile.write('\\n')\n",
    "        \n",
    "        # Write the answer key to a file\n",
    "        answerKeyFile.write('%s. %s\\n' % (questionNum + 1, 'ABCD'[answerOptions.index(correctAnswer)]))   # 找到答案\n",
    "    quizFile.close()\n",
    "    answerKeyFile.close()"
   ]
  },
  {
   "cell_type": "markdown",
   "metadata": {},
   "source": [
    "## 6. 项目：多重剪贴板\n",
    "- 剪贴板一次只能有一个内容\n",
    "- .pyw:运行程序时，不会显示终端窗口\n",
    "- 利用关键字保存每段剪贴板的内容：\n",
    "    - py mcb.pyw save spam:剪贴板当前内容用spam关键字保存\n",
    "    - py mcb.pyw spam:将文本加载到剪贴板\n",
    "    - py mcb.pyw list:将关键字列表复制到剪贴板\n",
    "- 程序任务：\n",
    "    - 针对要检查的关键字，提供命令行参数\n",
    "    - 如果参数是save,那么将剪贴板的内容保存到关键字\n",
    "    - 如果参数是list,就将所有的关键字拷贝到剪贴板\n",
    "    - 否则，就将关键字对应的文本拷贝到剪贴板\n",
    "- 代码实现：\n",
    "    - 从sys.argv读取命令行参数\n",
    "    - 读写剪贴板\n",
    "    - 保存并加载shelf文件"
   ]
  },
  {
   "cell_type": "code",
   "execution_count": 12,
   "metadata": {},
   "outputs": [],
   "source": [
    "# 第1步：注释和shelf变量\n",
    "\n",
    "# mcb.pyw - Saves and loads pieces of text to the clipboard\n",
    "# Usage: py.exe mcb.pyw save <keyword> - Saves clipboard to keyboard\n",
    "#        py.exe mcb.pyw <keyword> - Loads keyword to clipboard\n",
    "#        py.exe mcb.pyw list - Loads all keywords to clipboard\n",
    "\n",
    "import shelve, pyperclip, sys\n",
    "\n",
    "mcbShelf = shelve.open('./Ch2/multiclipboard/mcb')\n",
    "\n",
    "# TODO: Save clipboard content.\n",
    "\n",
    "# TODO: List keywords and load content\n",
    "\n",
    "# mcbShelf.close()"
   ]
  },
  {
   "cell_type": "code",
   "execution_count": null,
   "metadata": {},
   "outputs": [],
   "source": [
    "# 第2步：用一个关键字保存剪贴板内容\n",
    "\n",
    "# Save clipboard content.\n",
    "if len(sys.argv) == 3 and sys.argv[1].lower() == 'save':    # 第一个命令行参数是'save'\n",
    "    mcbShelf[sys.argv[2]] = pyperclip.paste()               # 第二个参数是关键字\n",
    "elif len(sys.argv) == 2:                                    # 只有一个命令行参数，假设为'list'\n",
    "    # TODO: List keywords and load content"
   ]
  },
  {
   "cell_type": "code",
   "execution_count": 15,
   "metadata": {},
   "outputs": [],
   "source": [
    "# 第3步：列出关键字和加载关键字内容\n",
    "\n",
    "# Save clipboard content.\n",
    "if len(sys.argv) == 3 and sys.argv[1].lower() == 'save':    # 第一个命令行参数是'save'\n",
    "    mcbShelf[sys.argv[2]] = pyperclip.paste()               # 第二个参数是关键字\n",
    "elif len(sys.argv) == 2:                                   \n",
    "    # List keywords and load content\n",
    "    if sys.argv[1].lower() == 'list':\n",
    "        pyperclip.copy(str(list(mcbShelf.keys())))         # list 所有关键字\n",
    "    elif sys.argv[1] in mcbShelf:\n",
    "        pyperclip.copy(mcbShelf[sys.argv[1]])              # 加载到剪贴板\n",
    "\n",
    "mcbShelf.close()"
   ]
  },
  {
   "cell_type": "markdown",
   "metadata": {},
   "source": [
    "## 7. 实践项目"
   ]
  },
  {
   "cell_type": "markdown",
   "metadata": {},
   "source": [
    "### 扩展多重剪贴板\n",
    "- 添加delete <keyword>命令行参数，从shelf中删除一个关键字\n",
    "- 添加delete命令行参数，它将删除所有关键字"
   ]
  },
  {
   "cell_type": "code",
   "execution_count": 16,
   "metadata": {},
   "outputs": [],
   "source": [
    "# mcb.pyw - Saves and loads pieces of text to the clipboard\n",
    "# Usage: py.exe mcb.pyw save <keyword> - Saves clipboard to keyboard\n",
    "#        py.exe mcb.pyw <keyword> - Loads keyword to clipboard\n",
    "#        py.exe mcb.pyw list - Loads all keywords to clipboard\n",
    "#        py.exe mcb.pyw delete - delete all keywords to clipboard\n",
    "#        py.exe mcb.pyw delete <keywords> - delete keyword to clipboard\n",
    "\n",
    "import shelve, pyperclip, sys\n",
    "\n",
    "mcbShelf = shelve.open('./Ch2/multiclipboard/mcb')\n",
    "\n",
    "# Save clipboard content.\n",
    "if len(sys.argv) == 3:\n",
    "    if sys.argv[1].lower() == 'save':              # 第一个命令行参数是'save'\n",
    "        mcbShelf[sys.argv[2]] = pyperclip.paste()  # 第二个参数是关键字\n",
    "    if sys.argv[1].lower() == 'delete':            # delete\n",
    "        del mcbShelf[sys.argv[2]]                  # 清除keyword对应记录        \n",
    "elif len(sys.argv) == 2:                                   \n",
    "    # List keywords and load content\n",
    "    if sys.argv[1].lower() == 'list':\n",
    "        pyperclip.copy(str(list(mcbShelf.keys())))         # list 所有关键字\n",
    "    elif sys.argv[1].lower() == 'detete':                  # delete 所有关键字\n",
    "        del mcbShelf      # 清空所有条目\n",
    "        # mcbShelf.clear()         # 清空字典\n",
    "    elif sys.argv[1] in mcbShelf:\n",
    "        pyperclip.copy(mcbShelf[sys.argv[1]])              # 加载到剪贴板\n",
    "\n",
    "mcbShelf.close()"
   ]
  },
  {
   "cell_type": "markdown",
   "metadata": {},
   "source": [
    "### 疯狂填词\n",
    "- 读入文本文件，并让用户在该文本文件中出现ADJECTIVE、NOUN、ADVERB、VERB等单词的地方填充自己的文本"
   ]
  },
  {
   "cell_type": "code",
   "execution_count": 4,
   "metadata": {},
   "outputs": [
    {
     "name": "stdout",
     "output_type": "stream",
     "text": [
      "['The', 'ADJECTIVE', 'panda', 'walked', 'to', 'the', 'NOUN', 'and', 'then', 'VERB.', 'A', 'nearby', 'NOUN', 'was', 'unaffected', 'by', 'these', 'events.', 'Real-time,', 'simultaneous', 'perception', 'of', 'ADVERB', 'pose,', 'face', 'landmarks', 'and', 'VERB', 'tracking', 'on', 'mobile', 'devices', 'can', 'enable', 'a', 'variety', 'of', 'ADJECTIVE', 'applications,', 'such', 'as', 'fitness', 'and', 'ADVERB', 'analysis,', 'gesture', 'control', 'and', 'sign', 'language', 'recognition,', 'augmented', 'reality', 'NOUN', 'and', 'more.']\n",
      "<class 'str'>\n",
      "ADJECTIVE \n",
      "The ADJECTIVE panda walked to the NOUN and then VERB. A nearby NOUN was unaffected by these events.\n",
      "Real-time, simultaneous perception of ADVERB pose, \n",
      "face landmarks and VERB tracking on mobile devices can enable a variety of ADJECTIVE applications, \n",
      "such as fitness and ADVERB analysis,\n",
      " gesture control and sign language recognition, \n",
      "augmented reality NOUN and more. \n"
     ]
    }
   ],
   "source": [
    "# Mad Libs\n",
    "\n",
    "import re\n",
    "\n",
    "# 读文件 --- 一行一行读入\n",
    "madLibFile = open('./Ch2/MadLibs/madLibs.txt')\n",
    "madLibContent = madLibFile.read()      # 返回一个字符串.字符串是不可变的，不能直接赋值改变\n",
    "print(madLibContent.split())  # split()分割后存在.\n",
    "\n",
    "# 填词\n",
    "# 识别ADJECTIVE、NOUN、ADVERB、VERB\n",
    "characterRegex = re.compile(r'ADJECTIVE | NOUN | ADVERB | VERB')\n",
    "mo = characterRegex.search(madLibContent)\n",
    "# print(characterRegex.findall(madLibContent))\n",
    "print(type(mo.group()))\n",
    "print(mo.group())\n",
    "\n",
    "while True:\n",
    "    mo = characterRegex.search(madLibContent)\n",
    "    if mo == None:\n",
    "        break\n",
    "    \n",
    "    if mo.group() == 'ADJECTIVE':\n",
    "        print('Enter a adjective: ')\n",
    "        new = input()\n",
    "        madLibContent = characterRegex.sub(new,madLibContent)     \n",
    "    elif mo.group() == 'NOUN':\n",
    "        print('Enter a noun: ')\n",
    "        new = input()\n",
    "        madLibContent = characterRegex.sub(new,madLibContent)\n",
    "    elif mo.group() == 'ADVERB':\n",
    "        print('Enter a adverb: ')\n",
    "        new = input()\n",
    "        madLibContent = characterRegex.sub(new,madLibContent)\n",
    "    elif mo.group() == 'VERB':\n",
    "        print('Enter a verb: ')\n",
    "        new = input()\n",
    "        madLibContent = characterRegex.sub(new,madLibContent)\n",
    "    else:\n",
    "        break\n",
    "\n",
    "# 显示结果\n",
    "print(madLibContent)"
   ]
  },
  {
   "cell_type": "markdown",
   "metadata": {},
   "source": [
    "### 正则表达式查找\n",
    "- 打开文件夹中所有的.txt文件，查找匹配用户提供的正则表达式的所有行。结果显示在屏幕上"
   ]
  },
  {
   "cell_type": "code",
   "execution_count": null,
   "metadata": {},
   "outputs": [],
   "source": [
    "# Reges find txt file\n",
    "\n"
   ]
  },
  {
   "cell_type": "code",
   "execution_count": null,
   "metadata": {},
   "outputs": [],
   "source": []
  },
  {
   "cell_type": "code",
   "execution_count": null,
   "metadata": {},
   "outputs": [],
   "source": []
  },
  {
   "cell_type": "code",
   "execution_count": null,
   "metadata": {},
   "outputs": [],
   "source": []
  },
  {
   "cell_type": "code",
   "execution_count": null,
   "metadata": {},
   "outputs": [],
   "source": []
  },
  {
   "cell_type": "code",
   "execution_count": null,
   "metadata": {},
   "outputs": [],
   "source": []
  },
  {
   "cell_type": "code",
   "execution_count": null,
   "metadata": {},
   "outputs": [],
   "source": []
  }
 ],
 "metadata": {
  "kernelspec": {
   "display_name": "Python 3",
   "language": "python",
   "name": "python3"
  },
  "language_info": {
   "codemirror_mode": {
    "name": "ipython",
    "version": 3
   },
   "file_extension": ".py",
   "mimetype": "text/x-python",
   "name": "python",
   "nbconvert_exporter": "python",
   "pygments_lexer": "ipython3",
   "version": "3.8.5"
  }
 },
 "nbformat": 4,
 "nbformat_minor": 4
}
