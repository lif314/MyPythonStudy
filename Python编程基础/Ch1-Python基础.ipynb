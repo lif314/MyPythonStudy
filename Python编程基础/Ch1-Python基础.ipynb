{
 "cells": [
  {
   "cell_type": "markdown",
   "metadata": {},
   "source": [
    "<center Python基础 /center>"
   ]
  },
  {
   "cell_type": "markdown",
   "metadata": {},
   "source": [
    "# <center> Python 基础"
   ]
  },
  {
   "cell_type": "markdown",
   "metadata": {},
   "source": [
    "# 一、基础"
   ]
  },
  {
   "cell_type": "markdown",
   "metadata": {},
   "source": [
    "## 1.数学操作\n",
    "- 括号优先级\n",
    "- 整型、浮点型、字符串型数据(单引号)"
   ]
  },
  {
   "cell_type": "code",
   "execution_count": 7,
   "metadata": {},
   "outputs": [
    {
     "name": "stdout",
     "output_type": "stream",
     "text": [
      "8\n",
      "6\n",
      "1\n",
      "1.5\n",
      "6\n",
      "-1\n",
      "5\n"
     ]
    }
   ],
   "source": [
    "print(2 ** 3)    # 指数\n",
    "print(22%8)      # 取模、取余数\\\n",
    "print(3//2)      # 整除\n",
    "print(3/2)       # 除法\n",
    "print(2*3)       # 乘法\n",
    "print(2-3)       # 减法\n",
    "print(3+2)       # 加法"
   ]
  },
  {
   "cell_type": "markdown",
   "metadata": {},
   "source": [
    "## 2.字符串连接和赋值"
   ]
  },
  {
   "cell_type": "code",
   "execution_count": 11,
   "metadata": {},
   "outputs": [
    {
     "name": "stdout",
     "output_type": "stream",
     "text": [
      "helloworld\n",
      "hellohellohellohellohello\n"
     ]
    }
   ],
   "source": [
    "print('hello'+'world')\n",
    "print('hello'*5)\n",
    "# print('hello'*'world') # 没有意义\n",
    "# print('hello'+21)      # can't multiply sequence by non-int of type 'str'"
   ]
  },
  {
   "cell_type": "markdown",
   "metadata": {},
   "source": [
    "## 3.在变量中保存值\n",
    "- python不需要指明变量类型\n",
    "- 变量名\n",
    "  - 只能是一个连续的串\n",
    "  - 只能包含字母、数字和下划线\n",
    "  - 不能以数字开头"
   ]
  },
  {
   "cell_type": "code",
   "execution_count": 18,
   "metadata": {},
   "outputs": [
    {
     "name": "stdout",
     "output_type": "stream",
     "text": [
      "42\n",
      "hello world!\n"
     ]
    }
   ],
   "source": [
    "# 赋值语句\n",
    "spam = 42\n",
    "print(spam)\n",
    "\n",
    "string = 'hello world!'\n",
    "print(string)"
   ]
  },
  {
   "cell_type": "markdown",
   "metadata": {},
   "source": [
    "## 4.first program"
   ]
  },
  {
   "cell_type": "code",
   "execution_count": 1,
   "metadata": {},
   "outputs": [
    {
     "name": "stdout",
     "output_type": "stream",
     "text": [
      "Hello World\n",
      "What is your name?\n",
      "Lif\n",
      "It is good to meet you, Lif\n",
      "The length of your name is: \n",
      "3\n",
      "What is your age?\n",
      "12\n",
      "You will be 13 in a year.\n"
     ]
    }
   ],
   "source": [
    "# This program says hello and asks for my name\n",
    "\n",
    "print('Hello World')\n",
    "print('What is your name?')  # ask for their name\n",
    "myName = input()\n",
    "print('It is good to meet you, ' + myName)\n",
    "print('The length of your name is: ')\n",
    "print(len(myName))\n",
    "print('What is your age?')  # ask for their ages\n",
    "myAge = input()\n",
    "print('You will be ' + str(int(myAge) + 1) + ' in a year.')"
   ]
  },
  {
   "cell_type": "markdown",
   "metadata": {},
   "source": [
    "- 注释 -----  # \n",
    "- print() --- 打印 ！只允许传入一个整型值或字符串\n",
    "- input() --- 输入为字符串\n",
    "- 表达式总是可以求值为一个值\n",
    "- lne() ----- 计算字符串中字符的个数\n",
    "- 只能用+连接两个整数或连个字符串\n",
    "- str() int() float() ---- 类型转换"
   ]
  },
  {
   "cell_type": "markdown",
   "metadata": {},
   "source": [
    "## 5. 类型转换"
   ]
  },
  {
   "cell_type": "code",
   "execution_count": 5,
   "metadata": {},
   "outputs": [
    {
     "name": "stdout",
     "output_type": "stream",
     "text": [
      "29\n",
      "29\n",
      "29.0\n",
      "I am 19 years old!\n"
     ]
    }
   ],
   "source": [
    "print(29)\n",
    "print(str(29))\n",
    "print(float(29))\n",
    "print('I am ' + str(19) + ' years old!')"
   ]
  },
  {
   "cell_type": "code",
   "execution_count": 8,
   "metadata": {},
   "outputs": [
    {
     "name": "stdout",
     "output_type": "stream",
     "text": [
      "12\n",
      "12\n",
      "12\n",
      "12.0\n"
     ]
    },
    {
     "data": {
      "text/plain": [
       "True"
      ]
     },
     "execution_count": 8,
     "metadata": {},
     "output_type": "execute_result"
    }
   ],
   "source": [
    "# input()接受全为字符串类型\n",
    "tmp = input()\n",
    "print(tmp)\n",
    "print(int(tmp))\n",
    "print(float(tmp)) \n",
    "int(tmp) == float(tmp)  # 整数值可以与浮点值相等"
   ]
  },
  {
   "cell_type": "markdown",
   "metadata": {},
   "source": [
    "# 二、控制流"
   ]
  },
  {
   "cell_type": "markdown",
   "metadata": {},
   "source": [
    "### 1. 布尔值"
   ]
  },
  {
   "cell_type": "code",
   "execution_count": 10,
   "metadata": {},
   "outputs": [
    {
     "name": "stdout",
     "output_type": "stream",
     "text": [
      "True\n"
     ]
    }
   ],
   "source": [
    "# Boolean --- True    False\n",
    "spam = True\n",
    "print(spam)"
   ]
  },
  {
   "cell_type": "markdown",
   "metadata": {},
   "source": [
    "### 2. 比较操作符\n",
    "- 整数型或浮点型永远不会与字符串相等\n",
    "- < > <= >= 只适用于整数型和浮点型"
   ]
  },
  {
   "cell_type": "code",
   "execution_count": 12,
   "metadata": {},
   "outputs": [
    {
     "name": "stdout",
     "output_type": "stream",
     "text": [
      "True\n",
      "False\n",
      "True\n",
      "False\n",
      "True\n",
      "True\n"
     ]
    }
   ],
   "source": [
    "# 等于\n",
    "print(12 == 12)\n",
    "\n",
    "# 不等于\n",
    "print(12 != 12)\n",
    "\n",
    "# 小于\n",
    "print(12 < 23)\n",
    "\n",
    "# 大于\n",
    "print(12 > 23)\n",
    "\n",
    "# 小于等于\n",
    "print(12 <= 34)\n",
    "\n",
    "# 大于等于\n",
    "print(23 >= 12)"
   ]
  },
  {
   "cell_type": "markdown",
   "metadata": {},
   "source": [
    "### 3. 布尔操作符\n",
    "- and or\n",
    "- not\n",
    "- 大于1的数为真，小于等于0的数为假\n",
    "- 优先级： not > and > or"
   ]
  },
  {
   "cell_type": "code",
   "execution_count": 13,
   "metadata": {},
   "outputs": [
    {
     "name": "stdout",
     "output_type": "stream",
     "text": [
      "True\n",
      "True\n"
     ]
    }
   ],
   "source": [
    "# 二元布尔操作符 \n",
    "print(True and True)\n",
    "print(True or False)"
   ]
  },
  {
   "cell_type": "code",
   "execution_count": 16,
   "metadata": {},
   "outputs": [
    {
     "name": "stdout",
     "output_type": "stream",
     "text": [
      "False\n",
      "False\n",
      "True\n",
      "False\n",
      "False\n"
     ]
    }
   ],
   "source": [
    "# not\n",
    "print(not 1)\n",
    "print(not True)\n",
    "print(not False)\n",
    "print(not -1)\n",
    "print(not 0.1)"
   ]
  },
  {
   "cell_type": "code",
   "execution_count": 17,
   "metadata": {},
   "outputs": [
    {
     "name": "stdout",
     "output_type": "stream",
     "text": [
      "False\n"
     ]
    }
   ],
   "source": [
    "# 混合布尔和比较操作符\n",
    "print((4 < 5) and (3 > 4))"
   ]
  },
  {
   "cell_type": "code",
   "execution_count": 20,
   "metadata": {},
   "outputs": [
    {
     "name": "stdout",
     "output_type": "stream",
     "text": [
      "False\n",
      "True\n"
     ]
    }
   ],
   "source": [
    "# 优先级\n",
    "print(not True and False or False)\n",
    "print(not True and False or True)"
   ]
  },
  {
   "cell_type": "markdown",
   "metadata": {},
   "source": [
    "### 4. 控制流的元素\n",
    "- 条件\n",
    "- 代码块"
   ]
  },
  {
   "cell_type": "markdown",
   "metadata": {},
   "source": [
    "条件  ---- 布尔值\n",
    "代码块三个原则：\n",
    "- 缩进增加时，代码块开始\n",
    "- 代码块可以包含其他代码块\n",
    "- 缩进减少为零，或减少为外面包围代码块的缩进，代码块结束"
   ]
  },
  {
   "cell_type": "code",
   "execution_count": 21,
   "metadata": {},
   "outputs": [
    {
     "name": "stdout",
     "output_type": "stream",
     "text": [
      "Please input your name: \n",
      "Lif\n",
      "Hello, Lif!\n",
      "please input your password: \n",
      "123\n",
      "Right!\n"
     ]
    }
   ],
   "source": [
    "print('Please input your name: ')\n",
    "name = input()\n",
    "if (name == 'Lif'):\n",
    "    print('Hello, ' + name + '!')\n",
    "    print('please input your password: ')\n",
    "    passwd = input()\n",
    "    if(passwd == '123'):\n",
    "        print('Right!')\n",
    "    else:\n",
    "        print('Password is wrong!')\n",
    "else:\n",
    "    print('Not you!')"
   ]
  },
  {
   "cell_type": "markdown",
   "metadata": {},
   "source": [
    "### 5. 控制流语句"
   ]
  },
  {
   "cell_type": "markdown",
   "metadata": {},
   "source": [
    "#### if---elif---else"
   ]
  },
  {
   "cell_type": "code",
   "execution_count": 25,
   "metadata": {},
   "outputs": [
    {
     "name": "stdout",
     "output_type": "stream",
     "text": [
      "23\n",
      "> 12\n"
     ]
    }
   ],
   "source": [
    "Age = int(input())\n",
    "# if语句\n",
    "if Age > 12:\n",
    "    print('> 12')\n",
    "# elif 语句 --- 可多重\n",
    "elif Age == 12:\n",
    "    print('= 12')\n",
    "else:\n",
    "    print(' < 12')"
   ]
  },
  {
   "cell_type": "markdown",
   "metadata": {},
   "source": [
    "实例：成绩分段"
   ]
  },
  {
   "cell_type": "code",
   "execution_count": 29,
   "metadata": {},
   "outputs": [
    {
     "name": "stdout",
     "output_type": "stream",
     "text": [
      "Please your score: \n",
      "-12\n",
      "分数无效！\n"
     ]
    }
   ],
   "source": [
    "print('Please your score: ')\n",
    "score = float(input())  \n",
    "if score > 100 or score < 0:\n",
    "    print('分数无效！')\n",
    "elif score >= 90:\n",
    "    print('优')\n",
    "elif score >= 80:\n",
    "    print('良')\n",
    "elif score >= 70:\n",
    "    print('中')\n",
    "elif score > 60:\n",
    "    print('及格')\n",
    "else:\n",
    "    print('不及格')"
   ]
  },
  {
   "cell_type": "markdown",
   "metadata": {},
   "source": [
    "#### while"
   ]
  },
  {
   "cell_type": "code",
   "execution_count": 30,
   "metadata": {},
   "outputs": [
    {
     "name": "stdout",
     "output_type": "stream",
     "text": [
      "Hello World!\n",
      "Hello World!\n",
      "Hello World!\n",
      "Hello World!\n",
      "Hello World!\n"
     ]
    }
   ],
   "source": [
    "spam = 0\n",
    "while spam < 5:\n",
    "    print('Hello World!')\n",
    "    spam = spam + 1"
   ]
  },
  {
   "cell_type": "code",
   "execution_count": 32,
   "metadata": {},
   "outputs": [
    {
     "name": "stdout",
     "output_type": "stream",
     "text": [
      "Please input your name:\n",
      "12\n",
      "Please input your name:\n",
      "Lif\n",
      "Right!\n"
     ]
    }
   ],
   "source": [
    "name = ' '\n",
    "while name != 'Lif':\n",
    "    print('Please input your name:')\n",
    "    name = input()\n",
    "print('Right!')"
   ]
  },
  {
   "cell_type": "markdown",
   "metadata": {},
   "source": [
    "#### break --- 跳出循环"
   ]
  },
  {
   "cell_type": "code",
   "execution_count": 34,
   "metadata": {},
   "outputs": [
    {
     "name": "stdout",
     "output_type": "stream",
     "text": [
      "Please input your name:\n",
      "Lif\n",
      "Right!\n"
     ]
    }
   ],
   "source": [
    "while True:\n",
    "    print('Please input your name:')\n",
    "    name = input()\n",
    "    if name == 'Lif':\n",
    "        break\n",
    "print('Right!')"
   ]
  },
  {
   "cell_type": "markdown",
   "metadata": {},
   "source": [
    "#### continue  --- 循环内部中跳过此步\n",
    "- 如果陷入无限循环中，使用Ctrl + C向程序发送eyboardInterruot错误，使程序停下"
   ]
  },
  {
   "cell_type": "code",
   "execution_count": 36,
   "metadata": {},
   "outputs": [
    {
     "name": "stdout",
     "output_type": "stream",
     "text": [
      "Who are you?\n",
      "12\n",
      "Who are you?\n",
      "qw\n",
      "Who are you?\n",
      "23\n",
      "Who are you?\n",
      "Lif\n",
      "Hello, Lif. What is the password ?\n",
      "123\n",
      "Access granted!\n"
     ]
    }
   ],
   "source": [
    "while True :\n",
    "    print('Who are you?')\n",
    "    name = input()\n",
    "    if name != 'Lif':\n",
    "        continue\n",
    "    print('Hello, Lif. What is the password ?')\n",
    "    passwd = input()\n",
    "    if passwd == '123':\n",
    "        break\n",
    "print('Access granted!')"
   ]
  },
  {
   "cell_type": "markdown",
   "metadata": {},
   "source": [
    "#### for循环和range()函数\n",
    "- 适用于固定次数的循环\n",
    "- 类真 类假 -- 0，0.0，''(空字符串)为假"
   ]
  },
  {
   "cell_type": "code",
   "execution_count": 37,
   "metadata": {},
   "outputs": [
    {
     "name": "stdout",
     "output_type": "stream",
     "text": [
      "Enter your name:\n",
      "lif\n",
      "How many guests will you have?\n",
      "12\n",
      "Be sure to have enough room for all your guests!\n",
      "Done\n"
     ]
    }
   ],
   "source": [
    "name = ''\n",
    "while not name:\n",
    "    print('Enter your name:')\n",
    "    name = input()\n",
    "print('How many guests will you have?')\n",
    "numOfGuests = int(input())\n",
    "if numOfGuests:\n",
    "    print('Be sure to have enough room for all your guests!')\n",
    "print('Done')"
   ]
  },
  {
   "cell_type": "code",
   "execution_count": 38,
   "metadata": {},
   "outputs": [
    {
     "name": "stdout",
     "output_type": "stream",
     "text": [
      "My name is\n",
      "Lifer Five Times (0)\n",
      "Lifer Five Times (1)\n",
      "Lifer Five Times (2)\n",
      "Lifer Five Times (3)\n",
      "Lifer Five Times (4)\n"
     ]
    }
   ],
   "source": [
    "# for\n",
    "print('My name is')\n",
    "for i in range(5):\n",
    "    print('Lifer Five Times (' + str(i) + ')')"
   ]
  },
  {
   "cell_type": "code",
   "execution_count": 41,
   "metadata": {},
   "outputs": [
    {
     "name": "stdout",
     "output_type": "stream",
     "text": [
      "5050\n",
      "5050\n"
     ]
    }
   ],
   "source": [
    "# 计算1+2+3+...+100\n",
    "total = 0\n",
    "for num in range(101):\n",
    "    total = total + num\n",
    "print(total)\n",
    "\n",
    "# 等价的while循环\n",
    "total = 0\n",
    "num = 0\n",
    "while num <= 100:\n",
    "    total = total + num\n",
    "    num = num + 1\n",
    "print(total)"
   ]
  },
  {
   "cell_type": "markdown",
   "metadata": {},
   "source": [
    "#### range()函数\n",
    "- start 默认为0\n",
    "- end 不包括上限\n",
    "- step 默认为1"
   ]
  },
  {
   "cell_type": "code",
   "execution_count": 45,
   "metadata": {},
   "outputs": [
    {
     "name": "stdout",
     "output_type": "stream",
     "text": [
      "12\n",
      "13\n",
      "14\n",
      "15\n"
     ]
    }
   ],
   "source": [
    "# range([start], [end], [step])\n",
    "for i in range(12,16):\n",
    "    print(i)"
   ]
  },
  {
   "cell_type": "code",
   "execution_count": 46,
   "metadata": {},
   "outputs": [
    {
     "name": "stdout",
     "output_type": "stream",
     "text": [
      "2\n",
      "4\n",
      "6\n"
     ]
    }
   ],
   "source": [
    "for i in range(2, 8, 2):\n",
    "    print(i)"
   ]
  },
  {
   "cell_type": "code",
   "execution_count": 47,
   "metadata": {},
   "outputs": [
    {
     "name": "stdout",
     "output_type": "stream",
     "text": [
      "10\n",
      "8\n",
      "6\n",
      "4\n",
      "2\n"
     ]
    }
   ],
   "source": [
    "# 负数步长，较小\n",
    "for i in range(10, 0 , -2):\n",
    "    print(i)"
   ]
  },
  {
   "cell_type": "markdown",
   "metadata": {},
   "source": [
    "### 5. 导入模块\n",
    "- 内建函数 -- 标准库\n",
    "- 使用前需要import导入\n",
    "- 多个模块逗号连接"
   ]
  },
  {
   "cell_type": "markdown",
   "metadata": {},
   "source": [
    "#### import语句"
   ]
  },
  {
   "cell_type": "code",
   "execution_count": 51,
   "metadata": {},
   "outputs": [
    {
     "name": "stdout",
     "output_type": "stream",
     "text": [
      "3\n",
      "10\n",
      "7\n",
      "3\n",
      "7\n"
     ]
    }
   ],
   "source": [
    "import random   # 随机数\n",
    "for i in range(5):\n",
    "    print(random.randint(1,10))  # 必须在函数名前加入random前缀"
   ]
  },
  {
   "cell_type": "markdown",
   "metadata": {},
   "source": [
    "#### from import语句"
   ]
  },
  {
   "cell_type": "code",
   "execution_count": 53,
   "metadata": {},
   "outputs": [
    {
     "name": "stdout",
     "output_type": "stream",
     "text": [
      "3\n",
      "9\n",
      "2\n",
      "1\n",
      "3\n"
     ]
    }
   ],
   "source": [
    "from random import *  # 等价于 import random \n",
    "for i in range(5):\n",
    "    print(randint(1,10))    # 不需要在函数名前加上前缀"
   ]
  },
  {
   "cell_type": "markdown",
   "metadata": {},
   "source": [
    "### 6. sys.exit()提前结束程序\n",
    "- sys模块中的函数-- 让程序终止或退出"
   ]
  },
  {
   "cell_type": "code",
   "execution_count": 55,
   "metadata": {},
   "outputs": [
    {
     "name": "stdout",
     "output_type": "stream",
     "text": [
      "Type exit to exit.\n",
      "exit\n"
     ]
    },
    {
     "ename": "SystemExit",
     "evalue": "",
     "output_type": "error",
     "traceback": [
      "An exception has occurred, use %tb to see the full traceback.\n",
      "\u001b[1;31mSystemExit\u001b[0m\n"
     ]
    },
    {
     "name": "stderr",
     "output_type": "stream",
     "text": [
      "D:\\AppData\\Anaconda\\lib\\site-packages\\IPython\\core\\interactiveshell.py:3426: UserWarning: To exit: use 'exit', 'quit', or Ctrl-D.\n",
      "  warn(\"To exit: use 'exit', 'quit', or Ctrl-D.\", stacklevel=1)\n"
     ]
    }
   ],
   "source": [
    "# 不要胡乱运行\n",
    "import sys\n",
    "\n",
    "while True:\n",
    "    print('Type exit to exit.')\n",
    "    response = input()\n",
    "    if response == 'exit':\n",
    "        sys.exit()\n",
    "    print('You typed ' + response + '.')"
   ]
  },
  {
   "cell_type": "markdown",
   "metadata": {},
   "source": [
    "### 习题"
   ]
  },
  {
   "cell_type": "markdown",
   "metadata": {},
   "source": [
    "1. range(10)   range(0,10)   range(0,10,1)的区别"
   ]
  },
  {
   "cell_type": "code",
   "execution_count": 58,
   "metadata": {},
   "outputs": [
    {
     "name": "stdout",
     "output_type": "stream",
     "text": [
      "0\n",
      "1\n",
      "2\n",
      "3\n",
      "4\n",
      "5\n",
      "6\n",
      "7\n",
      "8\n",
      "9\n",
      "0\n",
      "1\n",
      "2\n",
      "3\n",
      "4\n",
      "5\n",
      "6\n",
      "7\n",
      "8\n",
      "9\n",
      "0\n",
      "1\n",
      "2\n",
      "3\n",
      "4\n",
      "5\n",
      "6\n",
      "7\n",
      "8\n",
      "9\n"
     ]
    }
   ],
   "source": [
    "for i in range(10):\n",
    "    print(i)\n",
    "    \n",
    "for i in range(0,10):\n",
    "    print(i)\n",
    "    \n",
    "for i in range(0,10,1):\n",
    "    print(i)\n",
    "    \n",
    "# 结论 --- 默认值，无区别"
   ]
  },
  {
   "cell_type": "markdown",
   "metadata": {},
   "source": [
    "#### round()函数abs()函数\n",
    "- round() -- 四舍五入函数\n",
    "    - 与版本有关，在python3中，round(1.0/2.0)=0；在python2中，round(1.0/2.0)=1\n",
    "- abs()) ---- 返回数字的绝对值 "
   ]
  },
  {
   "cell_type": "markdown",
   "metadata": {},
   "source": [
    "**使用方法：round(number,digits)**\n",
    "- digits>0，四舍五入到指定的小数位\n",
    "- digits=0, 四舍五入到最接近的整数\n",
    "- digits<0 ，在小数点左侧进行四舍五入\n",
    "- 如果round()函数只有number这个参数，等同于digits=0\n",
    "\n",
    "**四舍五入规则：**\n",
    "- 要求保留位数的后一位<=4，则舍去3，如5.214保留小数点后两位，结果是5.21\n",
    "- 要求保留位数的后一位“=5”，且该位数后面没有数字，则不进位，如5.215，结果为5.21\n",
    "- 要求保留位数的最后一位“=5”，且该位数后面有数字，则进位，如5.2151，结果为5.22\n",
    "- 要求保留位数的最后一位“>=6”，则进位。如5.216，结果为5.22"
   ]
  },
  {
   "cell_type": "code",
   "execution_count": 62,
   "metadata": {},
   "outputs": [
    {
     "name": "stdout",
     "output_type": "stream",
     "text": [
      "5\n",
      "6\n",
      "5.7\n"
     ]
    }
   ],
   "source": [
    "# round()  --- 四舍五入函数\n",
    "print(round(5.12))\n",
    "print(round(5.67))\n",
    "print(round(5.67,1))"
   ]
  },
  {
   "cell_type": "markdown",
   "metadata": {},
   "source": [
    " **abs()函数用于返回数字的绝对值**\n",
    " \n",
    " abs(x) --- x是数值表达式。参数可以是整数或浮点数。如果参数是复数，则返回其大小。如果x定义了abs，abs（x）返回x。"
   ]
  },
  {
   "cell_type": "code",
   "execution_count": 63,
   "metadata": {},
   "outputs": [
    {
     "name": "stdout",
     "output_type": "stream",
     "text": [
      "12.34\n",
      "44\n"
     ]
    }
   ],
   "source": [
    "print(abs(12.34))\n",
    "print(abs(1-45))"
   ]
  }
 ],
 "metadata": {
  "kernelspec": {
   "display_name": "Python 3",
   "language": "python",
   "name": "python3"
  },
  "language_info": {
   "codemirror_mode": {
    "name": "ipython",
    "version": 3
   },
   "file_extension": ".py",
   "mimetype": "text/x-python",
   "name": "python",
   "nbconvert_exporter": "python",
   "pygments_lexer": "ipython3",
   "version": "3.8.5"
  }
 },
 "nbformat": 4,
 "nbformat_minor": 4
}
