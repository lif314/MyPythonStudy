{
 "cells": [
  {
   "cell_type": "markdown",
   "metadata": {},
   "source": [
    "# <center> Ch5 - 字符串操作"
   ]
  },
  {
   "cell_type": "markdown",
   "metadata": {},
   "source": [
    "- 连接字符串\n",
    "- 提取部分字符串\n",
    "- 添加删除特定字符\n",
    "- 大小写转换\n",
    "- 字符串格式\n",
    "- 访问剪切板，复制、粘贴文本\n",
    "- 口令管理器 文本格式自动化"
   ]
  },
  {
   "cell_type": "markdown",
   "metadata": {},
   "source": [
    "## 1. 处理字符串"
   ]
  },
  {
   "cell_type": "markdown",
   "metadata": {},
   "source": [
    "### 字符串字面量\n",
    "- 字符串值：单引号\n",
    "- 字符串中使用单引号？"
   ]
  },
  {
   "cell_type": "markdown",
   "metadata": {},
   "source": [
    "**双引号**"
   ]
  },
  {
   "cell_type": "code",
   "execution_count": 1,
   "metadata": {},
   "outputs": [
    {
     "name": "stdout",
     "output_type": "stream",
     "text": [
      "It's mine.\n"
     ]
    }
   ],
   "source": [
    "# print('It's mine)\n",
    "spam = \"It's mine.\"\n",
    "print(spam)"
   ]
  },
  {
   "cell_type": "markdown",
   "metadata": {},
   "source": [
    "**转义字符**\n",
    "- \\\\' ---- 单引号\n",
    "- \\\\\" ---- 双引号\n",
    "- \\t ---- 制表符\n",
    "- \\n ---- 换行符\n",
    "- \\\\ ---- 倒斜杠"
   ]
  },
  {
   "cell_type": "code",
   "execution_count": 6,
   "metadata": {},
   "outputs": [
    {
     "name": "stdout",
     "output_type": "stream",
     "text": [
      "It's \t mine.\n",
      "Hello world\n"
     ]
    }
   ],
   "source": [
    "spam = 'It\\'s \\t mine.\\nHello world'\n",
    "print(spam)"
   ]
  },
  {
   "cell_type": "markdown",
   "metadata": {},
   "source": [
    "**原始字符串**\n",
    "- 引号前加r:全忽略所有的转义字符，打印出字符串中所有的斜杠"
   ]
  },
  {
   "cell_type": "code",
   "execution_count": 7,
   "metadata": {},
   "outputs": [
    {
     "name": "stdout",
     "output_type": "stream",
     "text": [
      "That is Lif\\'s cat.\n"
     ]
    }
   ],
   "source": [
    "spam = r'That is Lif\\'s cat.'\n",
    "print(spam)"
   ]
  },
  {
   "cell_type": "markdown",
   "metadata": {},
   "source": [
    "**用三重引号的多行字符串**\n",
    "- 3个单引号或3个双引号\n",
    "- 三重引号之间的所有引号、制表符或换行都是字符串的一部分\n",
    "- 转义单引号和双引号是可选的"
   ]
  },
  {
   "cell_type": "code",
   "execution_count": 12,
   "metadata": {},
   "outputs": [
    {
     "name": "stdout",
     "output_type": "stream",
     "text": [
      "Dear Alice,\n",
      "Lif's cat is cute.\n",
      "Hello ‘ ' \\n World \t\n"
     ]
    }
   ],
   "source": [
    "print('''Dear Alice,\n",
    "Lif's cat is cute.''')\n",
    "\n",
    "print(\"\"\"Hello ‘ \\' \\\\n World \\t\"\"\")"
   ]
  },
  {
   "cell_type": "markdown",
   "metadata": {},
   "source": [
    "**多行注释**\n",
    "- \\# --- 一行注释\n",
    "- \"\"\" \"\"\" --- 多行注释"
   ]
  },
  {
   "cell_type": "code",
   "execution_count": 13,
   "metadata": {},
   "outputs": [
    {
     "name": "stdout",
     "output_type": "stream",
     "text": [
      "hello world!\n"
     ]
    }
   ],
   "source": [
    "\"\"\"\n",
    "hello\n",
    "world\n",
    "\"\"\"\n",
    "\n",
    "# hello world\n",
    "\n",
    "print(\"\"\"hello world!\"\"\")"
   ]
  },
  {
   "cell_type": "markdown",
   "metadata": {},
   "source": [
    "**字符串下标和切片**\n",
    "- 切片并不改变原字符串"
   ]
  },
  {
   "cell_type": "code",
   "execution_count": 16,
   "metadata": {},
   "outputs": [
    {
     "name": "stdout",
     "output_type": "stream",
     "text": [
      "12\n",
      "H\n",
      "!\n",
      "ello \n",
      "Hello World!\n",
      "ello World!\n",
      "Hello Wor\n"
     ]
    }
   ],
   "source": [
    "spam = 'Hello World!'\n",
    "print(len(spam))\n",
    "\n",
    "print(spam[0])\n",
    "print(spam[-1])\n",
    "\n",
    "print(spam[1:6])\n",
    "print(spam[:])\n",
    "print(spam[1:])\n",
    "print(spam[:9])"
   ]
  },
  {
   "cell_type": "markdown",
   "metadata": {},
   "source": [
    "**字符串的in和not in操作符**\n",
    "- 区分小小写"
   ]
  },
  {
   "cell_type": "code",
   "execution_count": 17,
   "metadata": {},
   "outputs": [
    {
     "name": "stdout",
     "output_type": "stream",
     "text": [
      "False\n",
      "True\n",
      "True\n"
     ]
    }
   ],
   "source": [
    "spam = 'Hello World!'\n",
    "print('h' in spam)\n",
    "print('Hello' in spam)\n",
    "print('h' not in spam)"
   ]
  },
  {
   "cell_type": "markdown",
   "metadata": {},
   "source": [
    "## 2.  字符串方法"
   ]
  },
  {
   "cell_type": "markdown",
   "metadata": {},
   "source": [
    "### 大小写\n",
    "- upper()\n",
    "- lower()\n",
    "- isupper()\n",
    "- islower()\n",
    "- 没有改变字符串本身，而是返回新的字符串\n",
    "- 如果字符串至少有一个字母，并且所有字母都是大写或小写，isupper()或islower()返回True"
   ]
  },
  {
   "cell_type": "code",
   "execution_count": 20,
   "metadata": {},
   "outputs": [
    {
     "name": "stdout",
     "output_type": "stream",
     "text": [
      "HELLO WORLD!\n",
      "hello world!\n",
      "False\n",
      "True\n",
      "False\n",
      "True\n",
      "True\n"
     ]
    }
   ],
   "source": [
    "spam = 'Hello World!'\n",
    "\n",
    "# upper()\n",
    "upSpam = spam.upper()\n",
    "print(upSpam)\n",
    "\n",
    "# lower()\n",
    "loSpam = spam.lower()\n",
    "print(loSpam)\n",
    "\n",
    "# isupper()\n",
    "print(spam.isupper())\n",
    "print(upSpam.isupper())\n",
    "\n",
    "# islower()\n",
    "print(spam.islower())\n",
    "print(loSpam.islower())\n",
    "\n",
    "# 调用链\n",
    "print('hello'.upper().isupper())"
   ]
  },
  {
   "cell_type": "markdown",
   "metadata": {},
   "source": [
    "### isX方法\n",
    "- isalpha()返回True,字符串只包含字母，并且非空\n",
    "- isalnum()返回True，字符串只包含字母和数字，非空\n",
    "- isdecimal()返回True,字符串只包含数字字符，非空\n",
    "- isspace()返回True, 字符串只包含空格、制表符、换行，非空\n",
    "- istitle()返回True, 只包含大写字母开头，后面都是小写的单词"
   ]
  },
  {
   "cell_type": "code",
   "execution_count": 22,
   "metadata": {},
   "outputs": [
    {
     "name": "stdout",
     "output_type": "stream",
     "text": [
      "True\n",
      "True\n"
     ]
    }
   ],
   "source": [
    "print('hello'.isalpha())\n",
    "print('he123'.isalnum())"
   ]
  },
  {
   "cell_type": "code",
   "execution_count": 23,
   "metadata": {},
   "outputs": [
    {
     "name": "stdout",
     "output_type": "stream",
     "text": [
      "Enter your age:\n",
      "a\n",
      "Please enter a number for your age.\n",
      "Enter your age:\n",
      "12\n",
      "Select a new password(letters and bunbers only):\n",
      "e@\n",
      "Password can only have letters and numbers.\n",
      "Select a new password(letters and bunbers only):\n",
      "as12\n"
     ]
    }
   ],
   "source": [
    "# 验证用户输入\n",
    "\n",
    "while True:\n",
    "    print('Enter your age:')\n",
    "    age = input()\n",
    "    if age.isdecimal():\n",
    "        break\n",
    "    print('Please enter a number for your age.')\n",
    "    \n",
    "while True:\n",
    "    print('Select a new password(letters and bunbers only):')\n",
    "    password = input()\n",
    "    if password.isalnum():\n",
    "        break\n",
    "    print('Password can only have letters and numbers.')"
   ]
  },
  {
   "cell_type": "markdown",
   "metadata": {},
   "source": [
    "### startswith()和endswith()方法\n",
    "-  startswith()和endswith()返回True:所调用的字符串以该方法传入的字符串开始或结束\n",
    "- 如果只检查字符串的开始或结束部分是否等于另一个字符串，而不是整个字符串，这些方法可以替代操作符=="
   ]
  },
  {
   "cell_type": "code",
   "execution_count": 25,
   "metadata": {},
   "outputs": [
    {
     "name": "stdout",
     "output_type": "stream",
     "text": [
      "True\n",
      "True\n"
     ]
    }
   ],
   "source": [
    "print('hello world!'.startswith('hello'))\n",
    "print('hello world!'.endswith('!'))"
   ]
  },
  {
   "cell_type": "markdown",
   "metadata": {},
   "source": [
    "### join()和split()\n",
    "- join():连接字符串 --- 在一个字符串上调用，参数值是字符串列表，返回字符串(由调用字符串作为连接符)\n",
    "- split():字符串分解为列表，默认以空格(空格、制表符、换行符)为分隔符，参数为分隔符"
   ]
  },
  {
   "cell_type": "code",
   "execution_count": 29,
   "metadata": {},
   "outputs": [
    {
     "name": "stdout",
     "output_type": "stream",
     "text": [
      "cat, dog, pig\n"
     ]
    }
   ],
   "source": [
    "# join()\n",
    "space = ', '   # 连接符   \n",
    "strList = ['cat', 'dog', 'pig']  # 参数列表\n",
    "print(space.join(strList))"
   ]
  },
  {
   "cell_type": "code",
   "execution_count": 33,
   "metadata": {},
   "outputs": [
    {
     "name": "stdout",
     "output_type": "stream",
     "text": [
      "['hello', 'world!', 'I', 'love', 'you!']\n",
      "['he', '', 'o wor', 'd! \\nI ', 'ove you!']\n",
      "['h', 'llo world! \\nI lov', ' you!']\n",
      "['hello world! ', 'I love you!']\n"
     ]
    }
   ],
   "source": [
    "# split()\n",
    "string = '''hello world! \n",
    "I love you!'''\n",
    "\n",
    "print(string.split())\n",
    "print(string.split('l'))\n",
    "print(string.split('e'))\n",
    "print(string.split('\\n'))  # 常用"
   ]
  },
  {
   "cell_type": "markdown",
   "metadata": {},
   "source": [
    "### 对齐本文\n",
    "- 通过空格来对齐文本\n",
    "- rjust():第一个参数是整数长度，用于对齐字符串；第二个参数可选，表示填充字符，取代空格字符\n",
    "- ljust():第一个参数是整数长度，用于对齐字符串；第二个参数可选，表示填充字符，取代空格字符\n",
    "- center():文本居中。第一个参数是整数长度，用于对齐字符串；第二个参数可选，表示填充字符，取代空格字符"
   ]
  },
  {
   "cell_type": "code",
   "execution_count": 34,
   "metadata": {},
   "outputs": [
    {
     "name": "stdout",
     "output_type": "stream",
     "text": [
      "        Hello World!\n",
      "Hello World!        \n",
      "    Hello World!    \n",
      "--------Hello World!\n",
      "Hello World!********\n",
      "----Hello World!----\n"
     ]
    }
   ],
   "source": [
    "spam = 'Hello World!'\n",
    "print(spam.rjust(20))\n",
    "print(spam.ljust(20))\n",
    "print(spam.center(20))\n",
    "print(spam.rjust(20, '-'))\n",
    "print(spam.ljust(20, '*'))\n",
    "print(spam.center(20, '-'))"
   ]
  },
  {
   "cell_type": "code",
   "execution_count": 37,
   "metadata": {},
   "outputs": [
    {
     "name": "stdout",
     "output_type": "stream",
     "text": [
      "---PICNIC ITEMS--\n",
      "sandwiches..    4\n",
      "apple.......   12\n",
      "cups........   19\n",
      "cookies.....   21\n",
      "--------PICNIC ITEMS--------\n",
      "sandwiches..........       4\n",
      "apple...............      12\n",
      "cups................      19\n",
      "cookies.............      21\n"
     ]
    }
   ],
   "source": [
    "# 野餐物品清单打印  --- 键左对齐，填充句号。值右对齐，填充空格\n",
    "\n",
    "def printPicnic(itemsDict, leftWidth, rightWidth):\n",
    "    print('PICNIC ITEMS'.center(leftWidth + rightWidth, '-'))\n",
    "    for k,v in itemsDict.items():\n",
    "        print(k.ljust(leftWidth, '.') + str(v).rjust(rightWidth))\n",
    "        \n",
    "picnicItems = {'sandwiches':4, 'apple':12, 'cups':19, 'cookies':21}\n",
    "printPicnic(picnicItems, 12, 5)\n",
    "printPicnic(picnicItems, 20, 8)"
   ]
  },
  {
   "cell_type": "markdown",
   "metadata": {},
   "source": [
    "### 删除空白字符\n",
    "- 空白字符：空格、制表符、换行符\n",
    "- strip()：删除开头和结尾的空白字符\n",
    "- rstrip()：结尾处\n",
    "- lstrip()：开头处\n",
    "- 可选参数，删除特定两边特定字符，顺序不重要"
   ]
  },
  {
   "cell_type": "code",
   "execution_count": 43,
   "metadata": {},
   "outputs": [
    {
     "name": "stdout",
     "output_type": "stream",
     "text": [
      "Hello     Wolrd!\n",
      "     Hello     Wolrd!\n",
      "Hello     Wolrd!      \n",
      " apple eeeeee\n",
      "aaaa apple \n"
     ]
    }
   ],
   "source": [
    "spam = '     Hello     Wolrd!      '\n",
    "print(spam.strip())\n",
    "print(spam.rstrip())\n",
    "print(spam.lstrip())\n",
    "\n",
    "apple = 'aaaa apple eeeeee'\n",
    "print(apple.strip('a'))\n",
    "print(apple.rstrip('e'))"
   ]
  },
  {
   "cell_type": "markdown",
   "metadata": {},
   "source": [
    "### pyperclip模板拷贝粘贴字符串\n",
    "- pyperclip模块不是python自带的\n",
    "- copy():向计算机剪贴板发送文本\n",
    "- paste():向计算机剪贴板接受文本"
   ]
  },
  {
   "cell_type": "code",
   "execution_count": 1,
   "metadata": {},
   "outputs": [
    {
     "data": {
      "text/plain": [
       "'Hello World!'"
      ]
     },
     "execution_count": 1,
     "metadata": {},
     "output_type": "execute_result"
    }
   ],
   "source": [
    "import pyperclip\n",
    "pyperclip.copy('Hello World!')\n",
    "pyperclip.paste()"
   ]
  },
  {
   "cell_type": "markdown",
   "metadata": {},
   "source": [
    "## 3. 项目：口令保管箱\n",
    "- 不同网站不同账号，多个密码，使用口令管理软件，利用一个主控口令，解锁口令管理器，然后将某个账户口令拷贝到剪贴板，再将其粘贴到网站的口令输入框"
   ]
  },
  {
   "cell_type": "code",
   "execution_count": 2,
   "metadata": {},
   "outputs": [],
   "source": [
    "# 第一步：程序设计和数据结构\n",
    "# 字典\n",
    "\n",
    "# pw.py --- An insecure password locker program.\n",
    "\n",
    "PASSWORDS = {'email':'ajd8sdllalaja;aj;caj9da',\n",
    "             'blog':'hlalajaljapa90jjdjdfklfl',\n",
    "             'luggage': 'jajapas5sdsjajaj3je;d'}"
   ]
  },
  {
   "cell_type": "code",
   "execution_count": 3,
   "metadata": {},
   "outputs": [],
   "source": [
    "# 第二步：处理命令行参数\n",
    "\n",
    "# 命令行参数将存储在变量sys.argv中。sys.argv列表中的第一项总是一个字符串，包含程序的文件名；第二项是第一个命令行参数\n",
    "\n",
    "import sys\n",
    "if len(sys.argv) < 2:\n",
    "    print('Usage: python pw.py [account] - copy account password')\n",
    "    sys.exit()\n",
    "    \n",
    "account = sys.argv[1]  # first command line arg is the account name"
   ]
  },
  {
   "cell_type": "code",
   "execution_count": 6,
   "metadata": {},
   "outputs": [
    {
     "name": "stdout",
     "output_type": "stream",
     "text": [
      "Password for email copied to clipboard.\n"
     ]
    }
   ],
   "source": [
    "# 第三步：复制正确的口令\n",
    "# 键查找\n",
    "import pyperclip\n",
    "\n",
    "# test\n",
    "# account = input()\n",
    "\n",
    "if account in PASSWORDS:\n",
    "    pyperclip.copy(PASSWORDS[account])\n",
    "    print('Password for ' + account + ' copied to clipboard.')\n",
    "else:\n",
    "    print('There is no accout named ' + account)"
   ]
  },
  {
   "cell_type": "markdown",
   "metadata": {},
   "source": [
    "## 4. 项目：在Wiki标记中添加无序列表\n",
    "- 在文本的每一行前添加*\n",
    "- bulletPointAdder.py:从剪贴板取得文本，在每一行开始处加上*和空格，然后将这段新的文本贴到剪贴板"
   ]
  },
  {
   "cell_type": "code",
   "execution_count": 10,
   "metadata": {},
   "outputs": [],
   "source": [
    "# 第一步：从剪贴板中复制和粘贴\n",
    "#！ python3\n",
    "# bulletPointAdder.py - Adds Wikipedia bullet points to the start of each line of text on the clipboard\n",
    "\n",
    "import pyperclip\n",
    "text = pyperclip.paste()\n",
    "# TODO: Separate lines and add stars\n",
    "\n",
    "# pyperclip.copy(text)"
   ]
  },
  {
   "cell_type": "code",
   "execution_count": 11,
   "metadata": {},
   "outputs": [],
   "source": [
    "# 第二步：分离文本中的行，并添加*\n",
    "\n",
    "# text是一个大字符串，有换行符'\\n'\n",
    "# 法1：查找字符串中每个'\\n'，然后在它后面添加一个星号\n",
    "# 法2：使用split()得到一个字符串的列表，其中每个表项就是一行，然后在列表中每个字符串前面添加星号\n",
    "\n",
    "# Separate lines and add stars\n",
    "lines = text.split('\\n')\n",
    "for i in range(len(lines)):  # loop through all indexs in the lines list\n",
    "    lines[i] = '* ' + lines[i] # add star to each string in lines list\n",
    "\n",
    "# pyperclip.copy(text)"
   ]
  },
  {
   "cell_type": "code",
   "execution_count": 12,
   "metadata": {},
   "outputs": [],
   "source": [
    "# 第三步：连接修改过的行\n",
    "\n",
    "# list --- > str : join\n",
    "\n",
    "text = '\\n'.join(lines)\n",
    "\n",
    "pyperclip.copy(text)"
   ]
  },
  {
   "cell_type": "code",
   "execution_count": null,
   "metadata": {},
   "outputs": [],
   "source": [
    "# test text \n",
    "1.毛姆的三大长篇：《月亮与六便士》，《刀锋》，《人生的枷锁》，一气呵成读完三本，最大的感受是，每个人的人生不过都是自己的选择而已。\n",
    "2.《约翰克里斯朵夫》，《平凡的世界》，生活嘛 ，自古多磨难。\n",
    "3.《沧浪之水》，《国画》，《侯卫东官场笔记》，不管你当不当官，在中国，政治涉及到各个方面，管中窥豹，可见一斑。\n",
    "4.《上帝掷骰子吗》，《物理世界奇遇记》，《从一到无穷大》，《自私的基因》，《三体》，人人都应该懂点科普，要不好意思去看《星际穿越》。\n",
    "5.《王小波全集》，就算不懂思维的乐趣，相信也能对其天马行空的想象力会心一笑。\n",
    "6.余华的小说，《活着》，《兄弟》，《许三观卖血记》，《在细雨中呼喊》，《第七天》，个人觉得余华比莫言强。\n",
    "7.高阳的历史小说《胡雪岩全传》和《慈禧全传》，你若读不下去资治通鉴，至少要读一下历史小说吧。\n",
    "8.《卡夫卡全集》，尤推《变形记》和《城堡》。\n",
    "9.关于哲学，推荐《牛津大学通识读本》和冯友兰先生的《中国哲学简史》，\n",
    "不推荐《苏菲的世界》和罗素的《西方哲学史》，不如买十本介绍自己感兴趣的哲学家的《牛津大学通识读本》，\n",
    "每本都不厚，细细的读，相信你的收获比苏菲多得多。"
   ]
  },
  {
   "cell_type": "code",
   "execution_count": null,
   "metadata": {},
   "outputs": [],
   "source": [
    "* 1.毛姆的三大长篇：《月亮与六便士》，《刀锋》，《人生的枷锁》，一气呵成读完三本，最大的感受是，每个人的人生不过都是自己的选择而已。\n",
    "* 2.《约翰克里斯朵夫》，《平凡的世界》，生活嘛 ，自古多磨难。\n",
    "* 3.《沧浪之水》，《国画》，《侯卫东官场笔记》，不管你当不当官，在中国，政治涉及到各个方面，管中窥豹，可见一斑。\n",
    "* 4.《上帝掷骰子吗》，《物理世界奇遇记》，《从一到无穷大》，《自私的基因》，《三体》，人人都应该懂点科普，要不好意思去看《星际穿越》。\n",
    "* 5.《王小波全集》，就算不懂思维的乐趣，相信也能对其天马行空的想象力会心一笑。\n",
    "* 6.余华的小说，《活着》，《兄弟》，《许三观卖血记》，《在细雨中呼喊》，《第七天》，个人觉得余华比莫言强。\n",
    "* 7.高阳的历史小说《胡雪岩全传》和《慈禧全传》，你若读不下去资治通鉴，至少要读一下历史小说吧。\n",
    "* 8.《卡夫卡全集》，尤推《变形记》和《城堡》。\n",
    "* 9.关于哲学，推荐《牛津大学通识读本》和冯友兰先生的《中国哲学简史》，\n",
    "* 不推荐《苏菲的世界》和罗素的《西方哲学史》，不如买十本介绍自己感兴趣的哲学家的《牛津大学通识读本》，\n",
    "* 每本都不厚，细细的读，相信你的收获比苏菲多得多。"
   ]
  },
  {
   "cell_type": "markdown",
   "metadata": {},
   "source": [
    "## 5. 实践项目：表格打印\n",
    "- 接受字符串列表的列表，将其显示在组织好的表格中，每列右对齐。假定所有内层列表都包含同样数目的字符串"
   ]
  },
  {
   "cell_type": "code",
   "execution_count": 6,
   "metadata": {},
   "outputs": [
    {
     "name": "stdout",
     "output_type": "stream",
     "text": [
      "  apples Alice   dogs \n",
      "  orange   Bob   cats \n",
      "cheeries Carol  moose \n",
      "  banana David goosse \n"
     ]
    }
   ],
   "source": [
    "tableData = [['apples', 'orange', 'cheeries', 'banana'],\n",
    "         ['Alice', 'Bob', 'Carol', 'David'],\n",
    "         ['dogs', 'cats', 'moose', 'goosse']]\n",
    "\n",
    "#   apples  Alice  dogs\n",
    "#   orange    Bob  cats\n",
    "# cheeries  Carol moose\n",
    "#   banana David  goose\n",
    "\n",
    "# 转置后打印，右对齐\n",
    "\n",
    "def printTable(table):\n",
    "    colWidths = []   # 每个内层列表中最长的字符串\n",
    "    for interList in table:\n",
    "        colWidthMax = 0\n",
    "        for string in interList:\n",
    "            if len(string) > colWidthMax:\n",
    "                colWidthMax = len(string)\n",
    "        colWidths += [colWidthMax]\n",
    "    # print(colWidths)\n",
    "    \n",
    "    # 格式打印\n",
    "    for row in range(len(table[0])):    # 先列 -- 4\n",
    "        for col in range(len(table)):   # 后行 -- 3\n",
    "            print(table[col][row].rjust(colWidths[col]),end =' ')\n",
    "        print()\n",
    "\n",
    "printTable(tableData)               "
   ]
  }
 ],
 "metadata": {
  "kernelspec": {
   "display_name": "Python 3",
   "language": "python",
   "name": "python3"
  },
  "language_info": {
   "codemirror_mode": {
    "name": "ipython",
    "version": 3
   },
   "file_extension": ".py",
   "mimetype": "text/x-python",
   "name": "python",
   "nbconvert_exporter": "python",
   "pygments_lexer": "ipython3",
   "version": "3.8.5"
  }
 },
 "nbformat": 4,
 "nbformat_minor": 4
}
