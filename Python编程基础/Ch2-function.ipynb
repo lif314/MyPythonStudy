{
 "cells": [
  {
   "cell_type": "markdown",
   "metadata": {},
   "source": [
    "# <center> 函数"
   ]
  },
  {
   "cell_type": "markdown",
   "metadata": {},
   "source": [
    "- 函数定义\n",
    "- 函数调用"
   ]
  },
  {
   "cell_type": "markdown",
   "metadata": {},
   "source": [
    "## 1. def语句与参数\n",
    "- 当函数调用时，参数存放在变元中；当函数返回时，保存在变元中的值会丢失 --- 局部作用域"
   ]
  },
  {
   "cell_type": "code",
   "execution_count": 1,
   "metadata": {},
   "outputs": [
    {
     "name": "stdout",
     "output_type": "stream",
     "text": [
      "Hello Lif\n",
      "Hello Alice\n"
     ]
    }
   ],
   "source": [
    "def hello(name):\n",
    "    print('Hello ' + name)\n",
    "    \n",
    "hello('Lif')\n",
    "hello('Alice')"
   ]
  },
  {
   "cell_type": "markdown",
   "metadata": {},
   "source": [
    "## 2. 返回值与return语句\n",
    "- 不需要指明返回类型\n",
    "- 返回值可以作为参数传递给另一个函数调用\n",
    "- None值 --- 没有值 NoneType数据类型的唯一值\n",
    "- 对于所有没有return语句的函数定义，Python会自动在末尾加上return None"
   ]
  },
  {
   "cell_type": "code",
   "execution_count": 9,
   "metadata": {},
   "outputs": [
    {
     "name": "stdout",
     "output_type": "stream",
     "text": [
      "2\n",
      "Wyh\n"
     ]
    }
   ],
   "source": [
    "# return\n",
    "\n",
    "import random \n",
    "\n",
    "# 函数定义\n",
    "def getAns(num):\n",
    "    if num == 1:\n",
    "        return 'Lif'\n",
    "    elif num == 2:\n",
    "        return 'Wyh'\n",
    "    elif num == 9:\n",
    "        return 'Hello'\n",
    "    else:\n",
    "        return 'None'\n",
    "    \n",
    "# 函数调用\n",
    "r = random.randint(1,10)\n",
    "print(r)\n",
    "fortune = getAns(r)\n",
    "print(fortune)"
   ]
  },
  {
   "cell_type": "code",
   "execution_count": 10,
   "metadata": {},
   "outputs": [
    {
     "name": "stdout",
     "output_type": "stream",
     "text": [
      "Hello\n",
      "True\n"
     ]
    }
   ],
   "source": [
    "# 没有返回值的默认返回None\n",
    "spam = print('Hello')\n",
    "\n",
    "print(None == spam)   # print()默认返回None"
   ]
  },
  {
   "cell_type": "markdown",
   "metadata": {},
   "source": [
    "## 3. 关键字参数与print()\n",
    "- 大多数参数是由函数调用时的位置识别的，如range(1,10,1)\n",
    "- 关键字参数是由函数调用时加在它们前面的关键字识别的\n",
    "- 关键字参数通常用于可选变元\n",
    "- 某些函数有可选的关键字参数，在函数调用时可以指定"
   ]
  },
  {
   "cell_type": "markdown",
   "metadata": {},
   "source": [
    " **print()函数可选变元** \n",
    " - end: 参数末尾打印什么，默认回车\n",
    " - sep:参数之间打印什么来隔开它们"
   ]
  },
  {
   "cell_type": "code",
   "execution_count": 16,
   "metadata": {},
   "outputs": [
    {
     "name": "stdout",
     "output_type": "stream",
     "text": [
      "Hello\n",
      "World\n",
      "Hello World\n"
     ]
    }
   ],
   "source": [
    "# end参数\n",
    "\n",
    "print('Hello') # end默认换行符\n",
    "print('World')\n",
    "\n",
    "\n",
    "# end = ' '\n",
    "print('Hello', end = ' ')\n",
    "print('World')"
   ]
  },
  {
   "cell_type": "code",
   "execution_count": 17,
   "metadata": {},
   "outputs": [
    {
     "name": "stdout",
     "output_type": "stream",
     "text": [
      "cats dogs mice\n",
      "cats,dogs,mice\n"
     ]
    }
   ],
   "source": [
    "# sep参数 --- 指明分隔符\n",
    "\n",
    "print('cats', 'dogs', 'mice')\n",
    "\n",
    "# sep = ','\n",
    "print('cats', 'dogs', 'mice',sep = ',')"
   ]
  },
  {
   "cell_type": "markdown",
   "metadata": {},
   "source": [
    "## 4. 局部和全局作用域\n",
    "- 局部作用域：在被调用函数内赋值的变元和变量\n",
    "- 全局作用域：在被调用函数外赋值的变量\n",
    "- 可以将作用域看成变量的容器。当作用域被销毁时，所有保存在该作用域内的变量的值被丢弃\n",
    "- 全局作用域中的变量在程序开始时创建，如果程序终止，全局作用域被销毁，它的所有变量被丢弃\n",
    "- 当函数被调用时，创建局部作用域，当函数返回时，局部作用域被销毁\n",
    "\n",
    "\n",
    "**作用域特性：**\n",
    "- 局部变量不能在全局作用域中使用\n",
    "- 局部作用域不能使用其他局部作用域内的变量\n",
    "- 全局变量可以在局部作用域中读取\n",
    "- 如果在不同的作用域中，可以用相同的名字命名不同的变量"
   ]
  },
  {
   "cell_type": "code",
   "execution_count": 20,
   "metadata": {},
   "outputs": [
    {
     "ename": "NameError",
     "evalue": "name 'eggs' is not defined",
     "output_type": "error",
     "traceback": [
      "\u001b[1;31m---------------------------------------------------------------------------\u001b[0m",
      "\u001b[1;31mNameError\u001b[0m                                 Traceback (most recent call last)",
      "\u001b[1;32m<ipython-input-20-df64f02e57d8>\u001b[0m in \u001b[0;36m<module>\u001b[1;34m\u001b[0m\n\u001b[0;32m      4\u001b[0m     \u001b[0meggs\u001b[0m \u001b[1;33m=\u001b[0m \u001b[1;36m333\u001b[0m\u001b[1;33m\u001b[0m\u001b[1;33m\u001b[0m\u001b[0m\n\u001b[0;32m      5\u001b[0m \u001b[0mspam\u001b[0m\u001b[1;33m(\u001b[0m\u001b[1;33m)\u001b[0m\u001b[1;33m\u001b[0m\u001b[1;33m\u001b[0m\u001b[0m\n\u001b[1;32m----> 6\u001b[1;33m \u001b[0mprint\u001b[0m\u001b[1;33m(\u001b[0m\u001b[0meggs\u001b[0m\u001b[1;33m)\u001b[0m\u001b[1;33m\u001b[0m\u001b[1;33m\u001b[0m\u001b[0m\n\u001b[0m",
      "\u001b[1;31mNameError\u001b[0m: name 'eggs' is not defined"
     ]
    }
   ],
   "source": [
    "# 局部变量不能在全局作用域中使用\n",
    "\n",
    "def spam():\n",
    "    eggs = 333\n",
    "spam()\n",
    "print(eggs)"
   ]
  },
  {
   "cell_type": "code",
   "execution_count": 22,
   "metadata": {},
   "outputs": [
    {
     "name": "stdout",
     "output_type": "stream",
     "text": [
      "98\n"
     ]
    }
   ],
   "source": [
    "# 局部作用域不能使用其他局部作用域内的变量\n",
    "\n",
    "def spam():\n",
    "    eggs =  98\n",
    "    bacon()\n",
    "    print(eggs)\n",
    "    \n",
    "def bacon():\n",
    "    ham = 232\n",
    "    eggs = 0\n",
    "    \n",
    "spam()   # 一个函数的局部变量完全与其他函数中的局部变量分隔开"
   ]
  },
  {
   "cell_type": "code",
   "execution_count": 27,
   "metadata": {},
   "outputs": [
    {
     "name": "stdout",
     "output_type": "stream",
     "text": [
      "12\n",
      "12\n"
     ]
    }
   ],
   "source": [
    "# 全局变量可以在局部作用域中读取\n",
    "def spam():\n",
    "    # eggs = 34    # 在函数内部，局部变量优于全局变量\n",
    "    print(eggs)\n",
    "    \n",
    "eggs = 12\n",
    "spam()\n",
    "print(eggs)"
   ]
  },
  {
   "cell_type": "markdown",
   "metadata": {},
   "source": [
    "**名称相同的局部变量和全局变量**\n",
    "- 尽量避免使用\n",
    "- 各局部作用域之间的同名变量互不影响\n",
    "- 在局部作用域中只能读取变量的值，若存在与全局变量同名的变量，在使用局部作用域中的值"
   ]
  },
  {
   "cell_type": "code",
   "execution_count": 30,
   "metadata": {},
   "outputs": [
    {
     "name": "stdout",
     "output_type": "stream",
     "text": [
      "spam() 45\n",
      "bacon() 34\n",
      "Global 45\n"
     ]
    }
   ],
   "source": [
    "def spam():\n",
    "    eggs = 12\n",
    "    print('spam()',eggs)\n",
    "    \n",
    "def bacon():\n",
    "    eggs = 34\n",
    "    print('bacon()', eggs)\n",
    "    \n",
    "eggs = 45\n",
    "spam()\n",
    "bacon()\n",
    "print('global', eggs) "
   ]
  },
  {
   "cell_type": "code",
   "execution_count": 31,
   "metadata": {},
   "outputs": [
    {
     "name": "stdout",
     "output_type": "stream",
     "text": [
      "spam() 45\n",
      "bacon() 45\n",
      "global 45\n"
     ]
    }
   ],
   "source": [
    "def spam():\n",
    "    # eggs = 12\n",
    "    print('spam()',eggs)\n",
    "    \n",
    "def bacon():\n",
    "    # eggs = 34\n",
    "    print('bacon()', eggs)\n",
    "    \n",
    "eggs = 45\n",
    "spam()\n",
    "bacon()\n",
    "print('global', eggs) "
   ]
  },
  {
   "cell_type": "markdown",
   "metadata": {},
   "source": [
    "**global语句 ---- 在函数内部修改全局变量**"
   ]
  },
  {
   "cell_type": "code",
   "execution_count": 35,
   "metadata": {},
   "outputs": [
    {
     "name": "stdout",
     "output_type": "stream",
     "text": [
      "34\n",
      "spam() 12\n",
      "12\n"
     ]
    }
   ],
   "source": [
    "def spam():\n",
    "    global eggs  # 声明为全局变量\n",
    "    eggs = 12\n",
    "    print('spam()', eggs)\n",
    "    \n",
    "eggs = '34'\n",
    "print(eggs)\n",
    "spam()\n",
    "print(eggs)  # 修改后的全局变量"
   ]
  },
  {
   "cell_type": "markdown",
   "metadata": {},
   "source": [
    "**区分全局变量和局部变量**\n",
    "- 如果变量在全局作用域中使用(即所有函数之外)，它就是全局变量\n",
    "- 如果一个函数中，有针对该变量的global语句，它就是全局变量\n",
    "- 否则，如果该变量用于函数中的赋值语句，它就是局部变量\n",
    "- 但是，如果该变量没有用于赋值语句，它就是全局变量"
   ]
  },
  {
   "cell_type": "code",
   "execution_count": 4,
   "metadata": {},
   "outputs": [
    {
     "name": "stdout",
     "output_type": "stream",
     "text": [
      "spam\n",
      "spam\n",
      "bacon\n",
      "spam\n"
     ]
    }
   ],
   "source": [
    "def spam():\n",
    "    global eggs\n",
    "    eggs = 'spam' # this is the global\n",
    "    print(eggs)\n",
    "    \n",
    "def bacon():\n",
    "    eggs = 'bacon'# this is a local\n",
    "    print(eggs)\n",
    "    \n",
    "def ham():\n",
    "    print(eggs) # this is the global\n",
    "    \n",
    "eggs = 42 # this is the global\n",
    "spam()\n",
    "print(eggs)\n",
    "\n",
    "bacon()\n",
    "ham()"
   ]
  },
  {
   "cell_type": "markdown",
   "metadata": {},
   "source": [
    "**一个函数中，如果在局部变量赋值之前使用，则会报错**"
   ]
  },
  {
   "cell_type": "code",
   "execution_count": 9,
   "metadata": {},
   "outputs": [
    {
     "ename": "UnboundLocalError",
     "evalue": "local variable 'eggs' referenced before assignment",
     "output_type": "error",
     "traceback": [
      "\u001b[1;31m---------------------------------------------------------------------------\u001b[0m",
      "\u001b[1;31mUnboundLocalError\u001b[0m                         Traceback (most recent call last)",
      "\u001b[1;32m<ipython-input-9-1107e78b45c1>\u001b[0m in \u001b[0;36m<module>\u001b[1;34m\u001b[0m\n\u001b[0;32m      4\u001b[0m \u001b[1;33m\u001b[0m\u001b[0m\n\u001b[0;32m      5\u001b[0m \u001b[0meggs\u001b[0m \u001b[1;33m=\u001b[0m \u001b[1;34m'global'\u001b[0m\u001b[1;33m\u001b[0m\u001b[1;33m\u001b[0m\u001b[0m\n\u001b[1;32m----> 6\u001b[1;33m \u001b[0mspam\u001b[0m\u001b[1;33m(\u001b[0m\u001b[1;33m)\u001b[0m\u001b[1;33m\u001b[0m\u001b[1;33m\u001b[0m\u001b[0m\n\u001b[0m",
      "\u001b[1;32m<ipython-input-9-1107e78b45c1>\u001b[0m in \u001b[0;36mspam\u001b[1;34m()\u001b[0m\n\u001b[0;32m      1\u001b[0m \u001b[1;32mdef\u001b[0m \u001b[0mspam\u001b[0m\u001b[1;33m(\u001b[0m\u001b[1;33m)\u001b[0m\u001b[1;33m:\u001b[0m\u001b[1;33m\u001b[0m\u001b[1;33m\u001b[0m\u001b[0m\n\u001b[1;32m----> 2\u001b[1;33m     \u001b[0mprint\u001b[0m\u001b[1;33m(\u001b[0m\u001b[0meggs\u001b[0m\u001b[1;33m)\u001b[0m \u001b[1;31m# error!! --- local variable 'eggs' referenced before assignment\u001b[0m\u001b[1;33m\u001b[0m\u001b[1;33m\u001b[0m\u001b[0m\n\u001b[0m\u001b[0;32m      3\u001b[0m     \u001b[0meggs\u001b[0m \u001b[1;33m=\u001b[0m \u001b[1;34m'spam local'\u001b[0m\u001b[1;33m\u001b[0m\u001b[1;33m\u001b[0m\u001b[0m\n\u001b[0;32m      4\u001b[0m \u001b[1;33m\u001b[0m\u001b[0m\n\u001b[0;32m      5\u001b[0m \u001b[0meggs\u001b[0m \u001b[1;33m=\u001b[0m \u001b[1;34m'global'\u001b[0m\u001b[1;33m\u001b[0m\u001b[1;33m\u001b[0m\u001b[0m\n",
      "\u001b[1;31mUnboundLocalError\u001b[0m: local variable 'eggs' referenced before assignment"
     ]
    }
   ],
   "source": [
    "def spam():\n",
    "    print(eggs) # error!! --- local variable 'eggs' referenced before assignment\n",
    "    eggs = 'spam local'\n",
    "    \n",
    "eggs = 'global'\n",
    "spam()"
   ]
  },
  {
   "cell_type": "code",
   "execution_count": 8,
   "metadata": {},
   "outputs": [
    {
     "name": "stdout",
     "output_type": "stream",
     "text": [
      "global\n"
     ]
    }
   ],
   "source": [
    "def spam():\n",
    "    print(eggs) # well!!!\n",
    "    # eggs = 'spam local'\n",
    "    \n",
    "eggs = 'global'\n",
    "spam()"
   ]
  },
  {
   "cell_type": "markdown",
   "metadata": {},
   "source": [
    "## 5. 异常处理\n",
    "- try ... except ..."
   ]
  },
  {
   "cell_type": "code",
   "execution_count": 20,
   "metadata": {},
   "outputs": [
    {
     "name": "stdout",
     "output_type": "stream",
     "text": [
      "4.666666666666667\n",
      "4.666666666666667\n"
     ]
    },
    {
     "ename": "ZeroDivisionError",
     "evalue": "division by zero",
     "output_type": "error",
     "traceback": [
      "\u001b[1;31m---------------------------------------------------------------------------\u001b[0m",
      "\u001b[1;31mZeroDivisionError\u001b[0m                         Traceback (most recent call last)",
      "\u001b[1;32m<ipython-input-20-531c12d5b05c>\u001b[0m in \u001b[0;36m<module>\u001b[1;34m\u001b[0m\n\u001b[0;32m      5\u001b[0m \u001b[0mprint\u001b[0m\u001b[1;33m(\u001b[0m\u001b[0mspam\u001b[0m\u001b[1;33m(\u001b[0m\u001b[1;36m9\u001b[0m\u001b[1;33m)\u001b[0m\u001b[1;33m)\u001b[0m\u001b[1;33m\u001b[0m\u001b[1;33m\u001b[0m\u001b[0m\n\u001b[0;32m      6\u001b[0m \u001b[0mprint\u001b[0m\u001b[1;33m(\u001b[0m\u001b[0mspam\u001b[0m\u001b[1;33m(\u001b[0m\u001b[1;36m9.0\u001b[0m\u001b[1;33m)\u001b[0m\u001b[1;33m)\u001b[0m\u001b[1;33m\u001b[0m\u001b[1;33m\u001b[0m\u001b[0m\n\u001b[1;32m----> 7\u001b[1;33m \u001b[0mprint\u001b[0m\u001b[1;33m(\u001b[0m\u001b[0mspam\u001b[0m\u001b[1;33m(\u001b[0m\u001b[1;36m0\u001b[0m\u001b[1;33m)\u001b[0m\u001b[1;33m)\u001b[0m\u001b[1;33m\u001b[0m\u001b[1;33m\u001b[0m\u001b[0m\n\u001b[0m\u001b[0;32m      8\u001b[0m \u001b[0mprint\u001b[0m\u001b[1;33m(\u001b[0m\u001b[0mspam\u001b[0m\u001b[1;33m(\u001b[0m\u001b[1;36m1\u001b[0m\u001b[1;33m)\u001b[0m\u001b[1;33m)\u001b[0m\u001b[1;33m\u001b[0m\u001b[1;33m\u001b[0m\u001b[0m\n",
      "\u001b[1;32m<ipython-input-20-531c12d5b05c>\u001b[0m in \u001b[0;36mspam\u001b[1;34m(divideBy)\u001b[0m\n\u001b[0;32m      1\u001b[0m \u001b[1;31m# ZeroDivisionErroe\u001b[0m\u001b[1;33m\u001b[0m\u001b[1;33m\u001b[0m\u001b[1;33m\u001b[0m\u001b[0m\n\u001b[0;32m      2\u001b[0m \u001b[1;32mdef\u001b[0m \u001b[0mspam\u001b[0m\u001b[1;33m(\u001b[0m\u001b[0mdivideBy\u001b[0m\u001b[1;33m)\u001b[0m\u001b[1;33m:\u001b[0m\u001b[1;33m\u001b[0m\u001b[1;33m\u001b[0m\u001b[0m\n\u001b[1;32m----> 3\u001b[1;33m     \u001b[1;32mreturn\u001b[0m \u001b[1;36m42\u001b[0m \u001b[1;33m/\u001b[0m \u001b[0mdivideBy\u001b[0m\u001b[1;33m\u001b[0m\u001b[1;33m\u001b[0m\u001b[0m\n\u001b[0m\u001b[0;32m      4\u001b[0m \u001b[1;33m\u001b[0m\u001b[0m\n\u001b[0;32m      5\u001b[0m \u001b[0mprint\u001b[0m\u001b[1;33m(\u001b[0m\u001b[0mspam\u001b[0m\u001b[1;33m(\u001b[0m\u001b[1;36m9\u001b[0m\u001b[1;33m)\u001b[0m\u001b[1;33m)\u001b[0m\u001b[1;33m\u001b[0m\u001b[1;33m\u001b[0m\u001b[0m\n",
      "\u001b[1;31mZeroDivisionError\u001b[0m: division by zero"
     ]
    }
   ],
   "source": [
    "# ZeroDivisionErroe\n",
    "def spam(divideBy):\n",
    "    return 42 / divideBy\n",
    "\n",
    "print(spam(9))\n",
    "print(spam(9.0))\n",
    "print(spam(0))\n",
    "print(spam(1))"
   ]
  },
  {
   "cell_type": "markdown",
   "metadata": {},
   "source": [
    "#### try...except..\n",
    "- try会捕捉所有错误\n",
    "- try中不捕捉到错误就会跳到except语句，并且不会回到try语句"
   ]
  },
  {
   "cell_type": "code",
   "execution_count": 21,
   "metadata": {},
   "outputs": [
    {
     "name": "stdout",
     "output_type": "stream",
     "text": [
      "3.5\n",
      "Error: Invalid argument\n",
      "None\n",
      "21.0\n"
     ]
    }
   ],
   "source": [
    "def sapm(divideBy):\n",
    "    try:                       # 捕捉错误\n",
    "        return 42 / divideBy\n",
    "    except ZeroDivisionError:  # 错误处理\n",
    "        print('Error: Invalid argument')\n",
    "\n",
    "print(spam(12))\n",
    "print(sapm(0))\n",
    "print(spam(2))"
   ]
  },
  {
   "cell_type": "code",
   "execution_count": 24,
   "metadata": {},
   "outputs": [
    {
     "name": "stdout",
     "output_type": "stream",
     "text": [
      "21.0\n",
      "14.0\n",
      "8.4\n",
      "Error: Invalid argument\n"
     ]
    }
   ],
   "source": [
    "# try中不捕捉到错误就会跳到except语句，并且不会回到try语句\n",
    "\n",
    "def apple(divideBy):\n",
    "    return 42 / divideBy\n",
    "\n",
    "try:\n",
    "    print(apple(2))\n",
    "    print(apple(3))\n",
    "    print(apple(5))\n",
    "    print(apple(0))\n",
    "    print(apple(1))      # 未被执行\n",
    "except ZeroDivisionError:\n",
    "    print('Error: Invalid argument')    "
   ]
  },
  {
   "cell_type": "markdown",
   "metadata": {},
   "source": [
    " ### 6. 猜数字小游戏                                                              "
   ]
  },
  {
   "cell_type": "code",
   "execution_count": 26,
   "metadata": {},
   "outputs": [
    {
     "name": "stdout",
     "output_type": "stream",
     "text": [
      "I am thingking of a number between 1 and 20.\n",
      "Take a guess.\n",
      "34\n",
      "Your guess is too high.\n",
      "Take a guess.\n",
      "56\n",
      "Your guess is too high.\n",
      "Take a guess.\n",
      "56\n",
      "Your guess is too high.\n",
      "Take a guess.\n",
      "44\n",
      "Your guess is too high.\n",
      "Take a guess.\n",
      "45\n",
      "Your guess is too high.\n",
      "Take a guess.\n",
      "33333334\n",
      "Your guess is too high.\n",
      "Nope. The number I was thinking of was 17\n"
     ]
    }
   ],
   "source": [
    "# This is a guess number game \n",
    "\n",
    "import random \n",
    "\n",
    "secretNum = random.randint(1, 20)\n",
    "print('I am thingking of a number between 1 and 20.')\n",
    "\n",
    "# Ask the player to guess 6 times\n",
    "for guessesTaken in range(1,7):\n",
    "    print('Take a guess.')\n",
    "    guess = int(input())     \n",
    "    \n",
    "    if guess < secretNum:\n",
    "        print('Your guess is too low.')\n",
    "    elif guess > secretNum:\n",
    "        print('Your guess is too high.')\n",
    "    else:\n",
    "        break\n",
    "        \n",
    "if guess == secretNum:\n",
    "    print('Good job! You guessed my number in ' + str(guessesTaken) + ' guesses!')\n",
    "else:\n",
    "    print('Nope. The number I was thinking of was ' + str(secretNum))"
   ]
  },
  {
   "cell_type": "markdown",
   "metadata": {},
   "source": [
    "### 7. Collatz序列\n",
    "- 编写collatz函数，参数是number.如果number是偶数，打印number//2,并返回该值；如果number是奇数，打印3*number+1并返回。调用该函数，直到结果为1"
   ]
  },
  {
   "cell_type": "code",
   "execution_count": 2,
   "metadata": {},
   "outputs": [
    {
     "name": "stdout",
     "output_type": "stream",
     "text": [
      "Enter a number: \n",
      "3\n",
      "10\n",
      "5\n",
      "16\n",
      "8\n",
      "4\n",
      "2\n",
      "1\n"
     ]
    }
   ],
   "source": [
    "# Collatz function\n",
    "def collatz(number):\n",
    "    if number % 2 == 0:   # 偶数\n",
    "        print(number // 2)\n",
    "        return number // 2\n",
    "    else:\n",
    "        print(3 * number + 1)\n",
    "        return 3 * number + 1\n",
    "\n",
    "\n",
    "print('Enter a number: ')\n",
    "num = int(input())\n",
    "returnNum = collatz(num)\n",
    "while True:  \n",
    "    if returnNum == 1:\n",
    "        break\n",
    "    else:\n",
    "        returnNum = collatz(returnNum)\n",
    "        continue"
   ]
  },
  {
   "cell_type": "markdown",
   "metadata": {},
   "source": [
    "### 8. 输入验证\n",
    "- 检测输入非整型错误 --- int()传入非整数字符串时，出现ValueError错误"
   ]
  },
  {
   "cell_type": "code",
   "execution_count": 4,
   "metadata": {},
   "outputs": [
    {
     "name": "stdout",
     "output_type": "stream",
     "text": [
      "Enter a number: \n",
      "22\n",
      "11\n",
      "34\n",
      "17\n",
      "52\n",
      "26\n",
      "13\n",
      "40\n",
      "20\n",
      "10\n",
      "5\n",
      "16\n",
      "8\n",
      "4\n",
      "2\n",
      "1\n"
     ]
    }
   ],
   "source": [
    "# Collatz function\n",
    "def collatz(number):\n",
    "    if number % 2 == 0:   # 偶数\n",
    "        print(number // 2)\n",
    "        return number // 2\n",
    "    else:\n",
    "        print(3 * number + 1)\n",
    "        return 3 * number + 1\n",
    "\n",
    "\n",
    "print('Enter a number: ')\n",
    "\n",
    "try:\n",
    "    num = int(input())\n",
    "    returnNum = collatz(num)\n",
    "    while True:  \n",
    "        if returnNum == 1:\n",
    "            break\n",
    "        else:\n",
    "            returnNum = collatz(returnNum)\n",
    "            continue\n",
    "except ValueError:\n",
    "    print('Please enter an integer')\n",
    "    # num = 100          # 设置默认值\n",
    "    # print(100)"
   ]
  }
 ],
 "metadata": {
  "kernelspec": {
   "display_name": "Python 3",
   "language": "python",
   "name": "python3"
  },
  "language_info": {
   "codemirror_mode": {
    "name": "ipython",
    "version": 3
   },
   "file_extension": ".py",
   "mimetype": "text/x-python",
   "name": "python",
   "nbconvert_exporter": "python",
   "pygments_lexer": "ipython3",
   "version": "3.8.5"
  }
 },
 "nbformat": 4,
 "nbformat_minor": 4
}
