{
 "cells": [
  {
   "cell_type": "markdown",
   "metadata": {},
   "source": [
    "# <center> Ch3 - 列表 "
   ]
  },
  {
   "cell_type": "markdown",
   "metadata": {},
   "source": [
    "- 列表\n",
    "- 元组\n",
    "- 字符串"
   ]
  },
  {
   "cell_type": "markdown",
   "metadata": {},
   "source": [
    "## 1. 列表数据类型\n",
    "- 列表：多个值的序列\n",
    "- [] 空列表"
   ]
  },
  {
   "cell_type": "markdown",
   "metadata": {},
   "source": [
    "### 用下标取得列表中的单个值 \n",
    "- 第一个下标为0\n",
    "- 如果下标超出了列表中值的个数 --- IndexError\n",
    "- 下标只能是整数，不能是浮点数 ---- TypeError\n",
    "- 列表可以包含其他列表值，多重下标"
   ]
  },
  {
   "cell_type": "code",
   "execution_count": 7,
   "metadata": {},
   "outputs": [
    {
     "name": "stdout",
     "output_type": "stream",
     "text": [
      "cat\n",
      "cat\n",
      "1\n",
      "dog\n",
      "3\n"
     ]
    }
   ],
   "source": [
    "spam = ['cat', 'dog', 'rat', 'elephant']\n",
    "\n",
    "print(spam[0])\n",
    "\n",
    "#spam[100]  # list index out of range\n",
    "\n",
    "\n",
    "apple = [['cat', 'dog', 'rat', 'elephant'], [1, 2, 3, 4, 5]]\n",
    "\n",
    "print(apple[0][0])\n",
    "print(apple[1][0])\n",
    "print(apple[0][1])\n",
    "print(apple[1][2])"
   ]
  },
  {
   "cell_type": "markdown",
   "metadata": {},
   "source": [
    "### 负数下标\n",
    "- -1代表最后一个元素的下标"
   ]
  },
  {
   "cell_type": "code",
   "execution_count": 8,
   "metadata": {},
   "outputs": [
    {
     "name": "stdout",
     "output_type": "stream",
     "text": [
      "elephant\n",
      "rat\n",
      "dog\n"
     ]
    }
   ],
   "source": [
    "spam = ['cat', 'dog', 'rat', 'elephant']\n",
    "\n",
    "print(spam[-1])\n",
    "print(spam[-2])\n",
    "print(spam[-3])"
   ]
  },
  {
   "cell_type": "markdown",
   "metadata": {},
   "source": [
    "### 利用切片取得子列表\n",
    "- [start : end] 不包括end下标的元素\n",
    "- 缺省时，start默认为0，end默认为列表的长度"
   ]
  },
  {
   "cell_type": "code",
   "execution_count": 10,
   "metadata": {},
   "outputs": [
    {
     "name": "stdout",
     "output_type": "stream",
     "text": [
      "['dog']\n",
      "['cat', 'dog', 'rat']\n",
      "['dog', 'rat']\n",
      "['cat', 'dog']\n",
      "['cat', 'dog', 'rat', 'elephant']\n",
      "['cat', 'dog', 'rat']\n",
      "['dog', 'rat', 'elephant']\n"
     ]
    }
   ],
   "source": [
    "spam = ['cat', 'dog', 'rat', 'elephant']\n",
    "\n",
    "print(spam[1:2])\n",
    "print(spam[0:3])\n",
    "print(spam[1:3])\n",
    "print(spam[0:2])\n",
    "\n",
    "print(spam[:])\n",
    "print(spam[:3])\n",
    "print(spam[1:])"
   ]
  },
  {
   "cell_type": "markdown",
   "metadata": {},
   "source": [
    "### 用len()取得列表的长度"
   ]
  },
  {
   "cell_type": "code",
   "execution_count": 11,
   "metadata": {},
   "outputs": [
    {
     "data": {
      "text/plain": [
       "4"
      ]
     },
     "execution_count": 11,
     "metadata": {},
     "output_type": "execute_result"
    }
   ],
   "source": [
    "spam = ['cat', 'dog', 'rat', 'elephant']\n",
    "\n",
    "len(spam)"
   ]
  },
  {
   "cell_type": "markdown",
   "metadata": {},
   "source": [
    "### 用下标改变列表中的值"
   ]
  },
  {
   "cell_type": "code",
   "execution_count": 14,
   "metadata": {},
   "outputs": [
    {
     "name": "stdout",
     "output_type": "stream",
     "text": [
      "['bird', 'dog', 'rat', 'elephant']\n",
      "['bird', 'dog', 'rat', 'bird']\n"
     ]
    }
   ],
   "source": [
    "spam = ['cat', 'dog', 'rat', 'elephant']\n",
    "\n",
    "spam[0] = 'bird'\n",
    "print(spam)\n",
    "\n",
    "spam[3] = 'bird'\n",
    "print(spam)"
   ]
  },
  {
   "cell_type": "markdown",
   "metadata": {},
   "source": [
    "### 列表连接和复制\n",
    "- \\+ 连接\n",
    "- \\* 复制 --- 用于一个列表和一个整数"
   ]
  },
  {
   "cell_type": "code",
   "execution_count": 15,
   "metadata": {},
   "outputs": [
    {
     "name": "stdout",
     "output_type": "stream",
     "text": [
      "[1, 2, 3, 'cat', 'dog']\n",
      "[1, 2, 3, 1, 2, 3, 1, 2, 3, 1, 2, 3]\n"
     ]
    }
   ],
   "source": [
    "print([1,2,3] + ['cat', 'dog'])\n",
    "print([1,2,3]*4)"
   ]
  },
  {
   "cell_type": "markdown",
   "metadata": {},
   "source": [
    "### 用del语句从列表中删除值\n",
    "- del语句将删除列表中下标处的值，表中被删除值后面的所有值，都将向前移动一个下标\n",
    "- del语句也可用于一个简单便来你，删除它，作用“取消赋值”\n",
    "- del语句几乎总是用于删除列表中的值"
   ]
  },
  {
   "cell_type": "code",
   "execution_count": null,
   "metadata": {},
   "outputs": [],
   "source": []
  },
  {
   "cell_type": "code",
   "execution_count": 17,
   "metadata": {},
   "outputs": [
    {
     "name": "stdout",
     "output_type": "stream",
     "text": [
      "['cat', 'rat', 'elephant']\n",
      "rat\n"
     ]
    }
   ],
   "source": [
    "spam = ['cat', 'dog', 'rat', 'elephant']\n",
    "\n",
    "del spam[1]\n",
    "print(spam)\n",
    "print(spam[1])"
   ]
  },
  {
   "cell_type": "markdown",
   "metadata": {},
   "source": [
    "## 2. 使用列表\n",
    "- 添加方式： catNames = catNames + [name] "
   ]
  },
  {
   "cell_type": "code",
   "execution_count": 19,
   "metadata": {},
   "outputs": [
    {
     "name": "stdout",
     "output_type": "stream",
     "text": [
      "Enter the name of cat 1 (Or enter nothing to stop.)\n",
      "Hello\n",
      "Enter the name of cat 2 (Or enter nothing to stop.)\n",
      "World\n",
      "Enter the name of cat 3 (Or enter nothing to stop.)\n",
      "\n",
      "The cat names are:\n",
      " Hello\n",
      " World\n"
     ]
    }
   ],
   "source": [
    "# all my cats\n",
    "\n",
    "catNames = []\n",
    "while True:\n",
    "    print('Enter the name of cat ' + str(len(catNames) + 1) + ' (Or enter nothing to stop.)')\n",
    "    name = input()\n",
    "    if name == '':\n",
    "        break\n",
    "    catNames = catNames + [name]     # list concatenation\n",
    "print('The cat names are:')\n",
    "for name in catNames:\n",
    "    print(' ' + name)"
   ]
  },
  {
   "cell_type": "markdown",
   "metadata": {},
   "source": [
    "### 列表用于循环\n",
    "- range()返回值类似列表中的值\n",
    "- 在for循环中使用range(len(someList))迭代列表的每个下标"
   ]
  },
  {
   "cell_type": "code",
   "execution_count": 21,
   "metadata": {},
   "outputs": [
    {
     "name": "stdout",
     "output_type": "stream",
     "text": [
      "1\n",
      "2\n",
      "3\n",
      "4\n"
     ]
    }
   ],
   "source": [
    "for i in [1, 2,3,4]:\n",
    "    print(i)"
   ]
  },
  {
   "cell_type": "code",
   "execution_count": 22,
   "metadata": {},
   "outputs": [
    {
     "name": "stdout",
     "output_type": "stream",
     "text": [
      "Index 0 in supplies is: pens\n",
      "Index 1 in supplies is: staplers\n",
      "Index 2 in supplies is: binders\n",
      "Index 3 in supplies is: flame-throwers\n"
     ]
    }
   ],
   "source": [
    "supplies = ['pens', 'staplers', 'binders', 'flame-throwers']\n",
    "for i in range(len(supplies)):\n",
    "    print('Index ' + str(i) + ' in supplies is: ' + supplies[i])"
   ]
  },
  {
   "cell_type": "markdown",
   "metadata": {},
   "source": [
    "### in和not in操作符\n",
    "- in/not in --- 确定一个值是否在列表中"
   ]
  },
  {
   "cell_type": "code",
   "execution_count": 23,
   "metadata": {},
   "outputs": [
    {
     "name": "stdout",
     "output_type": "stream",
     "text": [
      "True\n",
      "False\n"
     ]
    }
   ],
   "source": [
    "supplies = ['pens', 'staplers', 'binders', 'flame-throwers']\n",
    "\n",
    "print('pens' in supplies)\n",
    "print('pens' not in supplies)"
   ]
  },
  {
   "cell_type": "code",
   "execution_count": 27,
   "metadata": {},
   "outputs": [
    {
     "name": "stdout",
     "output_type": "stream",
     "text": [
      "Enter a pet name: \n",
      "Hello\n",
      "It exists! \n",
      "['Hello', 'World', 'Baby']\n"
     ]
    }
   ],
   "source": [
    "myPets = ['Hello', 'World', 'Baby']\n",
    "\n",
    "print('Enter a pet name: ')\n",
    "name = input()\n",
    "if name not in myPets:\n",
    "    myPets = myPets + [name]   # 添加新元素\n",
    "else:\n",
    "    print('It exists! ')\n",
    "    \n",
    "print(myPets)"
   ]
  },
  {
   "cell_type": "markdown",
   "metadata": {},
   "source": [
    "### 多重赋值技巧\n",
    "- 变量的数目和列表的长度必须严格相等   --- ValueError"
   ]
  },
  {
   "cell_type": "code",
   "execution_count": 28,
   "metadata": {},
   "outputs": [
    {
     "name": "stdout",
     "output_type": "stream",
     "text": [
      "fat,black,loud "
     ]
    }
   ],
   "source": [
    "cat = ['fat', 'black', 'loud']\n",
    "size, color, disposition = cat\n",
    "print(size, color, disposition, end = ' ', sep = ',' )"
   ]
  },
  {
   "cell_type": "markdown",
   "metadata": {},
   "source": [
    "## 3. 增强的赋值操作"
   ]
  },
  {
   "cell_type": "code",
   "execution_count": 30,
   "metadata": {},
   "outputs": [
    {
     "name": "stdout",
     "output_type": "stream",
     "text": [
      "42\n",
      "43\n",
      "38\n",
      "76\n",
      "25.333333333333332\n",
      "1.3333333333333321\n"
     ]
    }
   ],
   "source": [
    "spam = 42\n",
    "print(spam)\n",
    "\n",
    "spam += 1 \n",
    "print(spam)\n",
    "\n",
    "spam -= 5 \n",
    "print(spam)\n",
    "\n",
    "spam *= 2\n",
    "print(spam)\n",
    "\n",
    "spam /= 3 \n",
    "print(spam)\n",
    "\n",
    "spam %= 4 \n",
    "print(spam)"
   ]
  },
  {
   "cell_type": "code",
   "execution_count": 34,
   "metadata": {},
   "outputs": [
    {
     "name": "stdout",
     "output_type": "stream",
     "text": [
      "Hello World!\n",
      "['cat', 'd', 'o', 'g']\n",
      "['cat', 'd', 'o', 'g', 'dog']\n",
      "['cat', 'd', 'o', 'g', 'dog', 'cat', 'd', 'o', 'g', 'dog', 'cat', 'd', 'o', 'g', 'dog']\n"
     ]
    }
   ],
   "source": [
    "spam = 'Hello'\n",
    "spam += ' World!'\n",
    "print(spam)\n",
    "\n",
    "bacon = ['cat']\n",
    "bacon  += 'dog'   # 字符串中元素就是列表中的一个值\n",
    "print(bacon)\n",
    "\n",
    "bacon  += ['dog']\n",
    "print(bacon)\n",
    "\n",
    "\n",
    "bacon *= 3\n",
    "print(bacon)"
   ]
  },
  {
   "cell_type": "markdown",
   "metadata": {},
   "source": [
    "## 4. 方法\n",
    "- 方法==函数，方法是调用在一个值上\n",
    "- 每种数据类型都有一组对应的方法"
   ]
  },
  {
   "cell_type": "markdown",
   "metadata": {},
   "source": [
    "### 用index()方法在列表中查找值\n",
    "- index()存入一个值，如果该值在列表中，则返回其下标，否则报ValueError\n",
    "- 如果存在重复的元素，则返回第一次出现的下标"
   ]
  },
  {
   "cell_type": "code",
   "execution_count": 36,
   "metadata": {},
   "outputs": [
    {
     "name": "stdout",
     "output_type": "stream",
     "text": [
      "1\n"
     ]
    }
   ],
   "source": [
    "apple = ['hello', 'pi', 'world', 'hi']\n",
    "print(apple.index('pi'))"
   ]
  },
  {
   "cell_type": "markdown",
   "metadata": {},
   "source": [
    "### 用append()和insert()方法在列表中添加值\n",
    "- append()：将元素添加到末尾\n",
    "- insert(index, content):第一个参数是新值的下标，第二个参数是插入的新值\\\n",
    "- 两个函数返回值都是None\n",
    "- 两个方法只能在列表上使用\n",
    "- 是在原始列表上直接修改，而不是通过副本修改"
   ]
  },
  {
   "cell_type": "code",
   "execution_count": 37,
   "metadata": {},
   "outputs": [
    {
     "name": "stdout",
     "output_type": "stream",
     "text": [
      "['hello', 'pi', 'world', 'hi', 'yeah']\n",
      "['hello', 'wow', 'pi', 'world', 'hi', 'yeah']\n"
     ]
    }
   ],
   "source": [
    "apple = ['hello', 'pi', 'world', 'hi']\n",
    "\n",
    "apple.append('yeah')\n",
    "print(apple)\n",
    "\n",
    "apple.insert(1, 'wow')\n",
    "print(apple)"
   ]
  },
  {
   "cell_type": "markdown",
   "metadata": {},
   "source": [
    "### 用remove()方法从列表中删除值\n",
    "- 传入值，从列表中删除\n",
    "- 如果值重复，删除第一次出现的\n",
    "- 如果值不存在，ValueError\n",
    "- 通过下标删除-- del; 通过值删除 --- remove()"
   ]
  },
  {
   "cell_type": "code",
   "execution_count": 41,
   "metadata": {},
   "outputs": [
    {
     "name": "stdout",
     "output_type": "stream",
     "text": [
      "['hello', 'world', 'hi']\n"
     ]
    }
   ],
   "source": [
    "apple = ['hello', 'pi', 'world', 'hi']\n",
    "apple.remove('pi')\n",
    "print(apple)\n",
    "\n",
    "# apple.remove('Pi') # list.remove(x): x not in list\n",
    "# print(apple)   "
   ]
  },
  {
   "cell_type": "code",
   "execution_count": 42,
   "metadata": {},
   "outputs": [
    {
     "name": "stdout",
     "output_type": "stream",
     "text": [
      "['hello', 'world', 'hi']\n",
      "Value not exists!\n"
     ]
    }
   ],
   "source": [
    "# 删除之前需要判断是否可以删除\n",
    "apple = ['hello', 'pi', 'world', 'hi']\n",
    "\n",
    "if 'pi' in apple:\n",
    "    apple.remove('pi')\n",
    "    print(apple)\n",
    "else:\n",
    "    print('Value not exists!')\n",
    "    \n",
    "if 'Pi' in apple:\n",
    "    apple.remove('Pi')\n",
    "    print(apple)\n",
    "else:\n",
    "      print('Value not exists!')"
   ]
  },
  {
   "cell_type": "markdown",
   "metadata": {},
   "source": [
    "### 用sort()方法将列表中的值排序\n",
    "- 默认为升序排序，指定reverse=True按逆序排序\n",
    "- sort对原始列表进行排序，即更改原始列表，不要写出spam = spam.sort()\n",
    "- 不能对既有数字又有字符串的列表排序\n",
    "- sort对字符串排序使用ASCII字符顺序排序 --- 大写字母在小写字母之前\n",
    "- 若按照字典顺序，则需指明key=str.lower  --- sort将所有改为小写后排序，但实际上并不更改值的大小写"
   ]
  },
  {
   "cell_type": "code",
   "execution_count": 47,
   "metadata": {},
   "outputs": [
    {
     "name": "stdout",
     "output_type": "stream",
     "text": [
      "[2, 54, 6, 2, 7, 5, 8]\n",
      "[2, 2, 5, 6, 7, 8, 54]\n",
      "[54, 8, 7, 6, 5, 2, 2]\n"
     ]
    }
   ],
   "source": [
    "# 数字排序\n",
    "intList = [2,54,6,2,7,5,8]\n",
    "print(intList)\n",
    "\n",
    "intList.sort()\n",
    "print(intList)\n",
    "\n",
    "intList.sort(reverse=True)\n",
    "print(intList)"
   ]
  },
  {
   "cell_type": "code",
   "execution_count": 49,
   "metadata": {},
   "outputs": [
    {
     "name": "stdout",
     "output_type": "stream",
     "text": [
      "['a', 'A', 'e', 'ww', 'E']\n",
      "['A', 'E', 'a', 'e', 'ww']\n",
      "['ww', 'e', 'a', 'E', 'A']\n",
      "['ww', 'e', 'E', 'a', 'A']\n"
     ]
    }
   ],
   "source": [
    "# 字符串排序\n",
    "strList = ['a', 'A', 'e', 'ww', 'E']\n",
    "print(strList)\n",
    "\n",
    "strList.sort()\n",
    "print(strList)\n",
    "\n",
    "strList.sort(reverse=True)\n",
    "print(strList)\n",
    "\n",
    "strList.sort(reverse=True, key=str.lower)  # key小写\n",
    "print(strList)"
   ]
  },
  {
   "cell_type": "markdown",
   "metadata": {},
   "source": [
    "## 5. 缩进规则的例外\n",
    "- 列表中缩进不重要\n",
    "- 使用续行字符 \\ -- 一条指令写成多行"
   ]
  },
  {
   "cell_type": "code",
   "execution_count": 50,
   "metadata": {},
   "outputs": [
    {
     "name": "stdout",
     "output_type": "stream",
     "text": [
      "['cat', 'hello']\n"
     ]
    }
   ],
   "source": [
    "apple = ['cat', \n",
    "        \n",
    "        'hello']\n",
    "\n",
    "print(apple)"
   ]
  },
  {
   "cell_type": "code",
   "execution_count": 53,
   "metadata": {},
   "outputs": [
    {
     "name": "stdout",
     "output_type": "stream",
     "text": [
      "helloWorld\n"
     ]
    }
   ],
   "source": [
    "print('hello' +  \\\n",
    "'World')"
   ]
  },
  {
   "cell_type": "markdown",
   "metadata": {},
   "source": [
    "## 6. 类似列表的类型：字符串和元组\n",
    "- 公有操作：按下标取值、切片、for循环、len()、in、not in"
   ]
  },
  {
   "cell_type": "code",
   "execution_count": 55,
   "metadata": {},
   "outputs": [
    {
     "name": "stdout",
     "output_type": "stream",
     "text": [
      "H\n",
      "ello World\n",
      "Hello\n",
      "('Hello', 'World')\n"
     ]
    }
   ],
   "source": [
    "name = 'Hello World'\n",
    "print(name[0])\n",
    "print(name[1:])\n",
    "\n",
    "tuples = ('Hello', 'World')\n",
    "print(tuples[0])\n",
    "print(tuples[:])"
   ]
  },
  {
   "cell_type": "markdown",
   "metadata": {},
   "source": [
    "### 可变和不可变数据类型\n",
    "- 列表是可变的，可添加、删除、改变\n",
    "- 字符串是不可变的，不能被更改，不能赋值\n",
    "- ‘改变’一个字符串的正确方式，是切片和连接\n",
    "- 元组是不可变的\n",
    "- 改变一个可变数据类型的值，当场改变该值，因为该变量的值没有被一个新的列表值取代"
   ]
  },
  {
   "cell_type": "code",
   "execution_count": 1,
   "metadata": {},
   "outputs": [
    {
     "ename": "TypeError",
     "evalue": "'str' object does not support item assignment",
     "output_type": "error",
     "traceback": [
      "\u001b[1;31m---------------------------------------------------------------------------\u001b[0m",
      "\u001b[1;31mTypeError\u001b[0m                                 Traceback (most recent call last)",
      "\u001b[1;32m<ipython-input-1-7d5c479938ae>\u001b[0m in \u001b[0;36m<module>\u001b[1;34m\u001b[0m\n\u001b[0;32m      1\u001b[0m \u001b[1;31m# 字符串不能赋值\u001b[0m\u001b[1;33m\u001b[0m\u001b[1;33m\u001b[0m\u001b[1;33m\u001b[0m\u001b[0m\n\u001b[0;32m      2\u001b[0m \u001b[0mname\u001b[0m \u001b[1;33m=\u001b[0m \u001b[1;34m'llllfd'\u001b[0m\u001b[1;33m\u001b[0m\u001b[1;33m\u001b[0m\u001b[0m\n\u001b[1;32m----> 3\u001b[1;33m \u001b[0mname\u001b[0m\u001b[1;33m[\u001b[0m\u001b[1;36m0\u001b[0m\u001b[1;33m]\u001b[0m \u001b[1;33m=\u001b[0m \u001b[1;34m'd'\u001b[0m\u001b[1;33m\u001b[0m\u001b[1;33m\u001b[0m\u001b[0m\n\u001b[0m\u001b[0;32m      4\u001b[0m \u001b[0mprint\u001b[0m\u001b[1;33m(\u001b[0m\u001b[0mname\u001b[0m\u001b[1;33m)\u001b[0m\u001b[1;33m\u001b[0m\u001b[1;33m\u001b[0m\u001b[0m\n",
      "\u001b[1;31mTypeError\u001b[0m: 'str' object does not support item assignment"
     ]
    }
   ],
   "source": [
    "# 字符串不能赋值\n",
    "name = 'llllfd'\n",
    "name[0] = 'd' # 'str' object does not support item assignment\n",
    "print(name)"
   ]
  },
  {
   "cell_type": "code",
   "execution_count": 3,
   "metadata": {},
   "outputs": [
    {
     "name": "stdout",
     "output_type": "stream",
     "text": [
      "hello world\n",
      "hello Lif world\n"
     ]
    }
   ],
   "source": [
    "# 字符串改变 --- 切片和连接\n",
    "apple = 'hello world'\n",
    "newApple = apple[0:5] + ' Lif' + apple[5:]\n",
    "print(apple)     # 字符串本身不可变\n",
    "print(newApple)"
   ]
  },
  {
   "cell_type": "code",
   "execution_count": 6,
   "metadata": {},
   "outputs": [
    {
     "name": "stdout",
     "output_type": "stream",
     "text": [
      "[1, 2, 3, 4]\n"
     ]
    }
   ],
   "source": [
    "# 列表是可变的\n",
    "spam = [1,2,3]\n",
    "spam.append(4)\n",
    "print(spam)"
   ]
  },
  {
   "cell_type": "markdown",
   "metadata": {},
   "source": [
    "### 元组数据类型\n",
    "- 元组是不可变的  tuple --- ()  ------ 适用于永远不会改变的序列\n",
    "- 如果元组中只有一个值，可以在其后加上逗号来与字符串作区分"
   ]
  },
  {
   "cell_type": "code",
   "execution_count": 7,
   "metadata": {},
   "outputs": [
    {
     "ename": "TypeError",
     "evalue": "'tuple' object does not support item assignment",
     "output_type": "error",
     "traceback": [
      "\u001b[1;31m---------------------------------------------------------------------------\u001b[0m",
      "\u001b[1;31mTypeError\u001b[0m                                 Traceback (most recent call last)",
      "\u001b[1;32m<ipython-input-7-8981f7db9ae0>\u001b[0m in \u001b[0;36m<module>\u001b[1;34m\u001b[0m\n\u001b[0;32m      1\u001b[0m \u001b[0meggs\u001b[0m \u001b[1;33m=\u001b[0m \u001b[1;33m(\u001b[0m\u001b[1;36m1\u001b[0m\u001b[1;33m,\u001b[0m\u001b[1;36m2\u001b[0m\u001b[1;33m,\u001b[0m\u001b[1;36m3\u001b[0m\u001b[1;33m,\u001b[0m\u001b[1;36m4\u001b[0m\u001b[1;33m)\u001b[0m\u001b[1;33m\u001b[0m\u001b[1;33m\u001b[0m\u001b[0m\n\u001b[1;32m----> 2\u001b[1;33m \u001b[0meggs\u001b[0m\u001b[1;33m[\u001b[0m\u001b[1;36m1\u001b[0m\u001b[1;33m]\u001b[0m \u001b[1;33m=\u001b[0m \u001b[1;36m6\u001b[0m\u001b[1;33m\u001b[0m\u001b[1;33m\u001b[0m\u001b[0m\n\u001b[0m\u001b[0;32m      3\u001b[0m \u001b[0mprint\u001b[0m\u001b[1;33m(\u001b[0m\u001b[0meggs\u001b[0m\u001b[1;33m)\u001b[0m\u001b[1;33m\u001b[0m\u001b[1;33m\u001b[0m\u001b[0m\n",
      "\u001b[1;31mTypeError\u001b[0m: 'tuple' object does not support item assignment"
     ]
    }
   ],
   "source": [
    "# 元组是不可变的 \n",
    "eggs = (1,2,3,4)\n",
    "eggs[1] = 6   # 'tuple' object does not support item assignment\n",
    "print(eggs)"
   ]
  },
  {
   "cell_type": "code",
   "execution_count": 10,
   "metadata": {},
   "outputs": [
    {
     "name": "stdout",
     "output_type": "stream",
     "text": [
      "<class 'str'>\n",
      "<class 'tuple'>\n"
     ]
    }
   ],
   "source": [
    "# 如果元组中只有一个值，可以在其后加上逗号来与字符串作区分\n",
    "print(type(('hello')))\n",
    "\n",
    "print(type(('hello',)))"
   ]
  },
  {
   "cell_type": "markdown",
   "metadata": {},
   "source": [
    "### 用list()和tuple()函数来转换类型"
   ]
  },
  {
   "cell_type": "code",
   "execution_count": 15,
   "metadata": {},
   "outputs": [
    {
     "name": "stdout",
     "output_type": "stream",
     "text": [
      "(1, 2, 3, 5, 5)\n",
      "[1, 2, 3, 4, 5]\n",
      "[1, 2, 3, 5, 5]\n",
      "['h', 'e', 'l', 'l', 'o']\n",
      "('h', 'e', 'l', 'l', 'o')\n"
     ]
    }
   ],
   "source": [
    "List = [1,2,3,5,5]\n",
    "\n",
    "Tuple = (1,2,3,4,5)\n",
    "\n",
    "print(tuple(List))\n",
    "print(list(Tuple))\n",
    "print(str(List))\n",
    "print(list('hello'))  # str ---> list\n",
    "print(tuple('hello')) # str ---> tuple"
   ]
  },
  {
   "cell_type": "markdown",
   "metadata": {},
   "source": [
    "## 7. 引用\n",
    "- 变量就像包含值的盒子\n",
    "- 列表变量实际上没有包含列表，而是包含了对列表的“引用”\n",
    "- 列表变量包含对列表值的引用，而不是列表值本身。对于字符串和整数值，变量就包含了字符串或整数值。\n",
    "- 在变量必须保存可变数据类型的值时，例如列表和字典。Python就使用引用\n",
    "- 对于不可变的数据类型的值，例如字符串、整型、元组，Python变量就保存值本身"
   ]
  },
  {
   "cell_type": "code",
   "execution_count": 16,
   "metadata": {},
   "outputs": [
    {
     "name": "stdout",
     "output_type": "stream",
     "text": [
      "100\n",
      "42\n"
     ]
    }
   ],
   "source": [
    "# 普通变量的拷贝 ---- 指向不同对象\n",
    "spam = 42\n",
    "cheese = spam \n",
    "spam = 100\n",
    "\n",
    "print(spam)\n",
    "print(cheese)"
   ]
  },
  {
   "cell_type": "code",
   "execution_count": 18,
   "metadata": {},
   "outputs": [
    {
     "name": "stdout",
     "output_type": "stream",
     "text": [
      "[1, 'hello', 3, 4, 5]\n",
      "[1, 'hello', 3, 4, 5]\n"
     ]
    }
   ],
   "source": [
    "# 列表是引用 ----- 指向同一列表\n",
    "spam = [1,2,3,4,5]\n",
    "cheese = spam\n",
    "cheese[1] = 'hello'\n",
    "\n",
    "print(spam)\n",
    "print(cheese)"
   ]
  },
  {
   "cell_type": "markdown",
   "metadata": {},
   "source": [
    "### 传递引用  ---  重点！！！！\n",
    "- 当函数调用时，参数的值被赋值给变元。对于列表和字典，这意味着变元得到的就是引用的拷贝  "
   ]
  },
  {
   "cell_type": "code",
   "execution_count": 19,
   "metadata": {},
   "outputs": [
    {
     "name": "stdout",
     "output_type": "stream",
     "text": [
      "[1, 2, 3, 'Hello']\n"
     ]
    }
   ],
   "source": [
    "def eggs(someParameter):     # 可以将列表和字典看作全局变量，在局部作用域的改变可以延续在全局中\n",
    "    someParameter.append('Hello')\n",
    "    \n",
    "spam = [1,2,3]\n",
    "eggs(spam)\n",
    "print(spam)"
   ]
  },
  {
   "cell_type": "markdown",
   "metadata": {},
   "source": [
    "### copy模块的copy()和deepcopy()函数\n",
    "- 作用：对列表进行修改，同时不改变原来的列表\n",
    "- copy.copy(): 复制列表或字典等可变值，而不只是复制引用\n",
    "- copy.deepcopy()：同时复制内部的列表--- 复制的列表中包含了列表   ??? "
   ]
  },
  {
   "cell_type": "code",
   "execution_count": 26,
   "metadata": {},
   "outputs": [
    {
     "name": "stdout",
     "output_type": "stream",
     "text": [
      "['a', 'b', ['c'], 'd']\n",
      "[32, 'b', ['c'], 'd']\n"
     ]
    }
   ],
   "source": [
    "#  copy.copy(): 复制列表或字典等可变值，而不只是复制引用\n",
    "import copy \n",
    "spam = ['a', 'b', ['c'], 'd']\n",
    "cheese = copy.copy(spam)   # spam和cheese指向独立的列表\n",
    "cheese[0] = 32\n",
    "\n",
    "print(spam)\n",
    "print(cheese)"
   ]
  },
  {
   "cell_type": "code",
   "execution_count": 24,
   "metadata": {},
   "outputs": [
    {
     "name": "stdout",
     "output_type": "stream",
     "text": [
      "['a', 'b', ['c', 'd']]\n",
      "['a', 'b', [32, 'd']]\n"
     ]
    }
   ],
   "source": [
    "#  copy.deepcopy()：同时复制内部的列表\n",
    "import copy \n",
    "spam = ['a', 'b', ['c', 'd']]\n",
    "cheese = copy.deepcopy(spam)\n",
    "cheese[2][0] = 32\n",
    "\n",
    "print(spam)\n",
    "print(cheese)"
   ]
  },
  {
   "cell_type": "markdown",
   "metadata": {},
   "source": [
    "## 8. 实践项目"
   ]
  },
  {
   "cell_type": "markdown",
   "metadata": {},
   "source": [
    "### 逗号代码\n",
    "- 编写函数，列表为参数，返回字符串。字符串中包含所有表项，表项之间用逗号和空格分隔"
   ]
  },
  {
   "cell_type": "code",
   "execution_count": 38,
   "metadata": {},
   "outputs": [
    {
     "name": "stdout",
     "output_type": "stream",
     "text": [
      "1\n",
      "2\n",
      "3\n",
      "\n",
      "['1', '2', '3']\n",
      "'1, 2, 3'\n",
      "<class 'str'>\n"
     ]
    }
   ],
   "source": [
    "def list2str(List):     # list转为字符串\n",
    "    string = str(List)\n",
    "    newStr = ''\n",
    "    newStr += '\\''\n",
    "    for i in range(len(string)):\n",
    "        if string[i] != '\\'' and string[i] != '[' and string[i] != ']':\n",
    "            newStr += string[i]\n",
    "        else:\n",
    "            continue\n",
    "    newStr += '\\''\n",
    "    return newStr\n",
    "\n",
    "List = []\n",
    "while True:\n",
    "    element = input()\n",
    "    if element == '':\n",
    "        break\n",
    "    else:\n",
    "        List = List + [element]\n",
    "    \n",
    "print(List)\n",
    "print(list2str(List))\n",
    "print(type(list2str(List)))"
   ]
  },
  {
   "cell_type": "markdown",
   "metadata": {},
   "source": [
    "### 字符图网络\n",
    "- 转置打印字符 --- 类似转置矩阵"
   ]
  },
  {
   "cell_type": "code",
   "execution_count": null,
   "metadata": {},
   "outputs": [],
   "source": []
  },
  {
   "cell_type": "code",
   "execution_count": null,
   "metadata": {},
   "outputs": [],
   "source": []
  }
 ],
 "metadata": {
  "kernelspec": {
   "display_name": "Python 3",
   "language": "python",
   "name": "python3"
  },
  "language_info": {
   "codemirror_mode": {
    "name": "ipython",
    "version": 3
   },
   "file_extension": ".py",
   "mimetype": "text/x-python",
   "name": "python",
   "nbconvert_exporter": "python",
   "pygments_lexer": "ipython3",
   "version": "3.8.5"
  }
 },
 "nbformat": 4,
 "nbformat_minor": 4
}
