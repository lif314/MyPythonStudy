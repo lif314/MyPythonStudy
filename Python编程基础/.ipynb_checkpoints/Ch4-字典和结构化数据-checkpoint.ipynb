{
 "cells": [
  {
   "cell_type": "markdown",
   "metadata": {},
   "source": [
    "# <center> Ch4 - 字典和结构化数据"
   ]
  },
  {
   "cell_type": "markdown",
   "metadata": {},
   "source": [
    "## 1. 字典数据类型\n",
    "- 键值对 ---- 索引可以是不同数据类型\n",
    "- {}\n",
    "- 开始键不一定是0，可任意"
   ]
  },
  {
   "cell_type": "code",
   "execution_count": 1,
   "metadata": {},
   "outputs": [
    {
     "name": "stdout",
     "output_type": "stream",
     "text": [
      "{'size': 'fat', 'color': 'gray', 'disposition': 'loud'}\n",
      "fat gray\n"
     ]
    }
   ],
   "source": [
    "myCat ={'size': 'fat', 'color': 'gray', 'disposition': 'loud'}\n",
    "print(myCat)\n",
    "print(myCat['size'], myCat['color'])"
   ]
  },
  {
   "cell_type": "markdown",
   "metadata": {},
   "source": [
    "### 字典和列表\n",
    "- 字典中的表项是无序的，不能切片，但能用任意值作为键\n",
    "- 访问不存在的键，KeyError"
   ]
  },
  {
   "cell_type": "code",
   "execution_count": 5,
   "metadata": {},
   "outputs": [
    {
     "name": "stdout",
     "output_type": "stream",
     "text": [
      "Enter a name:(blank to quit)\n",
      "Bob\n",
      "Dec 12 is the birthday of Bob\n",
      "Enter a name:(blank to quit)\n",
      "Lif\n",
      "I do not have birthday information for Lif, Is your new firend? (y or n):\n",
      "n\n",
      "Enter a name:(blank to quit)\n",
      "Lif\n",
      "I do not have birthday information for Lif, Is your new firend? (y or n):\n",
      "y\n",
      "What is their birthday?\n",
      "Mar 8\n",
      "Birthday database updated.\n",
      "Enter a name:(blank to quit)\n",
      "Lif\n",
      "Mar 8 is the birthday of Lif\n",
      "Enter a name:(blank to quit)\n",
      "\n"
     ]
    }
   ],
   "source": [
    "# 保存朋友生日的数据\n",
    "\n",
    "birthdays = {'Alice':'Apr 1', 'Bob':'Dec 12', 'Calor':'Mar 4'}\n",
    "\n",
    "while True:\n",
    "    print('Enter a name:(blank to quit)')\n",
    "    name = input()\n",
    "    if name == '':\n",
    "        break\n",
    "        \n",
    "    if name in birthdays:\n",
    "        print(birthdays[name] + ' is the birthday of ' + name)\n",
    "    else:\n",
    "        print('I do not have birthday information for ' + name + ', Is your new firend? (y or n):')\n",
    "        flag = input()\n",
    "        if flag == 'y':\n",
    "            print('What is their birthday?')\n",
    "            bday = input()\n",
    "            birthdays[name] = bday\n",
    "            print('Birthday database updated.')\n",
    "        else:\n",
    "            continue"
   ]
  },
  {
   "cell_type": "markdown",
   "metadata": {},
   "source": [
    "### keys(), values(), items()方法\n",
    "- keys():返回字典的键\n",
    "- values():返回字典的值\n",
    "- items():返回键值对\n",
    "- 这些方法返回的值不是真正的列表，它们不能被修改，没有append()方法\n",
    "- dict keys, dict values, dict items可以用于for循环\n",
    "- items()方法返回的dict_items值中，包含的是键和值的元组\n",
    "- 多重赋值技巧"
   ]
  },
  {
   "cell_type": "code",
   "execution_count": 6,
   "metadata": {},
   "outputs": [
    {
     "name": "stdout",
     "output_type": "stream",
     "text": [
      "{'Alice': 'Apr 1', 'Bob': 'Dec 12', 'Calor': 'Mar 4'}\n",
      "dict_keys(['Alice', 'Bob', 'Calor'])\n",
      "dict_values(['Apr 1', 'Dec 12', 'Mar 4'])\n",
      "dict_items([('Alice', 'Apr 1'), ('Bob', 'Dec 12'), ('Calor', 'Mar 4')])\n"
     ]
    }
   ],
   "source": [
    "birthdays = {'Alice':'Apr 1', 'Bob':'Dec 12', 'Calor':'Mar 4'}\n",
    "\n",
    "print(birthdays)\n",
    "print(birthdays.keys())\n",
    "print(birthdays.values())\n",
    "print(birthdays.items())"
   ]
  },
  {
   "cell_type": "code",
   "execution_count": 12,
   "metadata": {},
   "outputs": [
    {
     "name": "stdout",
     "output_type": "stream",
     "text": [
      "Alice Bob Calor \n",
      "Apr 1 Dec 12 Mar 4 \n",
      "('Alice', 'Apr 1') ('Bob', 'Dec 12') ('Calor', 'Mar 4') "
     ]
    }
   ],
   "source": [
    "# for循环\n",
    "birthdays = {'Alice':'Apr 1', 'Bob':'Dec 12', 'Calor':'Mar 4'}\n",
    "\n",
    "for k in birthdays.keys():\n",
    "    print(k, end = ' ', sep = ',')\n",
    "    \n",
    "print()\n",
    "for v in birthdays.values():\n",
    "    print(v, end = ' ', sep =',')\n",
    "\n",
    "print()\n",
    "for i in birthdays.items():\n",
    "    print(i, end = ' ', sep = ',')"
   ]
  },
  {
   "cell_type": "code",
   "execution_count": 15,
   "metadata": {},
   "outputs": [
    {
     "name": "stdout",
     "output_type": "stream",
     "text": [
      "Key: color, Value: red\n",
      "Key: age, Value: 42\n"
     ]
    }
   ],
   "source": [
    "# 多重赋值技巧\n",
    "\n",
    "spam = {'color':'red', 'age': 42}\n",
    "for k,v in spam.items():\n",
    "    print('Key: ' + k + ', Value: ' + str(v))"
   ]
  },
  {
   "cell_type": "markdown",
   "metadata": {},
   "source": [
    "### 检查字典中是否存在键和值\n",
    "- in\n",
    "- not in\n",
    "- 如果要检查一个值是否为字典中的键，可以直接将in和not in作用于字典本身"
   ]
  },
  {
   "cell_type": "code",
   "execution_count": 19,
   "metadata": {},
   "outputs": [
    {
     "name": "stdout",
     "output_type": "stream",
     "text": [
      "True\n",
      "True\n",
      "False\n",
      "True\n"
     ]
    }
   ],
   "source": [
    "birthdays = {'Alice':'Apr 1', 'Bob':'Dec 12', 'Calor':'Mar 4'}\n",
    "\n",
    "print('Alice' in birthdays.keys())\n",
    "print('Alice' in birthdays)   # 如果要检查一个值是否为字典中的键，可以直接将in和not in作用于字典本身\n",
    "print('Apr 1' in birthdays)\n",
    "print('Apr 1' in birthdays.values())"
   ]
  },
  {
   "cell_type": "markdown",
   "metadata": {},
   "source": [
    "### get()方法\n",
    "- 访问字典前必须判断字典中是否存在该值\n",
    "- get(key, other): 要取得其值的键，以及如果该键不存在时，返回备用值other"
   ]
  },
  {
   "cell_type": "code",
   "execution_count": 22,
   "metadata": {},
   "outputs": [
    {
     "name": "stdout",
     "output_type": "stream",
     "text": [
      "Apr 1\n",
      "0\n"
     ]
    }
   ],
   "source": [
    "birthdays = {'Alice':'Apr 1', 'Bob':'Dec 12', 'Calor':'Mar 4'}\n",
    "\n",
    "print(birthdays.get('Alice', 0))  # 存在，返回值\n",
    "print(birthdays.get('Hello', 0))  # 不存在，返回备用值0"
   ]
  },
  {
   "cell_type": "markdown",
   "metadata": {},
   "source": [
    "### setdefault()方法\n",
    "- 为字典中某个键设置默认值\n",
    "- setdefault(key,value):第一个参数，是要检查的键；第二个参数，是如果该键不存在时要设置的值。如果该键确实存在，返回键的值\n",
    "- 确保一个键是存在的"
   ]
  },
  {
   "cell_type": "code",
   "execution_count": 28,
   "metadata": {},
   "outputs": [
    {
     "name": "stdout",
     "output_type": "stream",
     "text": [
      "{'name': 'Pooka', 'age': 5, 'height': 184}\n",
      "{'name': 'Pooka', 'age': 5, 'height': 184, 'color': 'black'}\n",
      "black\n"
     ]
    }
   ],
   "source": [
    "# 设置默认值\n",
    "spam = {'name':'Pooka', 'age':5}\n",
    "if 'height' not in spam:\n",
    "    spam['height'] = 184\n",
    "\n",
    "print(spam)\n",
    "\n",
    "spam.setdefault('color', 'black')\n",
    "print(spam)\n",
    "print(spam.setdefault('color','white'))    # 键存在，返回值"
   ]
  },
  {
   "cell_type": "code",
   "execution_count": 30,
   "metadata": {},
   "outputs": [
    {
     "name": "stdout",
     "output_type": "stream",
     "text": [
      "{'T': 1, 'h': 2, 'e': 7, ' ': 19, 'b': 2, 'a': 13, 's': 6, 'i': 7, 'c': 4, 'd': 4, 't': 9, 'f': 2, 'l': 3, 'o': 6, 'w': 1, 'u': 3, 'n': 6, '.': 2, 'A': 1, 'p': 4, 'k': 1, 'm': 5, 'r': 3, 'y': 1}\n"
     ]
    }
   ],
   "source": [
    "# 计算一个字符串中每个字符出现的次数\n",
    "\n",
    "message = 'The basic data flow unit. A packet consists of a numeric timestamp and a shared pointer to an immutable payload.'\n",
    "\n",
    "count = {}\n",
    "for character in message:\n",
    "    count.setdefault(character,0)   # 不存在，默认为0\n",
    "    count[character] += 1           # 存在，加1\n",
    "    \n",
    "print(count)"
   ]
  },
  {
   "cell_type": "markdown",
   "metadata": {},
   "source": [
    "## 2. 漂亮打印\n",
    "- pprint.pprint():键排过序，字典本身包含嵌套的列表或字典 ---- pprint.pprint(someDictValue)\n",
    "- pprint.pformat()：将文本转换为字符串 --- pprint.pformat(someDictValue)\n",
    "- print(pprint.pformat(count)) == pprint.pprint(count)"
   ]
  },
  {
   "cell_type": "code",
   "execution_count": 34,
   "metadata": {},
   "outputs": [
    {
     "name": "stdout",
     "output_type": "stream",
     "text": [
      "{'T': 1, 'h': 2, 'e': 7, ' ': 19, 'b': 2, 'a': 13, 's': 6, 'i': 7, 'c': 4, 'd': 4, 't': 9, 'f': 2, 'l': 3, 'o': 6, 'w': 1, 'u': 3, 'n': 6, '.': 2, 'A': 1, 'p': 4, 'k': 1, 'm': 5, 'r': 3, 'y': 1}\n",
      "{' ': 19,\n",
      " '.': 2,\n",
      " 'A': 1,\n",
      " 'T': 1,\n",
      " 'a': 13,\n",
      " 'b': 2,\n",
      " 'c': 4,\n",
      " 'd': 4,\n",
      " 'e': 7,\n",
      " 'f': 2,\n",
      " 'h': 2,\n",
      " 'i': 7,\n",
      " 'k': 1,\n",
      " 'l': 3,\n",
      " 'm': 5,\n",
      " 'n': 6,\n",
      " 'o': 6,\n",
      " 'p': 4,\n",
      " 'r': 3,\n",
      " 's': 6,\n",
      " 't': 9,\n",
      " 'u': 3,\n",
      " 'w': 1,\n",
      " 'y': 1}\n"
     ]
    },
    {
     "data": {
      "text/plain": [
       "\"{' ': 19,\\n '.': 2,\\n 'A': 1,\\n 'T': 1,\\n 'a': 13,\\n 'b': 2,\\n 'c': 4,\\n 'd': 4,\\n 'e': 7,\\n 'f': 2,\\n 'h': 2,\\n 'i': 7,\\n 'k': 1,\\n 'l': 3,\\n 'm': 5,\\n 'n': 6,\\n 'o': 6,\\n 'p': 4,\\n 'r': 3,\\n 's': 6,\\n 't': 9,\\n 'u': 3,\\n 'w': 1,\\n 'y': 1}\""
      ]
     },
     "execution_count": 34,
     "metadata": {},
     "output_type": "execute_result"
    }
   ],
   "source": [
    "# 计算一个字符串中每个字符出现的次数\n",
    "import pprint\n",
    "message = 'The basic data flow unit. A packet consists of a numeric timestamp and a shared pointer to an immutable payload.'\n",
    "\n",
    "count = {}\n",
    "for character in message:\n",
    "    count.setdefault(character,0)   # 不存在，默认为0\n",
    "    count[character] += 1           # 存在，加1\n",
    "    \n",
    "print(count)\n",
    "pprint.pprint(count)\n",
    "pprint.pformat(count)   # 字符串\n",
    "# print(pprint.pformat(count))"
   ]
  },
  {
   "cell_type": "markdown",
   "metadata": {},
   "source": [
    "## 3. 使用数据结构对真实世界建模\n",
    "- 代数记谱法\n",
    "- 井字棋盘\n",
    "- 嵌套的字典和列表"
   ]
  },
  {
   "attachments": {
    "image.png": {
     "image/png": "[encoded data removed]"
    }
   },
   "cell_type": "markdown",
   "metadata": {},
   "source": [
    "### 井字棋盘 -- 待完善\n",
    "![image.png](attachment:image.png)"
   ]
  },
  {
   "cell_type": "code",
   "execution_count": 1,
   "metadata": {},
   "outputs": [
    {
     "name": "stdout",
     "output_type": "stream",
     "text": [
      " | | \n",
      "-+-+-\n",
      " | | \n",
      "-+-+-\n",
      " | | \n",
      "Turn for X. Move on which space?\n",
      "top-L\n",
      "X| | \n",
      "-+-+-\n",
      " | | \n",
      "-+-+-\n",
      " | | \n",
      "Turn for O. Move on which space?\n",
      "mid-R\n",
      "X| | \n",
      "-+-+-\n",
      " | |O\n",
      "-+-+-\n",
      " | | \n",
      "Turn for X. Move on which space?\n",
      "top-M\n",
      "X|X| \n",
      "-+-+-\n",
      " | |O\n",
      "-+-+-\n",
      " | | \n",
      "Turn for O. Move on which space?\n",
      "top-R\n",
      "X|X|O\n",
      "-+-+-\n",
      " | |O\n",
      "-+-+-\n",
      " | | \n",
      "Turn for X. Move on which space?\n",
      "\n",
      "X|X|O\n",
      "-+-+-\n",
      " | |O\n",
      "-+-+-\n",
      " | | \n",
      "Turn for O. Move on which space?\n",
      "\n",
      "X|X|O\n",
      "-+-+-\n",
      " | |O\n",
      "-+-+-\n",
      " | | \n",
      "Turn for X. Move on which space?\n",
      "\n",
      "X|X|O\n",
      "-+-+-\n",
      " | |O\n",
      "-+-+-\n",
      " | | \n",
      "Turn for O. Move on which space?\n",
      "\n",
      "X|X|O\n",
      "-+-+-\n",
      " | |O\n",
      "-+-+-\n",
      " | | \n",
      "Turn for X. Move on which space?\n",
      "\n",
      "X|X|O\n",
      "-+-+-\n",
      " | |O\n",
      "-+-+-\n",
      " | | \n"
     ]
    }
   ],
   "source": [
    "theBoard = {'top-L':' ', 'top-M':' ', 'top-R':' ',\n",
    "            'mid-L':' ', 'mid-M':' ', 'mid-R':' ',\n",
    "            'low-L':' ', 'low-M':' ', 'low-R':' '}   # 棋盘数据结构\n",
    "\n",
    "# 打印棋盘\n",
    "def printBoard(board):\n",
    "    print(board['top-L'] + '|' + board['top-M'] + '|' + board['top-R'])\n",
    "    print('-+-+-')\n",
    "    print(board['mid-L'] + '|' + board['mid-M'] + '|' + board['mid-R'])\n",
    "    print('-+-+-')\n",
    "    print(board['low-L'] + '|' + board['low-M'] + '|' + board['low-R'])\n",
    "\n",
    "turn = 'X'\n",
    "for i in range(9):\n",
    "    printBoard(theBoard)\n",
    "    print('Turn for ' + turn + '. Move on which space?')\n",
    "    move = input()\n",
    "    theBoard[move] = turn\n",
    "    if turn == 'X':\n",
    "        turn = 'O'\n",
    "    else:\n",
    "        turn = 'X'\n",
    "        \n",
    "printBoard(theBoard)"
   ]
  },
  {
   "cell_type": "markdown",
   "metadata": {},
   "source": [
    "### 嵌套的字典和列表\n",
    "- 列表适用于一组有序的值，字典适合于包含关联的键和值"
   ]
  },
  {
   "cell_type": "code",
   "execution_count": 6,
   "metadata": {},
   "outputs": [
    {
     "name": "stdout",
     "output_type": "stream",
     "text": [
      "{'Alice': {'apple': 5, 'pizza': 12},\n",
      " 'Bob': {'apple': 3, 'ham sandwishes': 3},\n",
      " 'Carol': {'apple pies': 1, 'cups': 3}}\n",
      "Number of things being brought:\n",
      " - apples 8\n",
      " - pizza 12\n",
      " - ham sandwishes 3\n",
      " - cups 3\n",
      " - apples pies 1\n"
     ]
    }
   ],
   "source": [
    "# 使用字典野餐中各人带的食材\n",
    "import pprint\n",
    "allGuests = {'Alice':{'apple':5, 'pizza':12},\n",
    "             'Bob':{'ham sandwishes':3, 'apple':3},\n",
    "             'Carol':{'cups':3, 'apple pies': 1}}\n",
    "\n",
    "pprint.pprint(allGuests)\n",
    "\n",
    "# 统计每种食材的数量\n",
    "def totalBrought(guests, item):\n",
    "    numBrought = 0\n",
    "    for k,v in guests.items():\n",
    "        numBrought = numBrought + v.get(item, 0)   # 字典嵌套 v是内层字典\n",
    "    return numBrought\n",
    "\n",
    "print('Number of things being brought:')\n",
    "print(' - apples ' + str(totalBrought(allGuests, 'apple')))\n",
    "print(' - pizza ' + str(totalBrought(allGuests, 'pizza')))\n",
    "print(' - ham sandwishes ' + str(totalBrought(allGuests, 'ham sandwishes')))\n",
    "print(' - cups ' + str(totalBrought(allGuests, 'cups')))\n",
    "print(' - apples pies ' + str(totalBrought(allGuests, 'apple pies')))"
   ]
  },
  {
   "cell_type": "markdown",
   "metadata": {},
   "source": [
    "## 4. 实践项目"
   ]
  },
  {
   "cell_type": "markdown",
   "metadata": {},
   "source": [
    "### 好玩的游戏物品清单\n",
    "- 显示物品清单\n",
    "- 计算总物品数量"
   ]
  },
  {
   "cell_type": "code",
   "execution_count": 16,
   "metadata": {},
   "outputs": [
    {
     "name": "stdout",
     "output_type": "stream",
     "text": [
      "Inventory:\n",
      "1 rope\n",
      "6 torch\n",
      "42 gold coin\n",
      "1 dagger\n",
      "12 arrow\n",
      "Total number of items: 62\n"
     ]
    }
   ],
   "source": [
    "stuff = {'rope':1, 'torch':6, 'gold coin':42, 'dagger':1, 'arrow':12}\n",
    "\n",
    "def displayInventory(stu):\n",
    "    totalStuff = 0\n",
    "    print('Inventory:')\n",
    "    for k,v in stu.items():\n",
    "        print(str(v) + ' ' + k)\n",
    "        totalStuff += v\n",
    "    print('Total number of items: ' + str(totalStuff))\n",
    "\n",
    "displayInventory(stuff)"
   ]
  },
  {
   "cell_type": "markdown",
   "metadata": {},
   "source": [
    "### 列表到字典的函数，针对好玩游戏物品清单\n",
    "- 假设政府一条龙的战利品为 dragonLoot = ['gold coin', 'dagger', 'gold coin','gold coin','ruby'] 将其添加到物品清单中"
   ]
  },
  {
   "cell_type": "code",
   "execution_count": 17,
   "metadata": {},
   "outputs": [
    {
     "name": "stdout",
     "output_type": "stream",
     "text": [
      "Inventory:\n",
      "1 rope\n",
      "6 torch\n",
      "45 gold coin\n",
      "2 dagger\n",
      "12 arrow\n",
      "1 ruby\n",
      "Total number of items: 67\n"
     ]
    }
   ],
   "source": [
    "stuff = {'rope':1, 'torch':6, 'gold coin':42, 'dagger':1, 'arrow':12}  # 物品清单 - 字典\n",
    "dragonLoot = ['gold coin', 'dagger', 'gold coin','gold coin','ruby']   # 战利品 - 列表\n",
    "\n",
    "# 添加物品\n",
    "def addToInventory(inventory, addedItems):\n",
    "    for item in addedItems:\n",
    "        if item in inventory.keys():\n",
    "            inventory[item] += 1\n",
    "        else:\n",
    "            inventory[item] = 1\n",
    "    return inventory\n",
    "\n",
    "# 显示物品清单\n",
    "def displayInventory(stu):\n",
    "    totalStuff = 0\n",
    "    print('Inventory:')\n",
    "    for k,v in stu.items():\n",
    "        print(str(v) + ' ' + k)\n",
    "        totalStuff += v\n",
    "    print('Total number of items: ' + str(totalStuff))\n",
    "    \n",
    "inv = addToInventory(stuff, dragonLoot)\n",
    "displayInventory(inv)    "
   ]
  }
 ],
 "metadata": {
  "kernelspec": {
   "display_name": "Python 3",
   "language": "python",
   "name": "python3"
  },
  "language_info": {
   "codemirror_mode": {
    "name": "ipython",
    "version": 3
   },
   "file_extension": ".py",
   "mimetype": "text/x-python",
   "name": "python",
   "nbconvert_exporter": "python",
   "pygments_lexer": "ipython3",
   "version": "3.8.5"
  }
 },
 "nbformat": 4,
 "nbformat_minor": 4
}
